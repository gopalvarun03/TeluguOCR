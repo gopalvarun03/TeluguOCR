{
 "cells": [
  {
   "cell_type": "code",
   "execution_count": 17,
   "id": "3de37371",
   "metadata": {},
   "outputs": [
    {
     "name": "stdout",
     "output_type": "stream",
     "text": [
      "True\n"
     ]
    }
   ],
   "source": [
    "import torch\n",
    "print(torch.cuda.is_available())"
   ]
  },
  {
   "cell_type": "code",
   "execution_count": 18,
   "id": "938b2224",
   "metadata": {},
   "outputs": [
    {
     "name": "stdout",
     "output_type": "stream",
     "text": [
      "True\n"
     ]
    }
   ],
   "source": [
    "import torch\n",
    "import torch.nn as nn\n",
    "import torch.nn.functional as F\n",
    "import numpy as np\n",
    "import time\n",
    "\n",
    "device = torch.device('cuda' if torch.cuda.is_available() else 'cpu')\n",
    "print(torch.cuda.is_available())\n",
    "# out look of the model\n",
    "batch_size = 64\n",
    "Number_of_images = 100\n",
    "Image_size = (40, 800)\n",
    "Image_embedding_size = 8\n",
    "Image_length = 100\n",
    "Text_embedding_size = 228\n",
    "Max_Number_of_Words = 45\n",
    "\n",
    "\n",
    "# Decoder parameters\n",
    "Layers = 2\n",
    "\n",
    "E_TO_D_Input_size = Image_embedding_size\n",
    "E_TO_D_output_size = 64\n",
    "\n",
    "D_Input_size = 64\n",
    "D_output_size = 64\n",
    "\n",
    "D_To_Output_Input_size = 64\n",
    "D_To_Output_output_size = Text_embedding_size\n",
    "\n",
    "\n",
    "# reverse Embedding parameters\n",
    "Reverse_Input_size = Text_embedding_size\n",
    "Reverse_output_size = Text_embedding_size \n",
    "\n",
    "drop_prob = 0.2"
   ]
  },
  {
   "cell_type": "code",
   "execution_count": 19,
   "id": "c6155e9f",
   "metadata": {},
   "outputs": [],
   "source": [
    "from torch.utils.data import Dataset, DataLoader\n",
    "import torch\n",
    "import os\n",
    "\n",
    "class TeluguOCRDataset(Dataset):\n",
    "    def __init__(self, image_file_path, label_file_path):\n",
    "        self.image_file_path = image_file_path\n",
    "        self.label_file_path = label_file_path\n",
    "    \n",
    "    def __len__(self):\n",
    "        return len(os.listdir(self.image_file_path))\n",
    "\n",
    "    def __getitem__(self, index):\n",
    "        image = torch.load(os.path.join(self.image_file_path, \"Image\"+str(index+1) + '.pt'))\n",
    "        label = torch.load(os.path.join(self.label_file_path, \"Label\"+str(index+1) + '.pt'))\n",
    "\n",
    "        new_image = torch.zeros((1, 40, 800))\n",
    "        new_label = torch.zeros((45, 9))\n",
    "\n",
    "        new_image[0, :, :image.shape[1]] = image\n",
    "        new_label[:label.shape[0], :] = label\n",
    "\n",
    "        return new_image, new_label, len(label), int(image.shape[1]/(9))"
   ]
  },
  {
   "cell_type": "code",
   "execution_count": 20,
   "id": "e19a1b0f",
   "metadata": {},
   "outputs": [],
   "source": [
    "# CNN model\n",
    "class EncoderCNN(nn.Module):\n",
    "    def __init__(self) -> None:\n",
    "        super(EncoderCNN, self).__init__()\n",
    "\n",
    "        self.conv_seq11 = nn.Sequential(\n",
    "            nn.Conv2d(1, 16, kernel_size=(7, 7), stride=(2, 2), padding=(3, 3)),\n",
    "            nn.Dropout2d(drop_prob),\n",
    "            nn.BatchNorm2d(16),\n",
    "            nn.SiLU(),\n",
    "        )\n",
    "\n",
    "        self.conv_seq12 = nn.Sequential(\n",
    "            nn.Conv2d(1, 16, kernel_size=(3, 3), stride=(2, 2), padding=(1, 1)),\n",
    "            nn.Dropout2d(drop_prob),\n",
    "            nn.BatchNorm2d(16),\n",
    "            nn.SiLU(),\n",
    "        )\n",
    "\n",
    "        self.conv_seq21 = nn.Sequential(\n",
    "            nn.Conv2d(16, 64, kernel_size=(7, 7), stride=(2, 2), padding=(3, 3)),\n",
    "            nn.Dropout2d(drop_prob),\n",
    "            nn.BatchNorm2d(64),\n",
    "            nn.SiLU(),\n",
    "        )\n",
    "        \n",
    "        self.conv_seq22 = nn.Sequential(\n",
    "            nn.Conv2d(16, 64, kernel_size=(3, 3), stride=(2, 2), padding=(1, 1)),\n",
    "            nn.Dropout2d(drop_prob),\n",
    "            nn.BatchNorm2d(64),\n",
    "            nn.SiLU(),\n",
    "        )\n",
    "\n",
    "        self.conv_seq31 = nn.Sequential(\n",
    "            nn.Conv2d(64, 128, kernel_size=(7, 7), stride=(2, 2), padding=(3, 3)),\n",
    "            nn.Dropout2d(drop_prob),\n",
    "            nn.BatchNorm2d(128),\n",
    "            nn.SiLU(),\n",
    "        )\n",
    "        \n",
    "        self.conv_seq32 = nn.Sequential(\n",
    "            nn.Conv2d(64, 128, kernel_size=(3, 3), stride=(2, 2), padding=(1, 1)),\n",
    "            nn.Dropout2d(drop_prob),\n",
    "            nn.BatchNorm2d(128),\n",
    "            nn.SiLU(),\n",
    "        )\n",
    "\n",
    "        # initializing weights of conv layers with he_normal\n",
    "        for m in self.modules():\n",
    "            if isinstance(m, nn.Conv2d):\n",
    "                nn.init.xavier_normal_(m.weight.data)\n",
    "                nn.init.constant_(m.bias.data, 0)\n",
    "\n",
    "        self.Linear_seq = nn.Sequential(\n",
    "            nn.Linear(128*5, 320),\n",
    "            nn.ReLU(),\n",
    "            nn.Linear(320, 160),\n",
    "            nn.ReLU(),\n",
    "            nn.Linear(160, 80),\n",
    "            nn.ReLU(),\n",
    "            nn.Linear(80, 40),\n",
    "            nn.ReLU(),\n",
    "            nn.Linear(40, 20),\n",
    "            nn.ReLU(),\n",
    "            nn.Linear(20, Image_embedding_size)\n",
    "        )\n",
    "\n",
    "        #initializing weights of linear layers with Xavier normal\n",
    "        for m in self.modules():\n",
    "            if isinstance(m, nn.Linear):\n",
    "                nn.init.xavier_normal_(m.weight.data)\n",
    "                nn.init.constant_(m.bias.data, 0)\n",
    "\n",
    "    def forward(self, x):\n",
    "        x = self.conv_seq11(x) + self.conv_seq12(x)\n",
    "        x = self.conv_seq21(x) + self.conv_seq22(x)\n",
    "        x = self.conv_seq31(x) + self.conv_seq32(x)\n",
    "\n",
    "        x = x.reshape(x.shape[0], 640, 100)\n",
    "        xx = []\n",
    "        for i in range(x.shape[0]):\n",
    "            t = x[i]  # Fixed indexing here\n",
    "            t = t.T\n",
    "            xx.append(t)\n",
    "\n",
    "        xx = torch.stack(xx)  # Use torch.stack to preserve batch dimension\n",
    "#         print(type(xx), len(xx), xx[0].shape)\n",
    "        x = self.Linear_seq(xx)\n",
    "#         print(x.shape,x.shape)\n",
    "        return x\n",
    "    \n",
    "# Img1 = torch.randn(64, 1, 40, 800).to(device)\n",
    "# model = EncoderCNN().to(device)\n",
    "# output1 = model(Img1)\n",
    "# print(output1.shape)"
   ]
  },
  {
   "cell_type": "code",
   "execution_count": 21,
   "id": "4755c9e4",
   "metadata": {},
   "outputs": [],
   "source": [
    "import torch\n",
    "import torch.nn as nn\n",
    "import torch.nn.functional as F\n",
    "\n",
    "\n",
    "class BayesianLinear(nn.Module):\n",
    "    def __init__(self, in_features, out_features, prior_var=0.02):\n",
    "        super(BayesianLinear, self).__init__()\n",
    "        self.in_features = in_features\n",
    "        self.out_features = out_features\n",
    "        self.prior_var = prior_var\n",
    "        self.weight_mu = nn.Parameter(torch.Tensor(out_features, in_features))\n",
    "        self.weight_rho = nn.Parameter(torch.Tensor(out_features, in_features))\n",
    "        self.bias_mu = nn.Parameter(torch.Tensor(out_features))\n",
    "        self.bias_rho = nn.Parameter(torch.Tensor(out_features))\n",
    "\n",
    "        self.weight_mu.requires_grad = True\n",
    "        self.weight_rho.requires_grad = True\n",
    "        self.bias_mu.requires_grad = True\n",
    "        self.bias_rho.requires_grad = True\n",
    "\n",
    "        self.reset_parameters()\n",
    "\n",
    "    def reset_parameters(self):\n",
    "        nn.init.xavier_normal_(self.weight_mu)\n",
    "        nn.init.constant_(self.weight_rho, -10)\n",
    "        nn.init.zeros_(self.bias_mu)\n",
    "        nn.init.constant_(self.bias_rho, -10)\n",
    "\n",
    "    def forward(self, x):\n",
    "        weight_sigma = torch.log1p(torch.exp(self.weight_rho))\n",
    "        bias_sigma = torch.log1p(torch.exp(self.bias_rho))\n",
    "        epsilon_weight = torch.randn_like(weight_sigma)\n",
    "        epsilon_bias = torch.randn_like(bias_sigma)\n",
    "        weight = self.weight_mu + weight_sigma * epsilon_weight\n",
    "        bias = self.bias_mu + bias_sigma * epsilon_bias\n",
    "        return F.linear(x, weight, bias)\n",
    "\n",
    "    def kl_divergence(self):\n",
    "        weight_sigma = torch.log1p(torch.exp(self.weight_rho))\n",
    "        bias_sigma = torch.log1p(torch.exp(self.bias_rho))\n",
    "        weight_var = weight_sigma ** 2\n",
    "        bias_var = bias_sigma ** 2\n",
    "        weight_kl = 0.5 * (weight_var + self.weight_mu ** 2 - 1 - weight_sigma)\n",
    "        bias_kl = 0.5 * (bias_var + self.bias_mu ** 2 - 1 - bias_sigma)\n",
    "        return weight_kl.sum() + bias_kl.sum()"
   ]
  },
  {
   "cell_type": "code",
   "execution_count": 40,
   "id": "cfdbb6d9",
   "metadata": {},
   "outputs": [],
   "source": [
    "\n",
    "# Decoder Using GRU\n",
    "class DECODER_RNN(nn.Module):\n",
    "    def __init__(self) -> None:\n",
    "        super(DECODER_RNN, self).__init__()\n",
    "\n",
    "        #----------------------------------------------LSTM------------------------------------\n",
    "        self.lstm1 = nn.LSTM(input_size=E_TO_D_Input_size, hidden_size=int(D_To_Output_output_size/2), num_layers=Layers, bidirectional = True, batch_first=True) #100 to 364\n",
    "        self.lstm2 = nn.LSTM(input_size=E_TO_D_Input_size, hidden_size=int(D_To_Output_output_size/2), num_layers=Layers, bidirectional = True, batch_first=True) #512 to 512\n",
    "        # self.lstm3 = nn.LSTM(input_size=E_TO_D_Input_size, hidden_size=int(D_To_Output_output_size/2), num_layers=Layers, bidirectional = True, batch_first=True) #512 to 512\n",
    "\n",
    "        self.concat_Linear = nn.Sequential(\n",
    "            nn.Linear(D_To_Output_output_size*2, D_To_Output_output_size),\n",
    "        )\n",
    "\n",
    "\n",
    "        # # -----------------------------------------------GRU------------------------------------\n",
    "        # self.gru1 = nn.GRU(input_size=E_TO_D_Input_size, \n",
    "        #                    hidden_size=int(D_To_Output_output_size/2), \n",
    "        #                    num_layers=Layers, \n",
    "        #                    bidirectional = True, \n",
    "        #                    batch_first=True, \n",
    "        #                    dropout= drop_prob)\n",
    "        \n",
    "        # self.gru2 = nn.GRU(input_size=E_TO_D_Input_size, \n",
    "        #                    hidden_size=int(D_To_Output_output_size/2), \n",
    "        #                    num_layers=Layers, \n",
    "        #                    bidirectional = True, \n",
    "        #                    batch_first=True, \n",
    "        #                    dropout= drop_prob)\n",
    "        \n",
    "        # self.gru3 = nn.GRU(input_size=E_TO_D_Input_size, \n",
    "        #                    hidden_size=int(D_To_Output_output_size/2), \n",
    "        #                    num_layers=Layers, \n",
    "        #                    bidirectional = True, \n",
    "        #                    batch_first=True, \n",
    "        #                    dropout= drop_prob)\n",
    "\n",
    "        # self.concat_Linear = nn.Sequential(\n",
    "        #     nn.Linear(D_To_Output_output_size*3, D_To_Output_output_size*2),\n",
    "        #     nn.ReLU(),\n",
    "        #     nn.Linear(D_To_Output_output_size*2, D_To_Output_output_size),\n",
    "        # )\n",
    "\n",
    "\n",
    "        #------------------------------------------Transformer-----------------------------------\n",
    "        # self.tranformerEncoderLayer = nn.TransformerEncoderLayer(d_model=D_To_Output_output_size,\n",
    "        #                                                         nhead=4,\n",
    "        #                                                         dim_feedforward=512,\n",
    "        #                                                         dropout=0.1,\n",
    "        #                                                         activation='relu',\n",
    "        #                                                         batch_first=True)\n",
    "        \n",
    "        # self.transformerEncoder = nn.TransformerEncoder(self.tranformerEncoderLayer, num_layers=2)\n",
    "\n",
    "        # reverse embedder\n",
    "        self.Linear_seq2 = nn.Sequential(\n",
    "            nn.Linear(D_To_Output_output_size ,Text_embedding_size)\n",
    "            # BayesianLinear(D_To_Output_output_size, Text_embedding_size),\n",
    "            # nn.ReLU(),\n",
    "            # BayesianLinear(Text_embedding_size, Text_embedding_size),\n",
    "        )\n",
    "\n",
    "        # initialising weights with xavier normal.\n",
    "        for m in self.modules():\n",
    "            if isinstance(m, nn.Linear):\n",
    "                nn.init.xavier_normal_(m.weight.data)\n",
    "                nn.init.constant_(m.bias.data, 0)\n",
    "            if isinstance(m, nn.GRU):\n",
    "                for name, param in m.named_parameters():\n",
    "                    if 'weight' in name:\n",
    "                        nn.init.xavier_normal_(param.data)\n",
    "                    else:\n",
    "                        nn.init.constant_(param.data, 0)\n",
    "            if isinstance(m, nn.LSTM):\n",
    "                for name, param in m.named_parameters():\n",
    "                    if 'weight' in name:\n",
    "                        nn.init.xavier_normal_(param.data)\n",
    "                    else:\n",
    "                        nn.init.constant_(param.data, 0)\n",
    "            if isinstance(m, nn.TransformerEncoderLayer):\n",
    "                for name, param in m.named_parameters():\n",
    "                    if 'weight' in name and param.data.dim() > 1:\n",
    "                        nn.init.xavier_normal_(param.data)\n",
    "                    else:\n",
    "                        nn.init.constant_(param.data, 0)\n",
    "\n",
    "    def initialise_hidden_states(self, batch_size):\n",
    "\n",
    "        # --------------------------Hidden states for LSTM-----------------------------------------\n",
    "        self.hidden1 = (torch.zeros(2*Layers, batch_size, int(D_To_Output_output_size/2)).to(device),\n",
    "                        torch.zeros(2*Layers, batch_size, int(D_To_Output_output_size/2)).to(device))\n",
    "        self.hidden2 = (torch.zeros(2*Layers, batch_size, int(D_To_Output_output_size/2)).to(device),\n",
    "                        torch.zeros(2*Layers, batch_size, int(D_To_Output_output_size/2)).to(device))\n",
    "        # self.hidden3 = (torch.zeros(2*Layers, batch_size, int(D_To_Output_output_size/2)).to(device),\n",
    "        #                 torch.zeros(2*Layers, batch_size, int(D_To_Output_output_size/2)).to(device))\n",
    "\n",
    "        # --------------------------Hidden states for GRU------------------------------------------\n",
    "        # self.hidden1 = torch.zeros(2*Layers, batch_size, int(D_To_Output_output_size/2)).to(device)\n",
    "        # self.hidden2 = torch.zeros(2*Layers, batch_size, int(D_To_Output_output_size/2)).to(device)\n",
    "        # self.hidden3 = torch.zeros(2*Layers, batch_size, int(D_To_Output_output_size/2)).to(device)\n",
    "\n",
    "    def forward(self, x):\n",
    "        self.initialise_hidden_states(x.shape[0])\n",
    "\n",
    "        #--------------------------------LSTM-------------------------\n",
    "        l1 = []\n",
    "        l2 = []\n",
    "        # l3 = []\n",
    "\n",
    "        for i in range(x.shape[2]):\n",
    "            if i%50 == 0:\n",
    "                self.initialise_hidden_states(x.shape[0])\n",
    "            temp, self.hidden1 = self.lstm1(x[:, :, i, :], self.hidden1)\n",
    "#             print(x[:, :, i, :].shape)\n",
    "            l1.append(temp)\n",
    "            \n",
    "            temp, self.hidden2 = self.lstm2(x[:, :, i, :], self.hidden2)\n",
    "            l2.append(temp)\n",
    "            # temp, self.hidden3 = self.lstm3(x[:, :, i, :], self.hidden3)\n",
    "            # l3.append(temp)\n",
    "        \n",
    "        l1 = torch.stack(l1, dim=1).squeeze(2)\n",
    "        l2 = torch.stack(l2, dim=1).squeeze(2)\n",
    "        # l3 = torch.stack(l3, dim=1).squeeze(2)\n",
    "\n",
    "        x = torch.cat((l1, l2), dim=2)\n",
    "        x = self.concat_Linear(x)\n",
    "\n",
    "        # #--------------------------------GRU-------------------------------\n",
    "        # l1 = []\n",
    "        # l2 = []\n",
    "        # l3 = []\n",
    "        # for i in range(x.shape[2]):\n",
    "        #     if i%50 == 0:\n",
    "        #         self.initialise_hidden_states(x.shape[0])\n",
    "\n",
    "        #     temp, self.hidden1 = self.gru1(x[:, :, i, :], self.hidden1)\n",
    "        #     temp = F.relu(temp)\n",
    "        #     l1.append(temp)\n",
    "\n",
    "        #     temp, self.hidden2 = self.gru2(x[:, :, i, :], self.hidden2)\n",
    "        #     temp = F.relu(temp)\n",
    "        #     l2.append(temp)\n",
    "\n",
    "        #     temp, self.hidden3 = self.gru3(x[:, :, i, :], self.hidden3)\n",
    "        #     temp = F.relu(temp)\n",
    "        #     l3.append(temp)\n",
    "        \n",
    "        # l1 = torch.stack(l1, dim=1).squeeze(2)\n",
    "        # l2 = torch.stack(l2, dim=1).squeeze(2)\n",
    "        # l3 = torch.stack(l3, dim=1).squeeze(2)\n",
    "\n",
    "        # x = torch.cat((l1, l2, l3), dim=2)\n",
    "        # x = self.concat_Linear(x)\n",
    "        \n",
    "        \n",
    "        #----------------------------Transformer-----------------------\n",
    "        # x = self.transformerEncoder(l1)\n",
    "\n",
    "\n",
    "        # reverse embedder\n",
    "        x = self.Linear_seq2(x).permute(1, 0, 2)\n",
    "#         print(self.hidden1[0].shape)\n",
    "        return x\n"
   ]
  },
  {
   "cell_type": "code",
   "execution_count": 41,
   "id": "73f03154",
   "metadata": {},
   "outputs": [],
   "source": [
    "\n",
    "def Epoch_Run(encoder, decoder, dataloader, optimizer, criterion, training = True):\n",
    "    if training:\n",
    "        encoder.train()\n",
    "        decoder.train()\n",
    "    else:\n",
    "        encoder.eval()\n",
    "        decoder.eval()\n",
    "    \n",
    "    epoch_loss = 0\n",
    "\n",
    "    idx = 1\n",
    "\n",
    "    for images, labels, target_lengths, input_lengths in dataloader:\n",
    "        if training:\n",
    "            print(\"T: \", idx, end = \"\\r\")\n",
    "        else:\n",
    "            print(\"V: \", idx, end = \"\\r\")\n",
    "\n",
    "        idx+=1\n",
    "        images = images.to(device)\n",
    "        labels = labels.to(device)\n",
    "        target_lengths = target_lengths.to(device)\n",
    "        input_lengths = input_lengths.to(device)\n",
    "\n",
    "        # Encoder\n",
    "#         print(images.shape)\n",
    "        ENC_output = encoder(images).unsqueeze(1)\n",
    "\n",
    "        # Decoder\n",
    "        # Dec_Out = torch.zeros(Image_length, images.shape[0], Text_embedding_size).to(device)\n",
    "        # for k in range(Image_length):\n",
    "        #     Dec_Out[k, : , :] = decoder(ENC_output[:, :, k, :], k%10 == 0).squeeze(1)\n",
    "\n",
    "        Dec_Out = decoder(ENC_output)\n",
    "\n",
    "        # applying log_softmax\n",
    "        \n",
    "        Dec_Out[:, :, 0:110] = F.log_softmax(Dec_Out[:, :, 0:110], dim=2)\n",
    "\n",
    "        Dec_Out[:, :, 110:131] = F.log_softmax(Dec_Out[:, :, 110:131], dim=2)\n",
    "        Dec_Out[:, :, 131:152] = F.log_softmax(Dec_Out[:, :, 131:152], dim=2)\n",
    "        \n",
    "        Dec_Out[:, :, 152:190] = F.log_softmax(Dec_Out[:, :, 152:190], dim=2)\n",
    "        Dec_Out[:, :, 190:228] = F.log_softmax(Dec_Out[:, :, 190:228], dim=2)\n",
    "\n",
    "        input_lengths = torch.full(size=(images.shape[0],), fill_value=100, dtype=torch.long).to(device)\n",
    "\n",
    "        # Loss Calculation\n",
    "        Loss = 0\n",
    "\n",
    "        # for base\n",
    "        Loss += criterion(Dec_Out[:, :, 0:110], labels[:, :,0], input_lengths, target_lengths)\n",
    "\n",
    "        # for vm1\n",
    "        Loss += criterion(Dec_Out[:, :,110:131], labels[:, :,1], input_lengths, target_lengths)\n",
    "        # for vm2\n",
    "        Loss += criterion(Dec_Out[:, :, 131:152], labels[:, :,2], input_lengths, target_lengths)\n",
    "\n",
    "        # for cm1\n",
    "        Loss += criterion(Dec_Out[:, :, 152:190], labels[:, :,5], input_lengths, target_lengths)\n",
    "        # for cm2\n",
    "        Loss += criterion(Dec_Out[:, :, 190:228], labels[:, :,6], input_lengths, target_lengths)\n",
    "\n",
    "\n",
    "\n",
    "        if training:\n",
    "            optimizer.zero_grad()\n",
    "            Loss.backward()\n",
    "            optimizer.step()\n",
    "\n",
    "        epoch_loss += Loss.item()\n",
    "\n",
    "    return epoch_loss"
   ]
  },
  {
   "cell_type": "code",
   "execution_count": null,
   "id": "aa8ace86",
   "metadata": {},
   "outputs": [
    {
     "name": "stdout",
     "output_type": "stream",
     "text": [
      "Epoch :  1  | Loss :  7.748009857477463  | Validation Loss :  6.60939044767337  | Time :  940.4658801555634\n",
      "Epoch :  2  | Loss :  5.837776426380532  | Validation Loss :  3.4840129555780592  | Time :  881.8253891468048\n",
      "Epoch :  3  | Loss :  2.0736318073167417  | Validation Loss :  1.327433511566608  | Time :  860.539971113205\n",
      "Epoch :  4  | Loss :  1.11111380723647  | Validation Loss :  0.9351220052750384  | Time :  852.841335773468\n",
      "Epoch :  5  | Loss :  0.816148618097889  | Validation Loss :  0.6940702421550595  | Time :  845.86829829216\n",
      "Epoch :  6  | Loss :  0.6697321864049786  | Validation Loss :  0.6123087275609186  | Time :  864.4428923130035\n",
      "Epoch :  7  | Loss :  0.584972932187335  | Validation Loss :  0.5491874991976671  | Time :  857.1193265914917\n",
      "T:  534\r"
     ]
    }
   ],
   "source": [
    "# from utils import *\n",
    "# from Decoders import DECODER_RNN\n",
    "# from cnn import EncoderCNN\n",
    "# from dataset import TeluguOCRDataset\n",
    "from torch.utils.data import DataLoader\n",
    "import matplotlib.pyplot as plt\n",
    "# from Epoch_Run import *\n",
    "torch.cuda.empty_cache()\n",
    "cnn = EncoderCNN().to(device)\n",
    "decoder = DECODER_RNN().to(device)\n",
    "\n",
    "# loss function and optimizer\n",
    "torch.autograd.set_detect_anomaly(True)\n",
    "criterion = nn.CTCLoss(blank=0, zero_infinity=True, reduction = 'mean') if torch.cuda.is_available() else nn.CTCLoss(blank=0, zero_infinity=True, reduction = 'mean')\n",
    "\n",
    "params = list(cnn.parameters()) + list(decoder.parameters())\n",
    "optimizer = torch.optim.Adam(params, lr=1e-3, weight_decay=1e-5)\n",
    "\n",
    "clip = 5\n",
    "torch.nn.utils.clip_grad_norm_(params, clip)\n",
    "\n",
    "num_of_epochs = 10\n",
    "\n",
    "Losses = []\n",
    "val_losses = []\n",
    "\n",
    "save_num = 1\n",
    "\n",
    "dataset = TeluguOCRDataset(r\"C:/Users/Varun Gopal/Desktop/TeluguOCR_MLProject/KLA_Intern/Dataset/Cropped_Dataset/Images\", r\"C:/Users/Varun Gopal/Desktop/TeluguOCR_MLProject/KLA_Intern/Dataset/Cropped_Dataset/Labels\")\n",
    "\n",
    "# splitting the dataset into training and validation\n",
    "torch.manual_seed(0)\n",
    "train_dataset, val_dataset = torch.utils.data.random_split(dataset, [0.7, 0.3])\n",
    "\n",
    "train_dataloader = DataLoader(train_dataset, batch_size=64, shuffle=True)\n",
    "val_dataloader = DataLoader(val_dataset, batch_size=64, shuffle=True)\n",
    "\n",
    "for epoch in range(1, num_of_epochs + 1):\n",
    "    start_time = time.time()\n",
    "    # training\n",
    "    epoch_loss = Epoch_Run(cnn, decoder, train_dataloader, optimizer, criterion, training = True)\n",
    "    # validation\n",
    "    val_loss = Epoch_Run(cnn, decoder, val_dataloader, optimizer, criterion, training = False)\n",
    "\n",
    "    print(\"Epoch : \", epoch, \" | Loss : \", (epoch_loss*64)/len(train_dataset), \" | Validation Loss : \", (val_loss*64)/len(val_dataset), \" | Time : \", time.time() - start_time)\n",
    "    Losses.append((epoch_loss*64)/len(train_dataset))\n",
    "    val_losses.append((val_loss*64)/len(val_dataset))\n",
    "    if epoch %10 == 0:\n",
    "        # torch.save(cnn.state_dict(), \"/home/ocr/teluguOCR/Models/Best_CNN/GRU1/Model\" + str(save_num) + \".pth\")\n",
    "        # torch.save(decoder.state_dict(), \"/home/ocr/teluguOCR/Models/Best_RNN/GRU1/Model\" + str(save_num) + \".pth\")\n",
    "        save_num += 1\n",
    "        # saving the losses into a pt file\n",
    "        # torch.save(torch.tensor(Losses), \"/home/ocr/teluguOCR/Losses/Training_GRU1.pt\")\n",
    "        # torch.save(torch.tensor(val_losses), \"/home/ocr/teluguOCR/Losses/Validation_GRU1.pt\")\n",
    "        \n",
    "\n",
    "# Plotting the losses\n",
    "plt.figure(figsize=(12, 8))\n",
    "plt.plot(Losses, label = \"Training Loss\", color = 'blue')\n",
    "plt.plot(val_losses, label = \"Validation Loss\", color = 'red')\n",
    "plt.legend(\n",
    "    loc='upper center',\n",
    "    bbox_to_anchor=(0.5, -0.05),\n",
    "    shadow=True,\n",
    "    ncol=2\n",
    ")\n",
    "plt.title(\"Losses\")\n",
    "plt.xlabel(\"Epochs\")\n",
    "plt.ylabel(\"Loss\")\n",
    "plt.savefig(r\"C:/Users/Varun Gopal/Desktop/TeluguOCR_MLProject/KLA_Intern/Losses_GRU1.png\")      "
   ]
  },
  {
   "cell_type": "code",
   "execution_count": 62,
   "id": "8d4be54e",
   "metadata": {},
   "outputs": [],
   "source": [
    "torch.cuda.empty_cache()"
   ]
  },
  {
   "cell_type": "code",
   "execution_count": 184,
   "id": "973efcfd",
   "metadata": {},
   "outputs": [],
   "source": [
    "index = 110\n",
    "image = torch.load(os.path.join(r\"C:/Users/Varun Gopal/Desktop/TeluguOCR_MLProject/KLA_Intern/Dataset/Cropped_Dataset/Images\", \"Image\"+str(index+1) + '.pt')).to(torch.float32).to(device)\n",
    "label = torch.load(os.path.join(r\"C:/Users/Varun Gopal/Desktop/TeluguOCR_MLProject/KLA_Intern/Dataset/Cropped_Dataset/Labels\", \"Label\"+str(index+1) + '.pt'))\n",
    "\n",
    "new_image = torch.zeros((1, 40, 800))\n",
    "new_label = torch.zeros((45, 9))\n",
    "\n",
    "new_image[0, :, :image.shape[1]] = image\n",
    "new_label[:label.shape[0], :] = label"
   ]
  },
  {
   "cell_type": "code",
   "execution_count": 185,
   "id": "bede0a74",
   "metadata": {},
   "outputs": [
    {
     "ename": "TypeError",
     "evalue": "can't convert cuda:0 device type tensor to numpy. Use Tensor.cpu() to copy the tensor to host memory first.",
     "output_type": "error",
     "traceback": [
      "\u001b[1;31m---------------------------------------------------------------------------\u001b[0m",
      "\u001b[1;31mTypeError\u001b[0m                                 Traceback (most recent call last)",
      "Cell \u001b[1;32mIn[185], line 1\u001b[0m\n\u001b[1;32m----> 1\u001b[0m plt\u001b[38;5;241m.\u001b[39mimshow(np\u001b[38;5;241m.\u001b[39marray(image))\n\u001b[0;32m      2\u001b[0m \u001b[38;5;28mprint\u001b[39m(image\u001b[38;5;241m.\u001b[39mshape)\n\u001b[0;32m      3\u001b[0m \u001b[38;5;66;03m# for image,label,j,l in train_dataset:\u001b[39;00m\n\u001b[0;32m      4\u001b[0m \u001b[38;5;66;03m#     print(image.shape)\u001b[39;00m\n",
      "File \u001b[1;32m~\\anaconda3\\envs\\pytrchkl\\Lib\\site-packages\\torch\\_tensor.py:1062\u001b[0m, in \u001b[0;36mTensor.__array__\u001b[1;34m(self, dtype)\u001b[0m\n\u001b[0;32m   1060\u001b[0m     \u001b[38;5;28;01mreturn\u001b[39;00m handle_torch_function(Tensor\u001b[38;5;241m.\u001b[39m__array__, (\u001b[38;5;28mself\u001b[39m,), \u001b[38;5;28mself\u001b[39m, dtype\u001b[38;5;241m=\u001b[39mdtype)\n\u001b[0;32m   1061\u001b[0m \u001b[38;5;28;01mif\u001b[39;00m dtype \u001b[38;5;129;01mis\u001b[39;00m \u001b[38;5;28;01mNone\u001b[39;00m:\n\u001b[1;32m-> 1062\u001b[0m     \u001b[38;5;28;01mreturn\u001b[39;00m \u001b[38;5;28mself\u001b[39m\u001b[38;5;241m.\u001b[39mnumpy()\n\u001b[0;32m   1063\u001b[0m \u001b[38;5;28;01melse\u001b[39;00m:\n\u001b[0;32m   1064\u001b[0m     \u001b[38;5;28;01mreturn\u001b[39;00m \u001b[38;5;28mself\u001b[39m\u001b[38;5;241m.\u001b[39mnumpy()\u001b[38;5;241m.\u001b[39mastype(dtype, copy\u001b[38;5;241m=\u001b[39m\u001b[38;5;28;01mFalse\u001b[39;00m)\n",
      "\u001b[1;31mTypeError\u001b[0m: can't convert cuda:0 device type tensor to numpy. Use Tensor.cpu() to copy the tensor to host memory first."
     ]
    }
   ],
   "source": [
    "plt.imshow(np.array(image))\n",
    "print(image.shape)\n",
    "# for image,label,j,l in train_dataset:\n",
    "#     print(image.shape)\n",
    "len(dataset) "
   ]
  },
  {
   "cell_type": "code",
   "execution_count": 186,
   "id": "90752d03",
   "metadata": {},
   "outputs": [
    {
     "ename": "ValueError",
     "evalue": "expected 4D input (got 3D input)",
     "output_type": "error",
     "traceback": [
      "\u001b[1;31m---------------------------------------------------------------------------\u001b[0m",
      "\u001b[1;31mValueError\u001b[0m                                Traceback (most recent call last)",
      "Cell \u001b[1;32mIn[186], line 1\u001b[0m\n\u001b[1;32m----> 1\u001b[0m cnn(image\u001b[38;5;241m.\u001b[39munsqueeze(\u001b[38;5;241m0\u001b[39m))\n",
      "File \u001b[1;32m~\\anaconda3\\envs\\pytrchkl\\Lib\\site-packages\\torch\\nn\\modules\\module.py:1511\u001b[0m, in \u001b[0;36mModule._wrapped_call_impl\u001b[1;34m(self, *args, **kwargs)\u001b[0m\n\u001b[0;32m   1509\u001b[0m     \u001b[38;5;28;01mreturn\u001b[39;00m \u001b[38;5;28mself\u001b[39m\u001b[38;5;241m.\u001b[39m_compiled_call_impl(\u001b[38;5;241m*\u001b[39margs, \u001b[38;5;241m*\u001b[39m\u001b[38;5;241m*\u001b[39mkwargs)  \u001b[38;5;66;03m# type: ignore[misc]\u001b[39;00m\n\u001b[0;32m   1510\u001b[0m \u001b[38;5;28;01melse\u001b[39;00m:\n\u001b[1;32m-> 1511\u001b[0m     \u001b[38;5;28;01mreturn\u001b[39;00m \u001b[38;5;28mself\u001b[39m\u001b[38;5;241m.\u001b[39m_call_impl(\u001b[38;5;241m*\u001b[39margs, \u001b[38;5;241m*\u001b[39m\u001b[38;5;241m*\u001b[39mkwargs)\n",
      "File \u001b[1;32m~\\anaconda3\\envs\\pytrchkl\\Lib\\site-packages\\torch\\nn\\modules\\module.py:1520\u001b[0m, in \u001b[0;36mModule._call_impl\u001b[1;34m(self, *args, **kwargs)\u001b[0m\n\u001b[0;32m   1515\u001b[0m \u001b[38;5;66;03m# If we don't have any hooks, we want to skip the rest of the logic in\u001b[39;00m\n\u001b[0;32m   1516\u001b[0m \u001b[38;5;66;03m# this function, and just call forward.\u001b[39;00m\n\u001b[0;32m   1517\u001b[0m \u001b[38;5;28;01mif\u001b[39;00m \u001b[38;5;129;01mnot\u001b[39;00m (\u001b[38;5;28mself\u001b[39m\u001b[38;5;241m.\u001b[39m_backward_hooks \u001b[38;5;129;01mor\u001b[39;00m \u001b[38;5;28mself\u001b[39m\u001b[38;5;241m.\u001b[39m_backward_pre_hooks \u001b[38;5;129;01mor\u001b[39;00m \u001b[38;5;28mself\u001b[39m\u001b[38;5;241m.\u001b[39m_forward_hooks \u001b[38;5;129;01mor\u001b[39;00m \u001b[38;5;28mself\u001b[39m\u001b[38;5;241m.\u001b[39m_forward_pre_hooks\n\u001b[0;32m   1518\u001b[0m         \u001b[38;5;129;01mor\u001b[39;00m _global_backward_pre_hooks \u001b[38;5;129;01mor\u001b[39;00m _global_backward_hooks\n\u001b[0;32m   1519\u001b[0m         \u001b[38;5;129;01mor\u001b[39;00m _global_forward_hooks \u001b[38;5;129;01mor\u001b[39;00m _global_forward_pre_hooks):\n\u001b[1;32m-> 1520\u001b[0m     \u001b[38;5;28;01mreturn\u001b[39;00m forward_call(\u001b[38;5;241m*\u001b[39margs, \u001b[38;5;241m*\u001b[39m\u001b[38;5;241m*\u001b[39mkwargs)\n\u001b[0;32m   1522\u001b[0m \u001b[38;5;28;01mtry\u001b[39;00m:\n\u001b[0;32m   1523\u001b[0m     result \u001b[38;5;241m=\u001b[39m \u001b[38;5;28;01mNone\u001b[39;00m\n",
      "Cell \u001b[1;32mIn[174], line 75\u001b[0m, in \u001b[0;36mEncoderCNN.forward\u001b[1;34m(self, x)\u001b[0m\n\u001b[0;32m     74\u001b[0m \u001b[38;5;28;01mdef\u001b[39;00m \u001b[38;5;21mforward\u001b[39m(\u001b[38;5;28mself\u001b[39m, x):\n\u001b[1;32m---> 75\u001b[0m     x \u001b[38;5;241m=\u001b[39m \u001b[38;5;28mself\u001b[39m\u001b[38;5;241m.\u001b[39mconv_seq11(x) \u001b[38;5;241m+\u001b[39m \u001b[38;5;28mself\u001b[39m\u001b[38;5;241m.\u001b[39mconv_seq12(x)\n\u001b[0;32m     76\u001b[0m     x \u001b[38;5;241m=\u001b[39m \u001b[38;5;28mself\u001b[39m\u001b[38;5;241m.\u001b[39mconv_seq21(x) \u001b[38;5;241m+\u001b[39m \u001b[38;5;28mself\u001b[39m\u001b[38;5;241m.\u001b[39mconv_seq22(x)\n\u001b[0;32m     77\u001b[0m     x \u001b[38;5;241m=\u001b[39m \u001b[38;5;28mself\u001b[39m\u001b[38;5;241m.\u001b[39mconv_seq31(x) \u001b[38;5;241m+\u001b[39m \u001b[38;5;28mself\u001b[39m\u001b[38;5;241m.\u001b[39mconv_seq32(x)\n",
      "File \u001b[1;32m~\\anaconda3\\envs\\pytrchkl\\Lib\\site-packages\\torch\\nn\\modules\\module.py:1511\u001b[0m, in \u001b[0;36mModule._wrapped_call_impl\u001b[1;34m(self, *args, **kwargs)\u001b[0m\n\u001b[0;32m   1509\u001b[0m     \u001b[38;5;28;01mreturn\u001b[39;00m \u001b[38;5;28mself\u001b[39m\u001b[38;5;241m.\u001b[39m_compiled_call_impl(\u001b[38;5;241m*\u001b[39margs, \u001b[38;5;241m*\u001b[39m\u001b[38;5;241m*\u001b[39mkwargs)  \u001b[38;5;66;03m# type: ignore[misc]\u001b[39;00m\n\u001b[0;32m   1510\u001b[0m \u001b[38;5;28;01melse\u001b[39;00m:\n\u001b[1;32m-> 1511\u001b[0m     \u001b[38;5;28;01mreturn\u001b[39;00m \u001b[38;5;28mself\u001b[39m\u001b[38;5;241m.\u001b[39m_call_impl(\u001b[38;5;241m*\u001b[39margs, \u001b[38;5;241m*\u001b[39m\u001b[38;5;241m*\u001b[39mkwargs)\n",
      "File \u001b[1;32m~\\anaconda3\\envs\\pytrchkl\\Lib\\site-packages\\torch\\nn\\modules\\module.py:1520\u001b[0m, in \u001b[0;36mModule._call_impl\u001b[1;34m(self, *args, **kwargs)\u001b[0m\n\u001b[0;32m   1515\u001b[0m \u001b[38;5;66;03m# If we don't have any hooks, we want to skip the rest of the logic in\u001b[39;00m\n\u001b[0;32m   1516\u001b[0m \u001b[38;5;66;03m# this function, and just call forward.\u001b[39;00m\n\u001b[0;32m   1517\u001b[0m \u001b[38;5;28;01mif\u001b[39;00m \u001b[38;5;129;01mnot\u001b[39;00m (\u001b[38;5;28mself\u001b[39m\u001b[38;5;241m.\u001b[39m_backward_hooks \u001b[38;5;129;01mor\u001b[39;00m \u001b[38;5;28mself\u001b[39m\u001b[38;5;241m.\u001b[39m_backward_pre_hooks \u001b[38;5;129;01mor\u001b[39;00m \u001b[38;5;28mself\u001b[39m\u001b[38;5;241m.\u001b[39m_forward_hooks \u001b[38;5;129;01mor\u001b[39;00m \u001b[38;5;28mself\u001b[39m\u001b[38;5;241m.\u001b[39m_forward_pre_hooks\n\u001b[0;32m   1518\u001b[0m         \u001b[38;5;129;01mor\u001b[39;00m _global_backward_pre_hooks \u001b[38;5;129;01mor\u001b[39;00m _global_backward_hooks\n\u001b[0;32m   1519\u001b[0m         \u001b[38;5;129;01mor\u001b[39;00m _global_forward_hooks \u001b[38;5;129;01mor\u001b[39;00m _global_forward_pre_hooks):\n\u001b[1;32m-> 1520\u001b[0m     \u001b[38;5;28;01mreturn\u001b[39;00m forward_call(\u001b[38;5;241m*\u001b[39margs, \u001b[38;5;241m*\u001b[39m\u001b[38;5;241m*\u001b[39mkwargs)\n\u001b[0;32m   1522\u001b[0m \u001b[38;5;28;01mtry\u001b[39;00m:\n\u001b[0;32m   1523\u001b[0m     result \u001b[38;5;241m=\u001b[39m \u001b[38;5;28;01mNone\u001b[39;00m\n",
      "File \u001b[1;32m~\\anaconda3\\envs\\pytrchkl\\Lib\\site-packages\\torch\\nn\\modules\\container.py:217\u001b[0m, in \u001b[0;36mSequential.forward\u001b[1;34m(self, input)\u001b[0m\n\u001b[0;32m    215\u001b[0m \u001b[38;5;28;01mdef\u001b[39;00m \u001b[38;5;21mforward\u001b[39m(\u001b[38;5;28mself\u001b[39m, \u001b[38;5;28minput\u001b[39m):\n\u001b[0;32m    216\u001b[0m     \u001b[38;5;28;01mfor\u001b[39;00m module \u001b[38;5;129;01min\u001b[39;00m \u001b[38;5;28mself\u001b[39m:\n\u001b[1;32m--> 217\u001b[0m         \u001b[38;5;28minput\u001b[39m \u001b[38;5;241m=\u001b[39m module(\u001b[38;5;28minput\u001b[39m)\n\u001b[0;32m    218\u001b[0m     \u001b[38;5;28;01mreturn\u001b[39;00m \u001b[38;5;28minput\u001b[39m\n",
      "File \u001b[1;32m~\\anaconda3\\envs\\pytrchkl\\Lib\\site-packages\\torch\\nn\\modules\\module.py:1511\u001b[0m, in \u001b[0;36mModule._wrapped_call_impl\u001b[1;34m(self, *args, **kwargs)\u001b[0m\n\u001b[0;32m   1509\u001b[0m     \u001b[38;5;28;01mreturn\u001b[39;00m \u001b[38;5;28mself\u001b[39m\u001b[38;5;241m.\u001b[39m_compiled_call_impl(\u001b[38;5;241m*\u001b[39margs, \u001b[38;5;241m*\u001b[39m\u001b[38;5;241m*\u001b[39mkwargs)  \u001b[38;5;66;03m# type: ignore[misc]\u001b[39;00m\n\u001b[0;32m   1510\u001b[0m \u001b[38;5;28;01melse\u001b[39;00m:\n\u001b[1;32m-> 1511\u001b[0m     \u001b[38;5;28;01mreturn\u001b[39;00m \u001b[38;5;28mself\u001b[39m\u001b[38;5;241m.\u001b[39m_call_impl(\u001b[38;5;241m*\u001b[39margs, \u001b[38;5;241m*\u001b[39m\u001b[38;5;241m*\u001b[39mkwargs)\n",
      "File \u001b[1;32m~\\anaconda3\\envs\\pytrchkl\\Lib\\site-packages\\torch\\nn\\modules\\module.py:1520\u001b[0m, in \u001b[0;36mModule._call_impl\u001b[1;34m(self, *args, **kwargs)\u001b[0m\n\u001b[0;32m   1515\u001b[0m \u001b[38;5;66;03m# If we don't have any hooks, we want to skip the rest of the logic in\u001b[39;00m\n\u001b[0;32m   1516\u001b[0m \u001b[38;5;66;03m# this function, and just call forward.\u001b[39;00m\n\u001b[0;32m   1517\u001b[0m \u001b[38;5;28;01mif\u001b[39;00m \u001b[38;5;129;01mnot\u001b[39;00m (\u001b[38;5;28mself\u001b[39m\u001b[38;5;241m.\u001b[39m_backward_hooks \u001b[38;5;129;01mor\u001b[39;00m \u001b[38;5;28mself\u001b[39m\u001b[38;5;241m.\u001b[39m_backward_pre_hooks \u001b[38;5;129;01mor\u001b[39;00m \u001b[38;5;28mself\u001b[39m\u001b[38;5;241m.\u001b[39m_forward_hooks \u001b[38;5;129;01mor\u001b[39;00m \u001b[38;5;28mself\u001b[39m\u001b[38;5;241m.\u001b[39m_forward_pre_hooks\n\u001b[0;32m   1518\u001b[0m         \u001b[38;5;129;01mor\u001b[39;00m _global_backward_pre_hooks \u001b[38;5;129;01mor\u001b[39;00m _global_backward_hooks\n\u001b[0;32m   1519\u001b[0m         \u001b[38;5;129;01mor\u001b[39;00m _global_forward_hooks \u001b[38;5;129;01mor\u001b[39;00m _global_forward_pre_hooks):\n\u001b[1;32m-> 1520\u001b[0m     \u001b[38;5;28;01mreturn\u001b[39;00m forward_call(\u001b[38;5;241m*\u001b[39margs, \u001b[38;5;241m*\u001b[39m\u001b[38;5;241m*\u001b[39mkwargs)\n\u001b[0;32m   1522\u001b[0m \u001b[38;5;28;01mtry\u001b[39;00m:\n\u001b[0;32m   1523\u001b[0m     result \u001b[38;5;241m=\u001b[39m \u001b[38;5;28;01mNone\u001b[39;00m\n",
      "File \u001b[1;32m~\\anaconda3\\envs\\pytrchkl\\Lib\\site-packages\\torch\\nn\\modules\\batchnorm.py:142\u001b[0m, in \u001b[0;36m_BatchNorm.forward\u001b[1;34m(self, input)\u001b[0m\n\u001b[0;32m    141\u001b[0m \u001b[38;5;28;01mdef\u001b[39;00m \u001b[38;5;21mforward\u001b[39m(\u001b[38;5;28mself\u001b[39m, \u001b[38;5;28minput\u001b[39m: Tensor) \u001b[38;5;241m-\u001b[39m\u001b[38;5;241m>\u001b[39m Tensor:\n\u001b[1;32m--> 142\u001b[0m     \u001b[38;5;28mself\u001b[39m\u001b[38;5;241m.\u001b[39m_check_input_dim(\u001b[38;5;28minput\u001b[39m)\n\u001b[0;32m    144\u001b[0m     \u001b[38;5;66;03m# exponential_average_factor is set to self.momentum\u001b[39;00m\n\u001b[0;32m    145\u001b[0m     \u001b[38;5;66;03m# (when it is available) only so that it gets updated\u001b[39;00m\n\u001b[0;32m    146\u001b[0m     \u001b[38;5;66;03m# in ONNX graph when this node is exported to ONNX.\u001b[39;00m\n\u001b[0;32m    147\u001b[0m     \u001b[38;5;28;01mif\u001b[39;00m \u001b[38;5;28mself\u001b[39m\u001b[38;5;241m.\u001b[39mmomentum \u001b[38;5;129;01mis\u001b[39;00m \u001b[38;5;28;01mNone\u001b[39;00m:\n",
      "File \u001b[1;32m~\\anaconda3\\envs\\pytrchkl\\Lib\\site-packages\\torch\\nn\\modules\\batchnorm.py:420\u001b[0m, in \u001b[0;36mBatchNorm2d._check_input_dim\u001b[1;34m(self, input)\u001b[0m\n\u001b[0;32m    418\u001b[0m \u001b[38;5;28;01mdef\u001b[39;00m \u001b[38;5;21m_check_input_dim\u001b[39m(\u001b[38;5;28mself\u001b[39m, \u001b[38;5;28minput\u001b[39m):\n\u001b[0;32m    419\u001b[0m     \u001b[38;5;28;01mif\u001b[39;00m \u001b[38;5;28minput\u001b[39m\u001b[38;5;241m.\u001b[39mdim() \u001b[38;5;241m!=\u001b[39m \u001b[38;5;241m4\u001b[39m:\n\u001b[1;32m--> 420\u001b[0m         \u001b[38;5;28;01mraise\u001b[39;00m \u001b[38;5;167;01mValueError\u001b[39;00m(\u001b[38;5;124mf\u001b[39m\u001b[38;5;124m\"\u001b[39m\u001b[38;5;124mexpected 4D input (got \u001b[39m\u001b[38;5;132;01m{\u001b[39;00m\u001b[38;5;28minput\u001b[39m\u001b[38;5;241m.\u001b[39mdim()\u001b[38;5;132;01m}\u001b[39;00m\u001b[38;5;124mD input)\u001b[39m\u001b[38;5;124m\"\u001b[39m)\n",
      "\u001b[1;31mValueError\u001b[0m: expected 4D input (got 3D input)"
     ]
    }
   ],
   "source": [
    "cnn(image.unsqueeze(0))"
   ]
  },
  {
   "cell_type": "code",
   "execution_count": 20,
   "id": "4ea8d49e",
   "metadata": {},
   "outputs": [
    {
     "name": "stdout",
     "output_type": "stream",
     "text": [
      "Collecting augraphy\n",
      "  Obtaining dependency information for augraphy from https://files.pythonhosted.org/packages/54/56/ac891bb8bca373d3786ee321a1308d2ccd442ec84abe294be0a41ab8a335/augraphy-8.2.6-py3-none-any.whl.metadata\n",
      "  Using cached augraphy-8.2.6-py3-none-any.whl.metadata (20 kB)\n",
      "Requirement already satisfied: matplotlib>=3.4.3 in c:\\users\\varun gopal\\anaconda3\\envs\\pytrchkl\\lib\\site-packages (from augraphy) (3.7.2)\n",
      "Requirement already satisfied: numba>=0.57.0 in c:\\users\\varun gopal\\anaconda3\\envs\\pytrchkl\\lib\\site-packages (from augraphy) (0.57.1)\n",
      "Requirement already satisfied: numpy>=1.20.1 in c:\\users\\varun gopal\\anaconda3\\envs\\pytrchkl\\lib\\site-packages (from augraphy) (1.24.3)\n",
      "Collecting opencv-python>=4.5.1.48 (from augraphy)\n",
      "  Obtaining dependency information for opencv-python>=4.5.1.48 from https://files.pythonhosted.org/packages/ec/6c/fab8113424af5049f85717e8e527ca3773299a3c6b02506e66436e19874f/opencv_python-4.10.0.84-cp37-abi3-win_amd64.whl.metadata\n",
      "  Downloading opencv_python-4.10.0.84-cp37-abi3-win_amd64.whl.metadata (20 kB)\n",
      "Requirement already satisfied: Pillow>=8.0.0 in c:\\users\\varun gopal\\anaconda3\\envs\\pytrchkl\\lib\\site-packages (from augraphy) (9.4.0)\n",
      "Requirement already satisfied: requests>=2.25.1 in c:\\users\\varun gopal\\anaconda3\\envs\\pytrchkl\\lib\\site-packages (from augraphy) (2.31.0)\n",
      "Requirement already satisfied: scikit-image>=0.18.1 in c:\\users\\varun gopal\\anaconda3\\envs\\pytrchkl\\lib\\site-packages (from augraphy) (0.20.0)\n",
      "Requirement already satisfied: scikit-learn>=0.23.2 in c:\\users\\varun gopal\\anaconda3\\envs\\pytrchkl\\lib\\site-packages (from augraphy) (1.3.0)\n",
      "Requirement already satisfied: scipy>=1.6.3 in c:\\users\\varun gopal\\anaconda3\\envs\\pytrchkl\\lib\\site-packages (from augraphy) (1.11.1)\n",
      "Requirement already satisfied: contourpy>=1.0.1 in c:\\users\\varun gopal\\anaconda3\\envs\\pytrchkl\\lib\\site-packages (from matplotlib>=3.4.3->augraphy) (1.0.5)\n",
      "Requirement already satisfied: cycler>=0.10 in c:\\users\\varun gopal\\anaconda3\\envs\\pytrchkl\\lib\\site-packages (from matplotlib>=3.4.3->augraphy) (0.11.0)\n",
      "Requirement already satisfied: fonttools>=4.22.0 in c:\\users\\varun gopal\\anaconda3\\envs\\pytrchkl\\lib\\site-packages (from matplotlib>=3.4.3->augraphy) (4.25.0)\n",
      "Requirement already satisfied: kiwisolver>=1.0.1 in c:\\users\\varun gopal\\anaconda3\\envs\\pytrchkl\\lib\\site-packages (from matplotlib>=3.4.3->augraphy) (1.4.4)\n",
      "Requirement already satisfied: packaging>=20.0 in c:\\users\\varun gopal\\anaconda3\\envs\\pytrchkl\\lib\\site-packages (from matplotlib>=3.4.3->augraphy) (23.1)\n",
      "Requirement already satisfied: pyparsing<3.1,>=2.3.1 in c:\\users\\varun gopal\\anaconda3\\envs\\pytrchkl\\lib\\site-packages (from matplotlib>=3.4.3->augraphy) (3.0.9)\n",
      "Requirement already satisfied: python-dateutil>=2.7 in c:\\users\\varun gopal\\anaconda3\\envs\\pytrchkl\\lib\\site-packages (from matplotlib>=3.4.3->augraphy) (2.8.2)\n",
      "Requirement already satisfied: llvmlite<0.41,>=0.40.0dev0 in c:\\users\\varun gopal\\anaconda3\\envs\\pytrchkl\\lib\\site-packages (from numba>=0.57.0->augraphy) (0.40.0)\n",
      "Requirement already satisfied: charset-normalizer<4,>=2 in c:\\users\\varun gopal\\anaconda3\\envs\\pytrchkl\\lib\\site-packages (from requests>=2.25.1->augraphy) (2.0.4)\n",
      "Requirement already satisfied: idna<4,>=2.5 in c:\\users\\varun gopal\\anaconda3\\envs\\pytrchkl\\lib\\site-packages (from requests>=2.25.1->augraphy) (3.4)\n",
      "Requirement already satisfied: urllib3<3,>=1.21.1 in c:\\users\\varun gopal\\anaconda3\\envs\\pytrchkl\\lib\\site-packages (from requests>=2.25.1->augraphy) (1.26.16)\n",
      "Requirement already satisfied: certifi>=2017.4.17 in c:\\users\\varun gopal\\anaconda3\\envs\\pytrchkl\\lib\\site-packages (from requests>=2.25.1->augraphy) (2023.7.22)\n",
      "Requirement already satisfied: networkx>=2.8 in c:\\users\\varun gopal\\anaconda3\\envs\\pytrchkl\\lib\\site-packages (from scikit-image>=0.18.1->augraphy) (3.1)\n",
      "Requirement already satisfied: imageio>=2.4.1 in c:\\users\\varun gopal\\anaconda3\\envs\\pytrchkl\\lib\\site-packages (from scikit-image>=0.18.1->augraphy) (2.26.0)\n",
      "Requirement already satisfied: tifffile>=2019.7.26 in c:\\users\\varun gopal\\anaconda3\\envs\\pytrchkl\\lib\\site-packages (from scikit-image>=0.18.1->augraphy) (2023.4.12)\n",
      "Requirement already satisfied: PyWavelets>=1.1.1 in c:\\users\\varun gopal\\anaconda3\\envs\\pytrchkl\\lib\\site-packages (from scikit-image>=0.18.1->augraphy) (1.4.1)\n",
      "Requirement already satisfied: lazy_loader>=0.1 in c:\\users\\varun gopal\\anaconda3\\envs\\pytrchkl\\lib\\site-packages (from scikit-image>=0.18.1->augraphy) (0.2)\n",
      "Requirement already satisfied: joblib>=1.1.1 in c:\\users\\varun gopal\\anaconda3\\envs\\pytrchkl\\lib\\site-packages (from scikit-learn>=0.23.2->augraphy) (1.2.0)\n",
      "Requirement already satisfied: threadpoolctl>=2.0.0 in c:\\users\\varun gopal\\anaconda3\\envs\\pytrchkl\\lib\\site-packages (from scikit-learn>=0.23.2->augraphy) (2.2.0)\n",
      "Requirement already satisfied: six>=1.5 in c:\\users\\varun gopal\\anaconda3\\envs\\pytrchkl\\lib\\site-packages (from python-dateutil>=2.7->matplotlib>=3.4.3->augraphy) (1.16.0)\n",
      "Using cached augraphy-8.2.6-py3-none-any.whl (218 kB)\n",
      "Downloading opencv_python-4.10.0.84-cp37-abi3-win_amd64.whl (38.8 MB)\n",
      "   ---------------------------------------- 0.0/38.8 MB ? eta -:--:--\n",
      "   ---------------------------------------- 0.0/38.8 MB ? eta -:--:--\n",
      "   ---------------------------------------- 0.2/38.8 MB 3.5 MB/s eta 0:00:12\n",
      "    --------------------------------------- 0.8/38.8 MB 7.0 MB/s eta 0:00:06\n",
      "   - -------------------------------------- 1.6/38.8 MB 9.0 MB/s eta 0:00:05\n",
      "   -- ------------------------------------- 2.2/38.8 MB 10.0 MB/s eta 0:00:04\n",
      "   -- ------------------------------------- 2.8/38.8 MB 10.5 MB/s eta 0:00:04\n",
      "   --- ------------------------------------ 3.4/38.8 MB 10.8 MB/s eta 0:00:04\n",
      "   --- ------------------------------------ 3.8/38.8 MB 11.1 MB/s eta 0:00:04\n",
      "   ---- ----------------------------------- 4.4/38.8 MB 11.2 MB/s eta 0:00:04\n",
      "   ----- ---------------------------------- 4.9/38.8 MB 11.1 MB/s eta 0:00:04\n",
      "   ----- ---------------------------------- 5.5/38.8 MB 11.3 MB/s eta 0:00:03\n",
      "   ------ --------------------------------- 6.1/38.8 MB 11.4 MB/s eta 0:00:03\n",
      "   ------ --------------------------------- 6.7/38.8 MB 11.6 MB/s eta 0:00:03\n",
      "   ------- -------------------------------- 7.1/38.8 MB 11.4 MB/s eta 0:00:03\n",
      "   -------- ------------------------------- 7.8/38.8 MB 11.6 MB/s eta 0:00:03\n",
      "   -------- ------------------------------- 8.2/38.8 MB 11.7 MB/s eta 0:00:03\n",
      "   --------- ------------------------------ 8.8/38.8 MB 11.7 MB/s eta 0:00:03\n",
      "   --------- ------------------------------ 9.4/38.8 MB 11.8 MB/s eta 0:00:03\n",
      "   ---------- ----------------------------- 10.0/38.8 MB 11.9 MB/s eta 0:00:03\n",
      "   ---------- ----------------------------- 10.6/38.8 MB 12.8 MB/s eta 0:00:03\n",
      "   ----------- ---------------------------- 11.0/38.8 MB 12.4 MB/s eta 0:00:03\n",
      "   ------------ --------------------------- 11.9/38.8 MB 12.4 MB/s eta 0:00:03\n",
      "   ------------ --------------------------- 12.4/38.8 MB 12.4 MB/s eta 0:00:03\n",
      "   ------------- -------------------------- 13.0/38.8 MB 12.4 MB/s eta 0:00:03\n",
      "   ------------- -------------------------- 13.4/38.8 MB 12.1 MB/s eta 0:00:03\n",
      "   -------------- ------------------------- 13.9/38.8 MB 12.4 MB/s eta 0:00:03\n",
      "   -------------- ------------------------- 14.4/38.8 MB 12.4 MB/s eta 0:00:02\n",
      "   --------------- ------------------------ 15.0/38.8 MB 12.4 MB/s eta 0:00:02\n",
      "   --------------- ------------------------ 15.4/38.8 MB 12.4 MB/s eta 0:00:02\n",
      "   ---------------- ----------------------- 16.0/38.8 MB 12.4 MB/s eta 0:00:02\n",
      "   ----------------- ---------------------- 16.6/38.8 MB 12.3 MB/s eta 0:00:02\n",
      "   ----------------- ---------------------- 17.2/38.8 MB 12.6 MB/s eta 0:00:02\n",
      "   ------------------ --------------------- 17.7/38.8 MB 12.4 MB/s eta 0:00:02\n",
      "   ------------------ --------------------- 18.2/38.8 MB 12.3 MB/s eta 0:00:02\n",
      "   ------------------- -------------------- 18.7/38.8 MB 12.4 MB/s eta 0:00:02\n",
      "   ------------------- -------------------- 19.3/38.8 MB 12.4 MB/s eta 0:00:02\n",
      "   -------------------- ------------------- 19.7/38.8 MB 12.3 MB/s eta 0:00:02\n",
      "   -------------------- ------------------- 20.3/38.8 MB 12.6 MB/s eta 0:00:02\n",
      "   --------------------- ------------------ 20.8/38.8 MB 12.4 MB/s eta 0:00:02\n",
      "   --------------------- ------------------ 21.3/38.8 MB 12.6 MB/s eta 0:00:02\n",
      "   ---------------------- ----------------- 21.8/38.8 MB 12.6 MB/s eta 0:00:02\n",
      "   ----------------------- ---------------- 22.4/38.8 MB 12.4 MB/s eta 0:00:02\n",
      "   ----------------------- ---------------- 22.8/38.8 MB 12.3 MB/s eta 0:00:02\n",
      "   ------------------------ --------------- 23.3/38.8 MB 12.4 MB/s eta 0:00:02\n",
      "   ------------------------ --------------- 23.8/38.8 MB 12.4 MB/s eta 0:00:02\n",
      "   ------------------------- -------------- 24.3/38.8 MB 12.1 MB/s eta 0:00:02\n",
      "   ------------------------- -------------- 24.7/38.8 MB 12.4 MB/s eta 0:00:02\n",
      "   -------------------------- ------------- 25.4/38.8 MB 12.4 MB/s eta 0:00:02\n",
      "   -------------------------- ------------- 25.9/38.8 MB 12.3 MB/s eta 0:00:02\n",
      "   --------------------------- ------------ 26.4/38.8 MB 12.4 MB/s eta 0:00:02\n",
      "   --------------------------- ------------ 27.0/38.8 MB 12.4 MB/s eta 0:00:01\n",
      "   ---------------------------- ----------- 27.5/38.8 MB 12.3 MB/s eta 0:00:01\n",
      "   ---------------------------- ----------- 28.0/38.8 MB 12.4 MB/s eta 0:00:01\n",
      "   ----------------------------- ---------- 28.6/38.8 MB 12.6 MB/s eta 0:00:01\n",
      "   ----------------------------- ---------- 29.1/38.8 MB 12.3 MB/s eta 0:00:01\n",
      "   ------------------------------ --------- 29.6/38.8 MB 12.6 MB/s eta 0:00:01\n",
      "   ------------------------------- -------- 30.2/38.8 MB 12.4 MB/s eta 0:00:01\n",
      "   ------------------------------- -------- 30.6/38.8 MB 12.6 MB/s eta 0:00:01\n",
      "   -------------------------------- ------- 31.1/38.8 MB 12.4 MB/s eta 0:00:01\n",
      "   -------------------------------- ------- 31.7/38.8 MB 12.6 MB/s eta 0:00:01\n",
      "   --------------------------------- ------ 32.2/38.8 MB 12.6 MB/s eta 0:00:01\n",
      "   --------------------------------- ------ 32.7/38.8 MB 12.6 MB/s eta 0:00:01\n",
      "   ---------------------------------- ----- 33.1/38.8 MB 12.4 MB/s eta 0:00:01\n",
      "   ---------------------------------- ----- 33.6/38.8 MB 12.4 MB/s eta 0:00:01\n",
      "   ----------------------------------- ---- 34.1/38.8 MB 12.4 MB/s eta 0:00:01\n",
      "   ----------------------------------- ---- 34.6/38.8 MB 12.4 MB/s eta 0:00:01\n",
      "   ------------------------------------ --- 35.2/38.8 MB 12.6 MB/s eta 0:00:01\n",
      "   ------------------------------------ --- 35.6/38.8 MB 12.4 MB/s eta 0:00:01\n",
      "   ------------------------------------- -- 36.1/38.8 MB 12.4 MB/s eta 0:00:01\n",
      "   ------------------------------------- -- 36.6/38.8 MB 12.6 MB/s eta 0:00:01\n",
      "   -------------------------------------- - 37.1/38.8 MB 12.6 MB/s eta 0:00:01\n",
      "   -------------------------------------- - 37.6/38.8 MB 12.4 MB/s eta 0:00:01\n",
      "   ---------------------------------------  38.1/38.8 MB 12.6 MB/s eta 0:00:01\n",
      "   ---------------------------------------  38.7/38.8 MB 12.6 MB/s eta 0:00:01\n",
      "   ---------------------------------------  38.8/38.8 MB 12.6 MB/s eta 0:00:01\n",
      "   ---------------------------------------- 38.8/38.8 MB 11.7 MB/s eta 0:00:00\n",
      "Installing collected packages: opencv-python, augraphy\n",
      "Successfully installed augraphy-8.2.6 opencv-python-4.10.0.84\n"
     ]
    },
    {
     "name": "stdout",
     "output_type": "stream",
     "text": [
      "Bases:  108\n",
      "Vms:  19\n",
      "Cms:  36\n",
      "189530 is the length of lines list...\n"
     ]
    }
   ],
   "source": [
    "from torchvision import datasets\n",
    "from torch.utils.data import Dataset,DataLoader\n",
    "from torchvision.utils import save_image\n",
    "from skimage.util import random_noise\n",
    "from PIL import Image\n",
    "!pip install augraphy\n",
    "from augraphy import *\n",
    "import numpy as np\n",
    "import torch\n",
    "import torchvision.transforms as transforms\n",
    "import os\n",
    "import random\n",
    "import cv2\n",
    "import matplotlib.pyplot as plt\n",
    "import matplotlib.image as mpimg\n",
    "\n",
    "\n",
    "dir = r'C:\\Users\\Varun Gopal\\Desktop\\TeluguOCR_MLProject\\KLA_Intern\\Dataset\\Images'\n",
    "NoiseImagePath = r'C:\\Users\\Varun Gopal\\Desktop\\TeluguOCR_MLProject\\KLA_Intern\\Dataset\\Cropped_Dataset\\Images'\n",
    "NoiseLabelPath = r'C:\\Users\\Varun Gopal\\Desktop\\TeluguOCR_MLProject\\KLA_Intern\\Dataset\\Cropped_Dataset\\Labels'\n",
    "\n",
    "# Define the transformation to convert the images to tensors and perform any other necessary preprocessing\n",
    "transform = transforms.Compose([\n",
    "    transforms.ToPILImage(),  # Ensure PIL\n",
    "    transforms.Grayscale(num_output_channels=1),  # Convert to single channel greyscale\n",
    "    transforms.ToTensor()  # Convert to a PyTorch tensor\n",
    "])\n",
    "\n",
    "\n",
    "acchulu = ['అ', 'ఆ', 'ఇ', 'ఈ', 'ఉ', 'ఊ', 'ఋ', 'ౠ', 'ఌ', 'ౡ', 'ఎ', 'ఏ', 'ఐ', 'ఒ', 'ఓ', 'ఔ', 'అం', 'అః']\n",
    "hallulu = ['క', 'ఖ', 'గ', 'ఘ', 'ఙ',\n",
    "           'చ', 'ఛ', 'జ', 'ఝ', 'ఞ',\n",
    "           'ట', 'ఠ', 'డ', 'ఢ', 'ణ',\n",
    "           'త', 'థ', 'ద', 'ధ', 'న',\n",
    "           'ప', 'ఫ', 'బ', 'భ', 'మ',\n",
    "           'య', 'ర', 'ల', 'వ', 'శ', 'ష', 'స', 'హ', 'ళ', 'క్ష', 'ఱ']\n",
    "vallulu = ['ా', 'ి', 'ీ', 'ు' , 'ూ', 'ృ', 'ౄ', 'ె', 'ే', 'ై', 'ొ', 'ో', 'ౌ', 'ం', 'ః', 'ఁ', 'ౕ', 'ౖ', 'ౢ']\n",
    "connector = ['్']\n",
    "numbers = ['౦', '౧', '౨', '౩', '౪', '౫', '౬', '౭', '౮', '౯']\n",
    "splcharacters= [' ', '!', '\"', '#', '$', '%', '&', \"'\", '(', ')',\n",
    "              '*', '+', ',', '-', '.', '/', ':', ';', '<', '=', '>', '?', '@', '[',\n",
    "              '\\\\', ']', '^', '_', '`', '{', '|', '}', '~', '1','2', '3', '4', '5', '6', '7', '8', '9', '0', 'ఽ']\n",
    "spl = splcharacters + numbers\n",
    "\n",
    "bases = acchulu + hallulu + spl\n",
    "vms = vallulu\n",
    "cms = hallulu\n",
    "\n",
    "print(\"Bases: \", len(bases))\n",
    "print(\"Vms: \", len(vms))\n",
    "print(\"Cms: \", len(cms))\n",
    "\n",
    "characters = bases+vms+cms+connector\n",
    "\n",
    "base_mapping = {}\n",
    "i = 2\n",
    "for x in bases:\n",
    "  base_mapping[x] = i\n",
    "  i+=1\n",
    "\n",
    "vm_mapping = {}\n",
    "i = 2\n",
    "for x in vms:\n",
    "  vm_mapping[x] = i\n",
    "  i+=1\n",
    "\n",
    "cm_mapping = {}\n",
    "i = 2\n",
    "for x in cms:\n",
    "  cm_mapping[x] = i\n",
    "  i+=1\n",
    "\n",
    "  \n",
    "# creates a list of dictionaries with each dictionary reporesenting a term\n",
    "def wordsDicts(s):\n",
    "  List = []\n",
    "  for i in range(len(s)):\n",
    "    x = s[i]\n",
    "    prev = ''\n",
    "    if i > 0: prev = s[i-1]\n",
    "    #----------------------------------is it a base term-----------------------\n",
    "    if((x in acchulu or x in hallulu)  and prev != connector[0]):\n",
    "      List.append({})\n",
    "      List[-1]['base'] = x\n",
    "    #----------------------------if it is a consonant modifier-----------------\n",
    "    elif x in hallulu and prev == connector[0]:\n",
    "      if(len(List) == 0):\n",
    "        print(x)\n",
    "      if('cm' not in List[-1]): List[-1]['cm'] = []\n",
    "      List[len(List)-1]['cm'].append(x)\n",
    "\n",
    "      #---------------------------if it is a vowel modifier--------------------\n",
    "    elif x in vallulu:\n",
    "      if(len(List) == 0):\n",
    "        print(x)\n",
    "\n",
    "      if('vm' not in List[-1]): List[-1]['vm'] = []\n",
    "      List[len(List)-1]['vm'].append(x)\n",
    "\n",
    "      #----------------------------it is a spl character-----------------------\n",
    "    elif x in spl:\n",
    "      List.append({})\n",
    "      List[len(List)-1]['base'] = x\n",
    "    else:\n",
    "      continue\n",
    "  return List\n",
    "\n",
    "\n",
    "def index_encoding(s):\n",
    "  List = wordsDicts(s)\n",
    "  onehot = []\n",
    "  for i in range(len(List)):\n",
    "    D = List[i]\n",
    "    onehotbase=  [1]\n",
    "    onehotvm1 =  [1]\n",
    "    onehotvm2 =  [1]\n",
    "    onehotvm3 =  [1]\n",
    "    onehotvm4 =  [1]\n",
    "    onehotcm1 =  [1]\n",
    "    onehotcm2 =  [1]\n",
    "    onehotcm3 =  [1]\n",
    "    onehotcm4 =  [1]\n",
    "\n",
    "\n",
    "    onehotbase[0] = base_mapping[D['base']]\n",
    "\n",
    "    it = 1\n",
    "    if('vm' in D):\n",
    "      for j in D['vm']:\n",
    "        if it == 1:\n",
    "          onehotvm1[0] = vm_mapping[j]\n",
    "        elif it == 2:\n",
    "          onehotvm2[0] = vm_mapping[j]\n",
    "        elif it == 3:\n",
    "          onehotvm3[0] = vm_mapping[j]\n",
    "        elif it == 4:\n",
    "          onehotvm4[0] = vm_mapping[j]\n",
    "        it += 1\n",
    "    \n",
    "    it = 1\n",
    "    if('cm' in D):\n",
    "      for j in D['cm']:\n",
    "        if it == 1:\n",
    "          onehotcm1[0] = cm_mapping[j]\n",
    "        elif it == 2:\n",
    "          onehotcm2[0] = cm_mapping[j]\n",
    "        elif it == 3:\n",
    "          onehotcm3[0] = cm_mapping[j]\n",
    "        elif it == 4:\n",
    "          onehotcm4[0] = cm_mapping[j]\n",
    "        it += 1\n",
    "    onehoti = onehotbase + onehotvm1 + onehotvm2 + onehotvm3 + onehotvm4 + onehotcm1 + onehotcm2 + onehotcm3 + onehotcm4 #size 110 + 2*21 + 2*38 = 228\n",
    "    onehot.append(onehoti)\n",
    "  return torch.tensor(onehot)\n",
    "\n",
    "def index_decoder(List):\n",
    "  x = \"\"\n",
    "  for onehoti in List:\n",
    "    if onehoti[0] > 1:\n",
    "      x += bases[onehoti[0]-2]\n",
    "\n",
    "    if onehoti[5] > 1:\n",
    "      x += connector[0]\n",
    "      x += cms[onehoti[5]-2]\n",
    "    if onehoti[6] > 1:\n",
    "      x += connector[0]\n",
    "      x += cms[onehoti[6]-2]\n",
    "    if onehoti[7] > 1:\n",
    "      x += connector[0]\n",
    "      x += cms[onehoti[7]-2]\n",
    "    if onehoti[8] > 1:\n",
    "      x += connector[0]\n",
    "      x += cms[onehoti[8]-2]\n",
    "\n",
    "    if onehoti[1] > 1:\n",
    "      x += vms[onehoti[1]-2]\n",
    "    if onehoti[2] > 1:\n",
    "      x += vms[onehoti[2]-2]\n",
    "    if onehoti[3] > 1:\n",
    "      x += vms[onehoti[3]-2]\n",
    "    if onehoti[4] > 1:\n",
    "      x += vms[onehoti[4]-2]\n",
    "  return x\n",
    "\n",
    "\n",
    "\n",
    "# Noise type 0\n",
    "def add_gaussian_noise(img):\n",
    "  img = transform(image)\n",
    "  gauss_img = torch.tensor(random_noise(img, mode='gaussian', mean=0, var=0.02, clip=True))\n",
    "  return gauss_img\n",
    "\n",
    "# Noise type 1\n",
    "inkbleed = InkBleed(intensity_range=(0.2, 1),\n",
    "                    kernel_size=(5, 5),\n",
    "                    severity=(0.2, 0.4)\n",
    "                    )\n",
    "\n",
    "# Noise type 2\n",
    "doubleexposure = DoubleExposure(gaussian_kernel_range=(2,3),\n",
    "                                offset_direction=1,\n",
    "                                offset_range=(2,4),\n",
    "                                )\n",
    "\n",
    "# Noise type 3\n",
    "hollow = Hollow(hollow_median_kernel_value_range = (51, 51),\n",
    "                hollow_min_width_range=(1, 1),\n",
    "                hollow_max_width_range=(15, 15),\n",
    "                hollow_min_height_range=(1, 1),\n",
    "                hollow_max_height_range=(15, 15),\n",
    "                hollow_min_area_range=(10, 10),\n",
    "                hollow_max_area_range=(50, 50),\n",
    "                hollow_dilation_kernel_size_range = (3, 3),\n",
    "                )\n",
    "\n",
    "# Noise type 4\n",
    "letterpress = Letterpress(n_samples=(20, 500),\n",
    "                          n_clusters=(30, 80),\n",
    "                          std_range=(150, 500),\n",
    "                          value_range=(10, 15),\n",
    "                          value_threshold_range=(128, 128),\n",
    "                          blur=1\n",
    "                          )\n",
    "\n",
    "# Noise type 5\n",
    "lighting_gradient_linear_static = LightingGradient(light_position=None,\n",
    "                                              direction=45,\n",
    "                                              max_brightness=150,\n",
    "                                              min_brightness=50,\n",
    "                                              mode=\"linear_static\",\n",
    "                                              linear_decay_rate = 0.5,\n",
    "                                              transparency=0.5\n",
    "                                              )\n",
    "\n",
    "# Noise type 6\n",
    "low_ink_periodic_line_consistent =  LowInkPeriodicLines(count_range=(1, 5),\n",
    "                                                        period_range=(1, 4),\n",
    "                                                        use_consistent_lines=False,\n",
    "                                                        noise_probability=0.02,\n",
    "                                                        )\n",
    "\n",
    "# Noise type 7\n",
    "shadowcast = ShadowCast(shadow_side = \"bottom\",\n",
    "                        shadow_vertices_range = (2, 3),\n",
    "                        shadow_width_range=(0.5, 0.8),\n",
    "                        shadow_height_range=(0.5, 0.8),\n",
    "                        shadow_color = (10, 10, 10),\n",
    "                        shadow_opacity_range=(0.5,0.6),\n",
    "                        shadow_iterations_range = (1,2),\n",
    "                        shadow_blur_kernel_range = (101, 301),\n",
    "                        )\n",
    "\n",
    "# Noise type 8\n",
    "folding = Folding(fold_count=3,\n",
    "                  fold_noise=0.0,\n",
    "                  fold_angle_range = (-360,360),\n",
    "                  gradient_width=(0.1, 0.5),\n",
    "                  gradient_height=(0.01, 0.05),\n",
    "                  backdrop_color = (255,255,255),\n",
    "                  )\n",
    "\n",
    "# Noise type 9\n",
    "book_binder_down = BookBinding(shadow_radius_range=(100, 100),\n",
    "                              curve_range_right=(1, 1),\n",
    "                              curve_range_left=(1, 1),\n",
    "                              curve_ratio_right = (1e-5, 1e-5),\n",
    "                              curve_ratio_left = (1e-5, 1e-5),\n",
    "                              mirror_range=(0, 0),\n",
    "                              binding_align = 2,\n",
    "                              binding_pages = (4,6),\n",
    "                              curling_direction=0,\n",
    "                              backdrop_color=(255, 255, 255),\n",
    "                              enable_shadow=1,\n",
    "                              use_cache_images = 0,\n",
    "                              )\n",
    "\n",
    "# Noise type 10\n",
    "inkshifter_obj = InkShifter(\n",
    "    text_shift_scale_range=(2, 7),\n",
    "    text_shift_factor_range=(1, 4),\n",
    "    text_fade_range=(0, 2),\n",
    "    noise_type = \"random\",\n",
    ")\n",
    "\n",
    "\n",
    "# load the txt file and read the file line by line.\n",
    "def read_file_lines(filename):\n",
    "    lines = []\n",
    "    try:\n",
    "        with open(filename, 'r', encoding='utf8') as file:\n",
    "            for line in file:\n",
    "                lines.append(line.strip())  # Remove trailing newline characters\n",
    "    except FileNotFoundError:\n",
    "        print(f\"File '{filename}' not found.\")\n",
    "    except Exception as e:\n",
    "        print(f\"An error occurred: {str(e)}\")\n",
    "    return lines\n",
    "\n",
    "\n",
    "lines = read_file_lines(r\"C:\\Users\\Varun Gopal\\Desktop\\TeluguOCR_MLProject\\KLA_Intern\\Dataset\\final_strings.txt\")\n",
    "\n",
    "num = 1\n",
    "a = b = 0\n",
    "\n",
    "types = []\n",
    "\n",
    "print(len(lines),\"is the length of lines list...\")\n",
    "\n",
    "\n",
    "\n"
   ]
  },
  {
   "cell_type": "code",
   "execution_count": 21,
   "id": "16bdbb8f",
   "metadata": {},
   "outputs": [
    {
     "name": "stdout",
     "output_type": "stream",
     "text": [
      "అగ్నిసూక్తం\n"
     ]
    }
   ],
   "source": [
    "print(lines[0])"
   ]
  },
  {
   "cell_type": "code",
   "execution_count": 22,
   "id": "d10c51a4",
   "metadata": {},
   "outputs": [
    {
     "data": {
      "text/plain": [
       "['అ', 'గ', '్', 'న', 'ి', 'స', 'ూ', 'క', '్', 'త', 'ం']"
      ]
     },
     "execution_count": 22,
     "metadata": {},
     "output_type": "execute_result"
    }
   ],
   "source": [
    "list(lines[0])"
   ]
  },
  {
   "cell_type": "code",
   "execution_count": 29,
   "id": "9e3f7a8c",
   "metadata": {},
   "outputs": [
    {
     "data": {
      "text/plain": [
       "[{'base': 'క', 'cm': ['త'], 'vm': ['ం']}]"
      ]
     },
     "execution_count": 29,
     "metadata": {},
     "output_type": "execute_result"
    }
   ],
   "source": [
    "wordsDicts('క్తం')"
   ]
  },
  {
   "cell_type": "code",
   "execution_count": 52,
   "id": "04619da3",
   "metadata": {},
   "outputs": [
    {
     "data": {
      "text/plain": [
       "torch.Size([19, 9])"
      ]
     },
     "execution_count": 52,
     "metadata": {},
     "output_type": "execute_result"
    }
   ],
   "source": [
    "index_encoding(lines[100]).shape"
   ]
  },
  {
   "cell_type": "code",
   "execution_count": 50,
   "id": "f3b1960b",
   "metadata": {},
   "outputs": [
    {
     "data": {
      "text/plain": [
       "'యదంగ దాశుషే త్వమగ్నే భద్రం కరిష్యసి'"
      ]
     },
     "execution_count": 50,
     "metadata": {},
     "output_type": "execute_result"
    }
   ],
   "source": [
    "lines[100]"
   ]
  },
  {
   "cell_type": "code",
   "execution_count": 38,
   "id": "30199c5a",
   "metadata": {},
   "outputs": [
    {
     "data": {
      "text/plain": [
       "'అ'"
      ]
     },
     "execution_count": 38,
     "metadata": {},
     "output_type": "execute_result"
    }
   ],
   "source": [
    "acchulu[0]"
   ]
  },
  {
   "cell_type": "code",
   "execution_count": 41,
   "id": "af0e10c5",
   "metadata": {},
   "outputs": [
    {
     "data": {
      "text/plain": [
       "'గ'"
      ]
     },
     "execution_count": 41,
     "metadata": {},
     "output_type": "execute_result"
    }
   ],
   "source": [
    "bases[20]"
   ]
  },
  {
   "cell_type": "code",
   "execution_count": 47,
   "id": "b7682f0b",
   "metadata": {},
   "outputs": [
    {
     "data": {
      "text/plain": [
       "'అగ్నిసూక్తం'"
      ]
     },
     "execution_count": 47,
     "metadata": {},
     "output_type": "execute_result"
    }
   ],
   "source": [
    "index_decoder(index_encoding(lines[0]))"
   ]
  },
  {
   "cell_type": "code",
   "execution_count": 53,
   "id": "9831ea6c",
   "metadata": {},
   "outputs": [
    {
     "data": {
      "text/plain": [
       "tensor([[45,  1,  1,  1,  1,  1,  1,  1,  1],\n",
       "        [37, 15,  1,  1,  1,  1,  1,  1,  1],\n",
       "        [22,  1,  1,  1,  1,  1,  1,  1,  1],\n",
       "        [56,  1,  1,  1,  1,  1,  1,  1,  1],\n",
       "        [37,  2,  1,  1,  1,  1,  1,  1,  1],\n",
       "        [49,  5,  1,  1,  1,  1,  1,  1,  1],\n",
       "        [50, 10,  1,  1,  1,  1,  1,  1,  1],\n",
       "        [56,  1,  1,  1,  1,  1,  1,  1,  1],\n",
       "        [35,  1,  1,  1,  1, 30,  1,  1,  1],\n",
       "        [44,  1,  1,  1,  1,  1,  1,  1,  1],\n",
       "        [22, 10,  1,  1,  1, 21,  1,  1,  1],\n",
       "        [56,  1,  1,  1,  1,  1,  1,  1,  1],\n",
       "        [43,  1,  1,  1,  1,  1,  1,  1,  1],\n",
       "        [37, 15,  1,  1,  1, 28,  1,  1,  1],\n",
       "        [56,  1,  1,  1,  1,  1,  1,  1,  1],\n",
       "        [20,  1,  1,  1,  1,  1,  1,  1,  1],\n",
       "        [46,  3,  1,  1,  1,  1,  1,  1,  1],\n",
       "        [50,  1,  1,  1,  1, 27,  1,  1,  1],\n",
       "        [51,  3,  1,  1,  1,  1,  1,  1,  1]])"
      ]
     },
     "execution_count": 53,
     "metadata": {},
     "output_type": "execute_result"
    }
   ],
   "source": [
    "index_encoding(lines[100])"
   ]
  },
  {
   "cell_type": "code",
   "execution_count": 55,
   "id": "e4181688",
   "metadata": {},
   "outputs": [
    {
     "data": {
      "text/plain": [
       "' '"
      ]
     },
     "execution_count": 55,
     "metadata": {},
     "output_type": "execute_result"
    }
   ],
   "source": [
    "bases[54]"
   ]
  },
  {
   "cell_type": "code",
   "execution_count": 58,
   "id": "7ed8d8d3",
   "metadata": {},
   "outputs": [
    {
     "data": {
      "text/plain": [
       "<matplotlib.image.AxesImage at 0x2179bbc5d90>"
      ]
     },
     "execution_count": 58,
     "metadata": {},
     "output_type": "execute_result"
    },
    {
     "data": {
      "image/png": "[encoded data removed]",
      "text/plain": [
       "<Figure size 640x480 with 1 Axes>"
      ]
     },
     "metadata": {},
     "output_type": "display_data"
    }
   ],
   "source": [
    "plt.imshow(image)"
   ]
  },
  {
   "cell_type": "code",
   "execution_count": 61,
   "id": "be946e93",
   "metadata": {},
   "outputs": [
    {
     "data": {
      "text/plain": [
       "torch.Size([40, 581])"
      ]
     },
     "execution_count": 61,
     "metadata": {},
     "output_type": "execute_result"
    }
   ],
   "source": [
    "image.shape"
   ]
  },
  {
   "cell_type": "code",
   "execution_count": 67,
   "id": "8e67ca01",
   "metadata": {},
   "outputs": [],
   "source": [
    "model = nn.Sequential(\n",
    "    nn.Linear(200,100),\n",
    "    nn.Linear(100,200)\n",
    ")"
   ]
  },
  {
   "cell_type": "code",
   "execution_count": 74,
   "id": "471226ca",
   "metadata": {},
   "outputs": [
    {
     "ename": "AttributeError",
     "evalue": "'Sequential' object has no attribute 'weight'",
     "output_type": "error",
     "traceback": [
      "\u001b[1;31m---------------------------------------------------------------------------\u001b[0m",
      "\u001b[1;31mAttributeError\u001b[0m                            Traceback (most recent call last)",
      "Cell \u001b[1;32mIn[74], line 2\u001b[0m\n\u001b[0;32m      1\u001b[0m \u001b[38;5;28;01mfor\u001b[39;00m m \u001b[38;5;129;01min\u001b[39;00m model\u001b[38;5;241m.\u001b[39mmodules():\n\u001b[1;32m----> 2\u001b[0m     \u001b[38;5;28mprint\u001b[39m(m\u001b[38;5;241m.\u001b[39mweight\u001b[38;5;241m.\u001b[39mdata)\n",
      "File \u001b[1;32m~\\anaconda3\\envs\\pytrchkl\\Lib\\site-packages\\torch\\nn\\modules\\module.py:1688\u001b[0m, in \u001b[0;36mModule.__getattr__\u001b[1;34m(self, name)\u001b[0m\n\u001b[0;32m   1686\u001b[0m     \u001b[38;5;28;01mif\u001b[39;00m name \u001b[38;5;129;01min\u001b[39;00m modules:\n\u001b[0;32m   1687\u001b[0m         \u001b[38;5;28;01mreturn\u001b[39;00m modules[name]\n\u001b[1;32m-> 1688\u001b[0m \u001b[38;5;28;01mraise\u001b[39;00m \u001b[38;5;167;01mAttributeError\u001b[39;00m(\u001b[38;5;124mf\u001b[39m\u001b[38;5;124m\"\u001b[39m\u001b[38;5;124m'\u001b[39m\u001b[38;5;132;01m{\u001b[39;00m\u001b[38;5;28mtype\u001b[39m(\u001b[38;5;28mself\u001b[39m)\u001b[38;5;241m.\u001b[39m\u001b[38;5;18m__name__\u001b[39m\u001b[38;5;132;01m}\u001b[39;00m\u001b[38;5;124m'\u001b[39m\u001b[38;5;124m object has no attribute \u001b[39m\u001b[38;5;124m'\u001b[39m\u001b[38;5;132;01m{\u001b[39;00mname\u001b[38;5;132;01m}\u001b[39;00m\u001b[38;5;124m'\u001b[39m\u001b[38;5;124m\"\u001b[39m)\n",
      "\u001b[1;31mAttributeError\u001b[0m: 'Sequential' object has no attribute 'weight'"
     ]
    }
   ],
   "source": [
    "for m in model.modules():\n",
    "    print(m.weight.data)"
   ]
  },
  {
   "cell_type": "code",
   "execution_count": 77,
   "id": "b0a03658",
   "metadata": {},
   "outputs": [],
   "source": [
    "class myModel(nn.Module):\n",
    "    def __init__(self):\n",
    "        super()\n",
    "        self.nn1 = nn.Sequential(\n",
    "        nn.Linear(200,100),\n",
    "        nn.Linear(100,200)\n",
    "        )\n",
    "    "
   ]
  },
  {
   "cell_type": "code",
   "execution_count": 84,
   "id": "fb042d44",
   "metadata": {},
   "outputs": [],
   "source": [
    "a = np.array([[[1,2,3,4],[1,2,3,4],[1,2,3,4]],[[1,2,3,4],[1,2,3,4],[2,34,5,6]]])"
   ]
  },
  {
   "cell_type": "code",
   "execution_count": 85,
   "id": "d1a25ba7",
   "metadata": {},
   "outputs": [
    {
     "name": "stdout",
     "output_type": "stream",
     "text": [
      "[[[ 1  2  3  4]\n",
      "  [ 1  2  3  4]\n",
      "  [ 1  2  3  4]]\n",
      "\n",
      " [[ 1  2  3  4]\n",
      "  [ 1  2  3  4]\n",
      "  [ 2 34  5  6]]]\n"
     ]
    }
   ],
   "source": [
    "print(a)"
   ]
  },
  {
   "cell_type": "code",
   "execution_count": 86,
   "id": "c8cd0b45",
   "metadata": {},
   "outputs": [
    {
     "data": {
      "text/plain": [
       "(2, 3, 4)"
      ]
     },
     "execution_count": 86,
     "metadata": {},
     "output_type": "execute_result"
    }
   ],
   "source": [
    "a.shape"
   ]
  },
  {
   "cell_type": "code",
   "execution_count": 94,
   "id": "21ac72d3",
   "metadata": {},
   "outputs": [
    {
     "data": {
      "text/plain": [
       "array([[ 1,  2,  3,  4],\n",
       "       [ 1,  2,  3,  4],\n",
       "       [ 1,  2,  3,  4],\n",
       "       [ 1,  2,  3,  4],\n",
       "       [ 1,  2,  3,  4],\n",
       "       [ 2, 34,  5,  6]])"
      ]
     },
     "execution_count": 94,
     "metadata": {},
     "output_type": "execute_result"
    }
   ],
   "source": [
    "a.reshape(6,4)"
   ]
  },
  {
   "cell_type": "code",
   "execution_count": 98,
   "id": "461e46a6",
   "metadata": {},
   "outputs": [
    {
     "data": {
      "text/plain": [
       "array([[1, 2, 3, 4],\n",
       "       [1, 2, 3, 4],\n",
       "       [1, 2, 3, 4]])"
      ]
     },
     "execution_count": 98,
     "metadata": {},
     "output_type": "execute_result"
    }
   ],
   "source": [
    "a[0]"
   ]
  },
  {
   "cell_type": "code",
   "execution_count": 99,
   "id": "61a5c59e",
   "metadata": {},
   "outputs": [
    {
     "data": {
      "text/plain": [
       "array([[1, 2, 3],\n",
       "       [4, 1, 2],\n",
       "       [3, 4, 1],\n",
       "       [2, 3, 4]])"
      ]
     },
     "execution_count": 99,
     "metadata": {},
     "output_type": "execute_result"
    }
   ],
   "source": [
    "a[0].reshape(4,3)"
   ]
  },
  {
   "cell_type": "code",
   "execution_count": 102,
   "id": "a2d151df",
   "metadata": {},
   "outputs": [
    {
     "data": {
      "text/plain": [
       "(1, 2, 12)"
      ]
     },
     "execution_count": 102,
     "metadata": {},
     "output_type": "execute_result"
    }
   ],
   "source": [
    "a.reshape(1,2,-1).shape"
   ]
  },
  {
   "cell_type": "code",
   "execution_count": 149,
   "id": "50210bd2",
   "metadata": {},
   "outputs": [
    {
     "data": {
      "image/png": "[encoded data removed]",
      "text/plain": [
       "<Figure size 640x480 with 1 Axes>"
      ]
     },
     "metadata": {},
     "output_type": "display_data"
    },
    {
     "name": "stdout",
     "output_type": "stream",
     "text": [
      "జాగరే స్థూలదేహస్యాత్సూక్ష్మదేహః ప్రకీర్తితః\n"
     ]
    }
   ],
   "source": [
    "file_num = 1\n",
    "num = 1\n",
    "\n",
    "image = torch.load(r\"C:/Users/Varun Gopal/Desktop/TeluguOCR_MLProject/KLA_Intern/Dataset/Cropped_Dataset/Images/Image103.pt\").to(torch.float32).to(device)\n",
    "label = torch.load(r\"C:/Users/Varun Gopal/Desktop/TeluguOCR_MLProject/KLA_Intern/Dataset/Cropped_Dataset/Labels/Label103.pt\").to(device)\n",
    "plt.imshow(image.cpu(), cmap='gray')\n",
    "plt.show()\n",
    "print(index_decoder(label))"
   ]
  },
  {
   "cell_type": "code",
   "execution_count": 155,
   "id": "f57ae7f6",
   "metadata": {},
   "outputs": [
    {
     "ename": "RuntimeError",
     "evalue": "shape '[1, 640, 100]' is invalid for input of size 59520",
     "output_type": "error",
     "traceback": [
      "\u001b[1;31m---------------------------------------------------------------------------\u001b[0m",
      "\u001b[1;31mRuntimeError\u001b[0m                              Traceback (most recent call last)",
      "Cell \u001b[1;32mIn[155], line 1\u001b[0m\n\u001b[1;32m----> 1\u001b[0m cnn_output \u001b[38;5;241m=\u001b[39m cnn(image\u001b[38;5;241m.\u001b[39munsqueeze(\u001b[38;5;241m0\u001b[39m)\u001b[38;5;241m.\u001b[39munsqueeze(\u001b[38;5;241m0\u001b[39m))\u001b[38;5;241m.\u001b[39munsqueeze(\u001b[38;5;241m1\u001b[39m)\u001b[38;5;241m.\u001b[39mto(device)\n\u001b[0;32m      2\u001b[0m \u001b[38;5;28mprint\u001b[39m(cnn_output\u001b[38;5;241m.\u001b[39mshape)\n",
      "File \u001b[1;32m~\\anaconda3\\envs\\pytrchkl\\Lib\\site-packages\\torch\\nn\\modules\\module.py:1511\u001b[0m, in \u001b[0;36mModule._wrapped_call_impl\u001b[1;34m(self, *args, **kwargs)\u001b[0m\n\u001b[0;32m   1509\u001b[0m     \u001b[38;5;28;01mreturn\u001b[39;00m \u001b[38;5;28mself\u001b[39m\u001b[38;5;241m.\u001b[39m_compiled_call_impl(\u001b[38;5;241m*\u001b[39margs, \u001b[38;5;241m*\u001b[39m\u001b[38;5;241m*\u001b[39mkwargs)  \u001b[38;5;66;03m# type: ignore[misc]\u001b[39;00m\n\u001b[0;32m   1510\u001b[0m \u001b[38;5;28;01melse\u001b[39;00m:\n\u001b[1;32m-> 1511\u001b[0m     \u001b[38;5;28;01mreturn\u001b[39;00m \u001b[38;5;28mself\u001b[39m\u001b[38;5;241m.\u001b[39m_call_impl(\u001b[38;5;241m*\u001b[39margs, \u001b[38;5;241m*\u001b[39m\u001b[38;5;241m*\u001b[39mkwargs)\n",
      "File \u001b[1;32m~\\anaconda3\\envs\\pytrchkl\\Lib\\site-packages\\torch\\nn\\modules\\module.py:1520\u001b[0m, in \u001b[0;36mModule._call_impl\u001b[1;34m(self, *args, **kwargs)\u001b[0m\n\u001b[0;32m   1515\u001b[0m \u001b[38;5;66;03m# If we don't have any hooks, we want to skip the rest of the logic in\u001b[39;00m\n\u001b[0;32m   1516\u001b[0m \u001b[38;5;66;03m# this function, and just call forward.\u001b[39;00m\n\u001b[0;32m   1517\u001b[0m \u001b[38;5;28;01mif\u001b[39;00m \u001b[38;5;129;01mnot\u001b[39;00m (\u001b[38;5;28mself\u001b[39m\u001b[38;5;241m.\u001b[39m_backward_hooks \u001b[38;5;129;01mor\u001b[39;00m \u001b[38;5;28mself\u001b[39m\u001b[38;5;241m.\u001b[39m_backward_pre_hooks \u001b[38;5;129;01mor\u001b[39;00m \u001b[38;5;28mself\u001b[39m\u001b[38;5;241m.\u001b[39m_forward_hooks \u001b[38;5;129;01mor\u001b[39;00m \u001b[38;5;28mself\u001b[39m\u001b[38;5;241m.\u001b[39m_forward_pre_hooks\n\u001b[0;32m   1518\u001b[0m         \u001b[38;5;129;01mor\u001b[39;00m _global_backward_pre_hooks \u001b[38;5;129;01mor\u001b[39;00m _global_backward_hooks\n\u001b[0;32m   1519\u001b[0m         \u001b[38;5;129;01mor\u001b[39;00m _global_forward_hooks \u001b[38;5;129;01mor\u001b[39;00m _global_forward_pre_hooks):\n\u001b[1;32m-> 1520\u001b[0m     \u001b[38;5;28;01mreturn\u001b[39;00m forward_call(\u001b[38;5;241m*\u001b[39margs, \u001b[38;5;241m*\u001b[39m\u001b[38;5;241m*\u001b[39mkwargs)\n\u001b[0;32m   1522\u001b[0m \u001b[38;5;28;01mtry\u001b[39;00m:\n\u001b[0;32m   1523\u001b[0m     result \u001b[38;5;241m=\u001b[39m \u001b[38;5;28;01mNone\u001b[39;00m\n",
      "Cell \u001b[1;32mIn[138], line 79\u001b[0m, in \u001b[0;36mEncoderCNN.forward\u001b[1;34m(self, x)\u001b[0m\n\u001b[0;32m     76\u001b[0m x \u001b[38;5;241m=\u001b[39m \u001b[38;5;28mself\u001b[39m\u001b[38;5;241m.\u001b[39mconv_seq21(x) \u001b[38;5;241m+\u001b[39m \u001b[38;5;28mself\u001b[39m\u001b[38;5;241m.\u001b[39mconv_seq22(x)\n\u001b[0;32m     77\u001b[0m x \u001b[38;5;241m=\u001b[39m \u001b[38;5;28mself\u001b[39m\u001b[38;5;241m.\u001b[39mconv_seq31(x) \u001b[38;5;241m+\u001b[39m \u001b[38;5;28mself\u001b[39m\u001b[38;5;241m.\u001b[39mconv_seq32(x)\n\u001b[1;32m---> 79\u001b[0m x \u001b[38;5;241m=\u001b[39m x\u001b[38;5;241m.\u001b[39mreshape(x\u001b[38;5;241m.\u001b[39mshape[\u001b[38;5;241m0\u001b[39m], \u001b[38;5;241m640\u001b[39m, \u001b[38;5;241m100\u001b[39m)\n\u001b[0;32m     80\u001b[0m xx \u001b[38;5;241m=\u001b[39m []\n\u001b[0;32m     81\u001b[0m \u001b[38;5;28;01mfor\u001b[39;00m i \u001b[38;5;129;01min\u001b[39;00m \u001b[38;5;28mrange\u001b[39m(x\u001b[38;5;241m.\u001b[39mshape[\u001b[38;5;241m0\u001b[39m]):\n",
      "\u001b[1;31mRuntimeError\u001b[0m: shape '[1, 640, 100]' is invalid for input of size 59520"
     ]
    }
   ],
   "source": [
    "cnn_output = cnn(image.unsqueeze(0).unsqueeze(0)).unsqueeze(1).to(device)\n",
    "print(cnn_output.shape)"
   ]
  },
  {
   "cell_type": "code",
   "execution_count": 151,
   "id": "09515d4e",
   "metadata": {},
   "outputs": [
    {
     "data": {
      "text/plain": [
       "torch.Size([40, 743])"
      ]
     },
     "execution_count": 151,
     "metadata": {},
     "output_type": "execute_result"
    }
   ],
   "source": [
    "image.shape"
   ]
  },
  {
   "cell_type": "code",
   "execution_count": 157,
   "id": "d88b4166",
   "metadata": {},
   "outputs": [
    {
     "data": {
      "text/plain": [
       "torch.Size([1, 1, 40, 743])"
      ]
     },
     "execution_count": 157,
     "metadata": {},
     "output_type": "execute_result"
    }
   ],
   "source": [
    "image.unsqueeze(0).unsqueeze(0).shape"
   ]
  },
  {
   "cell_type": "code",
   "execution_count": null,
   "id": "d3dd3092",
   "metadata": {},
   "outputs": [],
   "source": []
  }
 ],
 "metadata": {
  "kernelspec": {
   "display_name": "Python 3 (ipykernel)",
   "language": "python",
   "name": "python3"
  },
  "language_info": {
   "codemirror_mode": {
    "name": "ipython",
    "version": 3
   },
   "file_extension": ".py",
   "mimetype": "text/x-python",
   "name": "python",
   "nbconvert_exporter": "python",
   "pygments_lexer": "ipython3",
   "version": "3.11.5"
  }
 },
 "nbformat": 4,
 "nbformat_minor": 5
}
