{
 "cells": [
  {
   "cell_type": "code",
   "execution_count": 1,
   "id": "3de37371",
   "metadata": {},
   "outputs": [
    {
     "name": "stdout",
     "output_type": "stream",
     "text": [
      "True\n"
     ]
    }
   ],
   "source": [
    "import torch\n",
    "print(torch.cuda.is_available())"
   ]
  },
  {
   "cell_type": "code",
   "execution_count": 2,
   "id": "938b2224",
   "metadata": {},
   "outputs": [
    {
     "name": "stdout",
     "output_type": "stream",
     "text": [
      "True\n"
     ]
    }
   ],
   "source": [
    "import torch\n",
    "import torch.nn as nn\n",
    "import torch.nn.functional as F\n",
    "import numpy as np\n",
    "import time\n",
    "\n",
    "device = torch.device('cuda' if torch.cuda.is_available() else 'cpu')\n",
    "print(torch.cuda.is_available())\n",
    "# out look of the model\n",
    "batch_size = 64\n",
    "Number_of_images = 100\n",
    "Image_size = (40, 800)\n",
    "Image_embedding_size = 8\n",
    "Image_length = 100\n",
    "Text_embedding_size = 228\n",
    "Max_Number_of_Words = 45\n",
    "\n",
    "\n",
    "# Decoder parameters\n",
    "Layers = 2\n",
    "\n",
    "E_TO_D_Input_size = Image_embedding_size\n",
    "E_TO_D_output_size = 64\n",
    "\n",
    "D_Input_size = 64\n",
    "D_output_size = 64\n",
    "\n",
    "D_To_Output_Input_size = 64\n",
    "D_To_Output_output_size = Text_embedding_size\n",
    "\n",
    "\n",
    "# reverse Embedding parameters\n",
    "Reverse_Input_size = Text_embedding_size\n",
    "Reverse_output_size = Text_embedding_size \n",
    "\n",
    "drop_prob = 0.2"
   ]
  },
  {
   "cell_type": "code",
   "execution_count": 3,
   "id": "c6155e9f",
   "metadata": {},
   "outputs": [],
   "source": [
    "from torch.utils.data import Dataset, DataLoader\n",
    "import torch\n",
    "import os\n",
    "\n",
    "class TeluguOCRDataset(Dataset):\n",
    "    def __init__(self, image_file_path, label_file_path):\n",
    "        self.image_file_path = image_file_path\n",
    "        self.label_file_path = label_file_path\n",
    "    \n",
    "    def __len__(self):\n",
    "        return len(os.listdir(self.image_file_path))\n",
    "\n",
    "    def __getitem__(self, index):\n",
    "        image = torch.load(os.path.join(self.image_file_path, \"Image\"+str(index+1) + '.pt'))\n",
    "        label = torch.load(os.path.join(self.label_file_path, \"Label\"+str(index+1) + '.pt'))\n",
    "\n",
    "        new_image = torch.zeros((1, 40, 800))\n",
    "        new_label = torch.zeros((45, 9))\n",
    "\n",
    "        new_image[0, :, :image.shape[1]] = image\n",
    "        new_label[:label.shape[0], :] = label\n",
    "\n",
    "        return new_image, new_label, len(label), int(image.shape[1]/(9))"
   ]
  },
  {
   "cell_type": "code",
   "execution_count": 4,
   "id": "e19a1b0f",
   "metadata": {},
   "outputs": [],
   "source": [
    "# CNN model\n",
    "class EncoderCNN(nn.Module):\n",
    "    def __init__(self) -> None:\n",
    "        super(EncoderCNN, self).__init__()\n",
    "\n",
    "        self.conv_seq11 = nn.Sequential(\n",
    "            nn.Conv2d(1, 16, kernel_size=(7, 7), stride=(2, 2), padding=(3, 3)),\n",
    "            nn.Dropout2d(drop_prob),\n",
    "            nn.BatchNorm2d(16),\n",
    "            nn.SiLU(),\n",
    "        )\n",
    "\n",
    "        self.conv_seq12 = nn.Sequential(\n",
    "            nn.Conv2d(1, 16, kernel_size=(3, 3), stride=(2, 2), padding=(1, 1)),\n",
    "            nn.Dropout2d(drop_prob),\n",
    "            nn.BatchNorm2d(16),\n",
    "            nn.SiLU(),\n",
    "        )\n",
    "\n",
    "        self.conv_seq21 = nn.Sequential(\n",
    "            nn.Conv2d(16, 64, kernel_size=(7, 7), stride=(2, 2), padding=(3, 3)),\n",
    "            nn.Dropout2d(drop_prob),\n",
    "            nn.BatchNorm2d(64),\n",
    "            nn.SiLU(),\n",
    "        )\n",
    "        \n",
    "        self.conv_seq22 = nn.Sequential(\n",
    "            nn.Conv2d(16, 64, kernel_size=(3, 3), stride=(2, 2), padding=(1, 1)),\n",
    "            nn.Dropout2d(drop_prob),\n",
    "            nn.BatchNorm2d(64),\n",
    "            nn.SiLU(),\n",
    "        )\n",
    "\n",
    "        self.conv_seq31 = nn.Sequential(\n",
    "            nn.Conv2d(64, 128, kernel_size=(7, 7), stride=(2, 2), padding=(3, 3)),\n",
    "            nn.Dropout2d(drop_prob),\n",
    "            nn.BatchNorm2d(128),\n",
    "            nn.SiLU(),\n",
    "        )\n",
    "        \n",
    "        self.conv_seq32 = nn.Sequential(\n",
    "            nn.Conv2d(64, 128, kernel_size=(3, 3), stride=(2, 2), padding=(1, 1)),\n",
    "            nn.Dropout2d(drop_prob),\n",
    "            nn.BatchNorm2d(128),\n",
    "            nn.SiLU(),\n",
    "        )\n",
    "\n",
    "        # initializing weights of conv layers with he_normal\n",
    "        for m in self.modules():\n",
    "            if isinstance(m, nn.Conv2d):\n",
    "                nn.init.xavier_normal_(m.weight.data)\n",
    "                nn.init.constant_(m.bias.data, 0)\n",
    "\n",
    "        self.Linear_seq = nn.Sequential(\n",
    "            nn.Linear(128*5, 320),\n",
    "            nn.ReLU(),\n",
    "            nn.Linear(320, 160),\n",
    "            nn.ReLU(),\n",
    "            nn.Linear(160, 80),\n",
    "            nn.ReLU(),\n",
    "            nn.Linear(80, 40),\n",
    "            nn.ReLU(),\n",
    "            nn.Linear(40, 20),\n",
    "            nn.ReLU(),\n",
    "            nn.Linear(20, Image_embedding_size)\n",
    "        )\n",
    "\n",
    "        #initializing weights of linear layers with Xavier normal\n",
    "        for m in self.modules():\n",
    "            if isinstance(m, nn.Linear):\n",
    "                nn.init.xavier_normal_(m.weight.data)\n",
    "                nn.init.constant_(m.bias.data, 0)\n",
    "\n",
    "    def forward(self, x):\n",
    "        x = self.conv_seq11(x) + self.conv_seq12(x)\n",
    "        x = self.conv_seq21(x) + self.conv_seq22(x)\n",
    "        x = self.conv_seq31(x) + self.conv_seq32(x)\n",
    "\n",
    "        x = x.reshape(x.shape[0], 640, 100)\n",
    "        xx = []\n",
    "        for i in range(x.shape[0]):\n",
    "            t = x[i]  # Fixed indexing here\n",
    "            t = t.T\n",
    "            xx.append(t)\n",
    "\n",
    "        xx = torch.stack(xx)  # Use torch.stack to preserve batch dimension\n",
    "#         print(type(xx), len(xx), xx[0].shape)\n",
    "        x = self.Linear_seq(xx)\n",
    "#         print(x.shape,x.shape)\n",
    "        return x\n",
    "    \n",
    "# Img1 = torch.randn(64, 1, 40, 800).to(device)\n",
    "# model = EncoderCNN().to(device)\n",
    "# output1 = model(Img1)\n",
    "# print(output1.shape)"
   ]
  },
  {
   "cell_type": "code",
   "execution_count": 5,
   "id": "4755c9e4",
   "metadata": {},
   "outputs": [],
   "source": [
    "import torch\n",
    "import torch.nn as nn\n",
    "import torch.nn.functional as F\n",
    "\n",
    "\n",
    "class BayesianLinear(nn.Module):\n",
    "    def __init__(self, in_features, out_features, prior_var=0.02):\n",
    "        super(BayesianLinear, self).__init__()\n",
    "        self.in_features = in_features\n",
    "        self.out_features = out_features\n",
    "        self.prior_var = prior_var\n",
    "        self.weight_mu = nn.Parameter(torch.Tensor(out_features, in_features))\n",
    "        self.weight_rho = nn.Parameter(torch.Tensor(out_features, in_features))\n",
    "        self.bias_mu = nn.Parameter(torch.Tensor(out_features))\n",
    "        self.bias_rho = nn.Parameter(torch.Tensor(out_features))\n",
    "\n",
    "        self.weight_mu.requires_grad = True\n",
    "        self.weight_rho.requires_grad = True\n",
    "        self.bias_mu.requires_grad = True\n",
    "        self.bias_rho.requires_grad = True\n",
    "\n",
    "        self.reset_parameters()\n",
    "\n",
    "    def reset_parameters(self):\n",
    "        nn.init.xavier_normal_(self.weight_mu)\n",
    "        nn.init.constant_(self.weight_rho, -10)\n",
    "        nn.init.zeros_(self.bias_mu)\n",
    "        nn.init.constant_(self.bias_rho, -10)\n",
    "\n",
    "    def forward(self, x):\n",
    "        weight_sigma = torch.log1p(torch.exp(self.weight_rho))\n",
    "        bias_sigma = torch.log1p(torch.exp(self.bias_rho))\n",
    "        epsilon_weight = torch.randn_like(weight_sigma)\n",
    "        epsilon_bias = torch.randn_like(bias_sigma)\n",
    "        weight = self.weight_mu + weight_sigma * epsilon_weight\n",
    "        bias = self.bias_mu + bias_sigma * epsilon_bias\n",
    "        return F.linear(x, weight, bias)\n",
    "\n",
    "    def kl_divergence(self):\n",
    "        weight_sigma = torch.log1p(torch.exp(self.weight_rho))\n",
    "        bias_sigma = torch.log1p(torch.exp(self.bias_rho))\n",
    "        weight_var = weight_sigma ** 2\n",
    "        bias_var = bias_sigma ** 2\n",
    "        weight_kl = 0.5 * (weight_var + self.weight_mu ** 2 - 1 - weight_sigma)\n",
    "        bias_kl = 0.5 * (bias_var + self.bias_mu ** 2 - 1 - bias_sigma)\n",
    "        return weight_kl.sum() + bias_kl.sum()"
   ]
  },
  {
   "cell_type": "code",
   "execution_count": 30,
   "id": "cfdbb6d9",
   "metadata": {},
   "outputs": [],
   "source": [
    "class DECODER_RNN(nn.Module):\n",
    "    def __init__(self) -> None:\n",
    "        super(DECODER_RNN, self).__init__()\n",
    "\n",
    "        #----------------------------------------------LSTM------------------------------------\n",
    "        self.lstm1 = nn.LSTM(input_size=E_TO_D_Input_size, hidden_size=int(D_To_Output_output_size / 2), num_layers=Layers, bidirectional=True, batch_first=True) #100 to 364\n",
    "        self.lstm2 = nn.LSTM(input_size=E_TO_D_Input_size, hidden_size=int(D_To_Output_output_size / 2), num_layers=Layers, bidirectional=True, batch_first=True) #512 to 512\n",
    "\n",
    "        self.concat_Linear = nn.Sequential(\n",
    "            nn.Linear(D_To_Output_output_size * 2, D_To_Output_output_size),\n",
    "        )\n",
    "\n",
    "        # reverse embedder\n",
    "        self.Linear_seq2 = nn.Sequential(\n",
    "            nn.Linear(D_To_Output_output_size, Text_embedding_size)\n",
    "        )\n",
    "\n",
    "        # Initializing weights with Xavier normal.\n",
    "        for m in self.modules():\n",
    "            if isinstance(m, nn.Linear):\n",
    "                nn.init.xavier_normal_(m.weight.data)\n",
    "                nn.init.constant_(m.bias.data, 0)\n",
    "            if isinstance(m, nn.GRU):\n",
    "                for name, param in m.named_parameters():\n",
    "                    if 'weight' in name:\n",
    "                        nn.init.xavier_normal_(param.data)\n",
    "                    else:\n",
    "                        nn.init.constant_(param.data, 0)\n",
    "            if isinstance(m, nn.LSTM):\n",
    "                for name, param in m.named_parameters():\n",
    "                    if 'weight' in name:\n",
    "                        nn.init.xavier_normal_(param.data)\n",
    "                    else:\n",
    "                        nn.init.constant_(param.data, 0)\n",
    "            if isinstance(m, nn.TransformerEncoderLayer):\n",
    "                for name, param in m.named_parameters():\n",
    "                    if 'weight' in name and param.data.dim() > 1:\n",
    "                        nn.init.xavier_normal_(param.data)\n",
    "                    else:\n",
    "                        nn.init.constant_(param.data, 0)\n",
    "\n",
    "    def initialise_hidden_states(self, batch_size):\n",
    "        # --------------------------Hidden states for LSTM-----------------------------------------\n",
    "        self.hidden1 = (torch.zeros(2 * Layers, batch_size, int(D_To_Output_output_size / 2)).to(device),\n",
    "                        torch.zeros(2 * Layers, batch_size, int(D_To_Output_output_size / 2)).to(device))\n",
    "        self.hidden2 = (torch.zeros(2 * Layers, batch_size, int(D_To_Output_output_size / 2)).to(device),\n",
    "                        torch.zeros(2 * Layers, batch_size, int(D_To_Output_output_size / 2)).to(device))\n",
    "\n",
    "    def forward(self, x):\n",
    "        self.initialise_hidden_states(x.shape[0])\n",
    "        outputs1, (h_n1, c_n1) = self.lstm1(x, self.hidden1)\n",
    "        outputs2, (h_n2, c_n2) = self.lstm2(x, self.hidden2)\n",
    "        \n",
    "        outputs = torch.cat((outputs1, outputs2), dim=2)  # Concatenate along the feature dimension\n",
    "        \n",
    "        outputs = self.concat_Linear(outputs)\n",
    "        outputs = self.Linear_seq2(outputs).permute(1, 0, 2)\n",
    "        \n",
    "        return outputs\n"
   ]
  },
  {
   "cell_type": "code",
   "execution_count": 63,
   "id": "73f03154",
   "metadata": {},
   "outputs": [],
   "source": [
    "\n",
    "def Epoch_Run(encoder, decoder, dataloader, optimizer, criterion, training = True):\n",
    "    if training:\n",
    "        encoder.train()\n",
    "        decoder.train()\n",
    "    else:\n",
    "        encoder.eval()\n",
    "        decoder.eval()\n",
    "    \n",
    "    epoch_loss = 0\n",
    "\n",
    "    idx = 1\n",
    "\n",
    "    for images, labels, target_lengths, input_lengths in dataloader:\n",
    "        if training:\n",
    "            print(\"T: \", idx, end = \"\\r\")\n",
    "        else:\n",
    "            print(\"V: \", idx, end = \"\\r\")\n",
    "\n",
    "        idx+=1\n",
    "        images = images.to(device)\n",
    "        labels = labels.to(device)\n",
    "        target_lengths = target_lengths.to(device)\n",
    "        input_lengths = input_lengths.to(device)\n",
    "\n",
    "        # Encoder\n",
    "\n",
    "#         ENC_output = encoder(images).unsqueeze(1)\n",
    "        ENC_output = encoder(images)\n",
    "        \n",
    "        \n",
    "        Dec_Out = decoder(ENC_output)\n",
    "\n",
    "        # applying log_softmax\n",
    "        \n",
    "        Dec_Out_log_softmax = Dec_Out.clone()\n",
    "        Dec_Out_log_softmax[:, :, 0:110] = F.log_softmax(Dec_Out[:, :, 0:110], dim=2)\n",
    "        Dec_Out_log_softmax[:, :, 110:131] = F.log_softmax(Dec_Out[:, :, 110:131], dim=2)\n",
    "        Dec_Out_log_softmax[:, :, 131:152] = F.log_softmax(Dec_Out[:, :, 131:152], dim=2)\n",
    "        Dec_Out_log_softmax[:, :, 152:190] = F.log_softmax(Dec_Out[:, :, 152:190], dim=2)\n",
    "        Dec_Out_log_softmax[:, :, 190:228] = F.log_softmax(Dec_Out[:, :, 190:228], dim=2)\n",
    "\n",
    "        input_lengths = torch.full(size=(images.shape[0],), fill_value=100, dtype=torch.long).to(device)\n",
    "\n",
    "        Loss = 0\n",
    "        # for base\n",
    "        Loss += criterion(Dec_Out_log_softmax[:, :, 0:110], labels[:, :, 0], input_lengths, target_lengths)\n",
    "\n",
    "        # for vm1\n",
    "        Loss += criterion(Dec_Out_log_softmax[:, :, 110:131], labels[:, :, 1], input_lengths, target_lengths)\n",
    "\n",
    "        # for vm2\n",
    "        Loss += criterion(Dec_Out_log_softmax[:, :, 131:152], labels[:, :, 2], input_lengths, target_lengths)\n",
    "\n",
    "        # for cm1\n",
    "        Loss += criterion(Dec_Out_log_softmax[:, :, 152:190], labels[:, :, 5], input_lengths, target_lengths)\n",
    "\n",
    "        # for cm2\n",
    "        Loss += criterion(Dec_Out_log_softmax[:, :, 190:228], labels[:, :, 6], input_lengths, target_lengths)\n",
    "\n",
    "        \n",
    "        if training:\n",
    "            optimizer.zero_grad()\n",
    "            Loss.backward()\n",
    "            optimizer.step()\n",
    "            optimizer.zero_grad()\n",
    "\n",
    "        epoch_loss += Loss.item()\n",
    "\n",
    "    return epoch_loss"
   ]
  },
  {
   "cell_type": "code",
   "execution_count": 32,
   "id": "aa8ace86",
   "metadata": {},
   "outputs": [
    {
     "name": "stdout",
     "output_type": "stream",
     "text": [
      "Epoch :  1  | Loss :  7.537693615936477  | Validation Loss :  6.59557450159319  | Time :  223.06696248054504\n",
      "Epoch :  2  | Loss :  6.33233083814812  | Validation Loss :  5.177405566558718  | Time :  223.4921271800995\n",
      "Epoch :  3  | Loss :  2.414268988732537  | Validation Loss :  0.9670335827722483  | Time :  223.4094944000244\n",
      "Epoch :  4  | Loss :  0.7514215801130627  | Validation Loss :  0.5906333198538855  | Time :  227.7383849620819\n",
      "Epoch :  5  | Loss :  0.472809021847876  | Validation Loss :  0.3940205612854773  | Time :  225.76605892181396\n",
      "Epoch :  6  | Loss :  0.3707255202387813  | Validation Loss :  0.37539297991723164  | Time :  222.86366033554077\n",
      "Epoch :  7  | Loss :  0.31574122791270687  | Validation Loss :  0.3132228236859414  | Time :  218.91857981681824\n",
      "Epoch :  8  | Loss :  0.2815009225559146  | Validation Loss :  0.2967414613204536  | Time :  218.28607416152954\n",
      "Epoch :  9  | Loss :  0.26082405733612674  | Validation Loss :  0.2882861631350253  | Time :  218.46483540534973\n",
      "Epoch :  10  | Loss :  0.2297064124473885  | Validation Loss :  0.24932831797669455  | Time :  217.9549081325531\n"
     ]
    },
    {
     "data": {
      "image/png": "[encoded data removed]",
      "text/plain": [
       "<Figure size 1200x800 with 1 Axes>"
      ]
     },
     "metadata": {},
     "output_type": "display_data"
    }
   ],
   "source": [
    "from torch.utils.data import DataLoader\n",
    "import matplotlib.pyplot as plt\n",
    "torch.cuda.empty_cache()\n",
    "cnn = EncoderCNN().to(device)\n",
    "decoder = DECODER_RNN().to(device)\n",
    "\n",
    "torch.autograd.set_detect_anomaly(True)\n",
    "criterion = nn.CTCLoss(blank=0, zero_infinity=True, reduction = 'mean') if torch.cuda.is_available() else nn.CTCLoss(blank=0, zero_infinity=True, reduction = 'mean')\n",
    "\n",
    "params = list(cnn.parameters()) + list(decoder.parameters())\n",
    "optimizer = torch.optim.Adam(params, lr=1e-3, weight_decay=1e-5)\n",
    "\n",
    "clip = 5\n",
    "torch.nn.utils.clip_grad_norm_(params, clip)\n",
    "\n",
    "num_of_epochs = 10\n",
    "\n",
    "Losses = []\n",
    "val_losses = []\n",
    "\n",
    "save_num = 1\n",
    "\n",
    "dataset = TeluguOCRDataset(r\"C:/Users/Varun Gopal/Desktop/TeluguOCR_MLProject/KLA_Intern/Dataset/Cropped_Dataset/Images\", r\"C:/Users/Varun Gopal/Desktop/TeluguOCR_MLProject/KLA_Intern/Dataset/Cropped_Dataset/Labels\")\n",
    "\n",
    "# splitting the dataset into training and validation\n",
    "torch.manual_seed(0)\n",
    "train_dataset, val_dataset = torch.utils.data.random_split(dataset, [0.7, 0.3])\n",
    "\n",
    "train_dataloader = DataLoader(train_dataset, batch_size=64, shuffle=True)\n",
    "val_dataloader = DataLoader(val_dataset, batch_size=64, shuffle=True)\n",
    "\n",
    "for epoch in range(1, num_of_epochs + 1):\n",
    "    start_time = time.time()\n",
    "    # training\n",
    "    epoch_loss = Epoch_Run(cnn, decoder, train_dataloader, optimizer, criterion, training = True)\n",
    "    # validation\n",
    "    val_loss = Epoch_Run(cnn, decoder, val_dataloader, optimizer, criterion, training = False)\n",
    "    print(\"Epoch : \", epoch, \" | Loss : \", (epoch_loss*64)/len(train_dataset), \" | Validation Loss : \", (val_loss*64)/len(val_dataset), \" | Time : \", time.time() - start_time)\n",
    "    Losses.append((epoch_loss*64)/len(train_dataset))\n",
    "    val_losses.append((val_loss*64)/len(val_dataset))\n",
    "        \n",
    "\n",
    "# Plotting the losses\n",
    "plt.figure(figsize=(12, 8))\n",
    "plt.plot(Losses, label = \"Training Loss\", color = 'blue')\n",
    "plt.plot(val_losses, label = \"Validation Loss\", color = 'red')\n",
    "plt.legend(\n",
    "    loc='upper center',\n",
    "    bbox_to_anchor=(0.5, -0.05),\n",
    "    shadow=True,\n",
    "    ncol=2\n",
    ")\n",
    "plt.title(\"Losses\")\n",
    "plt.xlabel(\"Epochs\")\n",
    "plt.ylabel(\"Loss\")\n",
    "plt.savefig(r\"C:/Users/Varun Gopal/Desktop/TeluguOCR_MLProject/KLA_Intern/Losses_GRU1.png\")      "
   ]
  },
  {
   "cell_type": "code",
   "execution_count": 62,
   "id": "8d4be54e",
   "metadata": {},
   "outputs": [],
   "source": [
    "torch.cuda.empty_cache()"
   ]
  },
  {
   "cell_type": "code",
   "execution_count": 184,
   "id": "973efcfd",
   "metadata": {},
   "outputs": [],
   "source": [
    "index = 110\n",
    "image = torch.load(os.path.join(r\"C:/Users/Varun Gopal/Desktop/TeluguOCR_MLProject/KLA_Intern/Dataset/Cropped_Dataset/Images\", \"Image\"+str(index+1) + '.pt')).to(torch.float32).to(device)\n",
    "label = torch.load(os.path.join(r\"C:/Users/Varun Gopal/Desktop/TeluguOCR_MLProject/KLA_Intern/Dataset/Cropped_Dataset/Labels\", \"Label\"+str(index+1) + '.pt'))\n",
    "\n",
    "new_image = torch.zeros((1, 40, 800))\n",
    "new_label = torch.zeros((45, 9))\n",
    "\n",
    "new_image[0, :, :image.shape[1]] = image\n",
    "new_label[:label.shape[0], :] = label"
   ]
  },
  {
   "cell_type": "code",
   "execution_count": 185,
   "id": "bede0a74",
   "metadata": {},
   "outputs": [
    {
     "ename": "TypeError",
     "evalue": "can't convert cuda:0 device type tensor to numpy. Use Tensor.cpu() to copy the tensor to host memory first.",
     "output_type": "error",
     "traceback": [
      "\u001b[1;31m---------------------------------------------------------------------------\u001b[0m",
      "\u001b[1;31mTypeError\u001b[0m                                 Traceback (most recent call last)",
      "Cell \u001b[1;32mIn[185], line 1\u001b[0m\n\u001b[1;32m----> 1\u001b[0m plt\u001b[38;5;241m.\u001b[39mimshow(np\u001b[38;5;241m.\u001b[39marray(image))\n\u001b[0;32m      2\u001b[0m \u001b[38;5;28mprint\u001b[39m(image\u001b[38;5;241m.\u001b[39mshape)\n\u001b[0;32m      3\u001b[0m \u001b[38;5;66;03m# for image,label,j,l in train_dataset:\u001b[39;00m\n\u001b[0;32m      4\u001b[0m \u001b[38;5;66;03m#     print(image.shape)\u001b[39;00m\n",
      "File \u001b[1;32m~\\anaconda3\\envs\\pytrchkl\\Lib\\site-packages\\torch\\_tensor.py:1062\u001b[0m, in \u001b[0;36mTensor.__array__\u001b[1;34m(self, dtype)\u001b[0m\n\u001b[0;32m   1060\u001b[0m     \u001b[38;5;28;01mreturn\u001b[39;00m handle_torch_function(Tensor\u001b[38;5;241m.\u001b[39m__array__, (\u001b[38;5;28mself\u001b[39m,), \u001b[38;5;28mself\u001b[39m, dtype\u001b[38;5;241m=\u001b[39mdtype)\n\u001b[0;32m   1061\u001b[0m \u001b[38;5;28;01mif\u001b[39;00m dtype \u001b[38;5;129;01mis\u001b[39;00m \u001b[38;5;28;01mNone\u001b[39;00m:\n\u001b[1;32m-> 1062\u001b[0m     \u001b[38;5;28;01mreturn\u001b[39;00m \u001b[38;5;28mself\u001b[39m\u001b[38;5;241m.\u001b[39mnumpy()\n\u001b[0;32m   1063\u001b[0m \u001b[38;5;28;01melse\u001b[39;00m:\n\u001b[0;32m   1064\u001b[0m     \u001b[38;5;28;01mreturn\u001b[39;00m \u001b[38;5;28mself\u001b[39m\u001b[38;5;241m.\u001b[39mnumpy()\u001b[38;5;241m.\u001b[39mastype(dtype, copy\u001b[38;5;241m=\u001b[39m\u001b[38;5;28;01mFalse\u001b[39;00m)\n",
      "\u001b[1;31mTypeError\u001b[0m: can't convert cuda:0 device type tensor to numpy. Use Tensor.cpu() to copy the tensor to host memory first."
     ]
    }
   ],
   "source": [
    "plt.imshow(np.array(image))\n",
    "print(image.shape)\n",
    "# for image,label,j,l in train_dataset:\n",
    "#     print(image.shape)\n",
    "len(dataset) "
   ]
  },
  {
   "cell_type": "code",
   "execution_count": 186,
   "id": "90752d03",
   "metadata": {},
   "outputs": [
    {
     "ename": "ValueError",
     "evalue": "expected 4D input (got 3D input)",
     "output_type": "error",
     "traceback": [
      "\u001b[1;31m---------------------------------------------------------------------------\u001b[0m",
      "\u001b[1;31mValueError\u001b[0m                                Traceback (most recent call last)",
      "Cell \u001b[1;32mIn[186], line 1\u001b[0m\n\u001b[1;32m----> 1\u001b[0m cnn(image\u001b[38;5;241m.\u001b[39munsqueeze(\u001b[38;5;241m0\u001b[39m))\n",
      "File \u001b[1;32m~\\anaconda3\\envs\\pytrchkl\\Lib\\site-packages\\torch\\nn\\modules\\module.py:1511\u001b[0m, in \u001b[0;36mModule._wrapped_call_impl\u001b[1;34m(self, *args, **kwargs)\u001b[0m\n\u001b[0;32m   1509\u001b[0m     \u001b[38;5;28;01mreturn\u001b[39;00m \u001b[38;5;28mself\u001b[39m\u001b[38;5;241m.\u001b[39m_compiled_call_impl(\u001b[38;5;241m*\u001b[39margs, \u001b[38;5;241m*\u001b[39m\u001b[38;5;241m*\u001b[39mkwargs)  \u001b[38;5;66;03m# type: ignore[misc]\u001b[39;00m\n\u001b[0;32m   1510\u001b[0m \u001b[38;5;28;01melse\u001b[39;00m:\n\u001b[1;32m-> 1511\u001b[0m     \u001b[38;5;28;01mreturn\u001b[39;00m \u001b[38;5;28mself\u001b[39m\u001b[38;5;241m.\u001b[39m_call_impl(\u001b[38;5;241m*\u001b[39margs, \u001b[38;5;241m*\u001b[39m\u001b[38;5;241m*\u001b[39mkwargs)\n",
      "File \u001b[1;32m~\\anaconda3\\envs\\pytrchkl\\Lib\\site-packages\\torch\\nn\\modules\\module.py:1520\u001b[0m, in \u001b[0;36mModule._call_impl\u001b[1;34m(self, *args, **kwargs)\u001b[0m\n\u001b[0;32m   1515\u001b[0m \u001b[38;5;66;03m# If we don't have any hooks, we want to skip the rest of the logic in\u001b[39;00m\n\u001b[0;32m   1516\u001b[0m \u001b[38;5;66;03m# this function, and just call forward.\u001b[39;00m\n\u001b[0;32m   1517\u001b[0m \u001b[38;5;28;01mif\u001b[39;00m \u001b[38;5;129;01mnot\u001b[39;00m (\u001b[38;5;28mself\u001b[39m\u001b[38;5;241m.\u001b[39m_backward_hooks \u001b[38;5;129;01mor\u001b[39;00m \u001b[38;5;28mself\u001b[39m\u001b[38;5;241m.\u001b[39m_backward_pre_hooks \u001b[38;5;129;01mor\u001b[39;00m \u001b[38;5;28mself\u001b[39m\u001b[38;5;241m.\u001b[39m_forward_hooks \u001b[38;5;129;01mor\u001b[39;00m \u001b[38;5;28mself\u001b[39m\u001b[38;5;241m.\u001b[39m_forward_pre_hooks\n\u001b[0;32m   1518\u001b[0m         \u001b[38;5;129;01mor\u001b[39;00m _global_backward_pre_hooks \u001b[38;5;129;01mor\u001b[39;00m _global_backward_hooks\n\u001b[0;32m   1519\u001b[0m         \u001b[38;5;129;01mor\u001b[39;00m _global_forward_hooks \u001b[38;5;129;01mor\u001b[39;00m _global_forward_pre_hooks):\n\u001b[1;32m-> 1520\u001b[0m     \u001b[38;5;28;01mreturn\u001b[39;00m forward_call(\u001b[38;5;241m*\u001b[39margs, \u001b[38;5;241m*\u001b[39m\u001b[38;5;241m*\u001b[39mkwargs)\n\u001b[0;32m   1522\u001b[0m \u001b[38;5;28;01mtry\u001b[39;00m:\n\u001b[0;32m   1523\u001b[0m     result \u001b[38;5;241m=\u001b[39m \u001b[38;5;28;01mNone\u001b[39;00m\n",
      "Cell \u001b[1;32mIn[174], line 75\u001b[0m, in \u001b[0;36mEncoderCNN.forward\u001b[1;34m(self, x)\u001b[0m\n\u001b[0;32m     74\u001b[0m \u001b[38;5;28;01mdef\u001b[39;00m \u001b[38;5;21mforward\u001b[39m(\u001b[38;5;28mself\u001b[39m, x):\n\u001b[1;32m---> 75\u001b[0m     x \u001b[38;5;241m=\u001b[39m \u001b[38;5;28mself\u001b[39m\u001b[38;5;241m.\u001b[39mconv_seq11(x) \u001b[38;5;241m+\u001b[39m \u001b[38;5;28mself\u001b[39m\u001b[38;5;241m.\u001b[39mconv_seq12(x)\n\u001b[0;32m     76\u001b[0m     x \u001b[38;5;241m=\u001b[39m \u001b[38;5;28mself\u001b[39m\u001b[38;5;241m.\u001b[39mconv_seq21(x) \u001b[38;5;241m+\u001b[39m \u001b[38;5;28mself\u001b[39m\u001b[38;5;241m.\u001b[39mconv_seq22(x)\n\u001b[0;32m     77\u001b[0m     x \u001b[38;5;241m=\u001b[39m \u001b[38;5;28mself\u001b[39m\u001b[38;5;241m.\u001b[39mconv_seq31(x) \u001b[38;5;241m+\u001b[39m \u001b[38;5;28mself\u001b[39m\u001b[38;5;241m.\u001b[39mconv_seq32(x)\n",
      "File \u001b[1;32m~\\anaconda3\\envs\\pytrchkl\\Lib\\site-packages\\torch\\nn\\modules\\module.py:1511\u001b[0m, in \u001b[0;36mModule._wrapped_call_impl\u001b[1;34m(self, *args, **kwargs)\u001b[0m\n\u001b[0;32m   1509\u001b[0m     \u001b[38;5;28;01mreturn\u001b[39;00m \u001b[38;5;28mself\u001b[39m\u001b[38;5;241m.\u001b[39m_compiled_call_impl(\u001b[38;5;241m*\u001b[39margs, \u001b[38;5;241m*\u001b[39m\u001b[38;5;241m*\u001b[39mkwargs)  \u001b[38;5;66;03m# type: ignore[misc]\u001b[39;00m\n\u001b[0;32m   1510\u001b[0m \u001b[38;5;28;01melse\u001b[39;00m:\n\u001b[1;32m-> 1511\u001b[0m     \u001b[38;5;28;01mreturn\u001b[39;00m \u001b[38;5;28mself\u001b[39m\u001b[38;5;241m.\u001b[39m_call_impl(\u001b[38;5;241m*\u001b[39margs, \u001b[38;5;241m*\u001b[39m\u001b[38;5;241m*\u001b[39mkwargs)\n",
      "File \u001b[1;32m~\\anaconda3\\envs\\pytrchkl\\Lib\\site-packages\\torch\\nn\\modules\\module.py:1520\u001b[0m, in \u001b[0;36mModule._call_impl\u001b[1;34m(self, *args, **kwargs)\u001b[0m\n\u001b[0;32m   1515\u001b[0m \u001b[38;5;66;03m# If we don't have any hooks, we want to skip the rest of the logic in\u001b[39;00m\n\u001b[0;32m   1516\u001b[0m \u001b[38;5;66;03m# this function, and just call forward.\u001b[39;00m\n\u001b[0;32m   1517\u001b[0m \u001b[38;5;28;01mif\u001b[39;00m \u001b[38;5;129;01mnot\u001b[39;00m (\u001b[38;5;28mself\u001b[39m\u001b[38;5;241m.\u001b[39m_backward_hooks \u001b[38;5;129;01mor\u001b[39;00m \u001b[38;5;28mself\u001b[39m\u001b[38;5;241m.\u001b[39m_backward_pre_hooks \u001b[38;5;129;01mor\u001b[39;00m \u001b[38;5;28mself\u001b[39m\u001b[38;5;241m.\u001b[39m_forward_hooks \u001b[38;5;129;01mor\u001b[39;00m \u001b[38;5;28mself\u001b[39m\u001b[38;5;241m.\u001b[39m_forward_pre_hooks\n\u001b[0;32m   1518\u001b[0m         \u001b[38;5;129;01mor\u001b[39;00m _global_backward_pre_hooks \u001b[38;5;129;01mor\u001b[39;00m _global_backward_hooks\n\u001b[0;32m   1519\u001b[0m         \u001b[38;5;129;01mor\u001b[39;00m _global_forward_hooks \u001b[38;5;129;01mor\u001b[39;00m _global_forward_pre_hooks):\n\u001b[1;32m-> 1520\u001b[0m     \u001b[38;5;28;01mreturn\u001b[39;00m forward_call(\u001b[38;5;241m*\u001b[39margs, \u001b[38;5;241m*\u001b[39m\u001b[38;5;241m*\u001b[39mkwargs)\n\u001b[0;32m   1522\u001b[0m \u001b[38;5;28;01mtry\u001b[39;00m:\n\u001b[0;32m   1523\u001b[0m     result \u001b[38;5;241m=\u001b[39m \u001b[38;5;28;01mNone\u001b[39;00m\n",
      "File \u001b[1;32m~\\anaconda3\\envs\\pytrchkl\\Lib\\site-packages\\torch\\nn\\modules\\container.py:217\u001b[0m, in \u001b[0;36mSequential.forward\u001b[1;34m(self, input)\u001b[0m\n\u001b[0;32m    215\u001b[0m \u001b[38;5;28;01mdef\u001b[39;00m \u001b[38;5;21mforward\u001b[39m(\u001b[38;5;28mself\u001b[39m, \u001b[38;5;28minput\u001b[39m):\n\u001b[0;32m    216\u001b[0m     \u001b[38;5;28;01mfor\u001b[39;00m module \u001b[38;5;129;01min\u001b[39;00m \u001b[38;5;28mself\u001b[39m:\n\u001b[1;32m--> 217\u001b[0m         \u001b[38;5;28minput\u001b[39m \u001b[38;5;241m=\u001b[39m module(\u001b[38;5;28minput\u001b[39m)\n\u001b[0;32m    218\u001b[0m     \u001b[38;5;28;01mreturn\u001b[39;00m \u001b[38;5;28minput\u001b[39m\n",
      "File \u001b[1;32m~\\anaconda3\\envs\\pytrchkl\\Lib\\site-packages\\torch\\nn\\modules\\module.py:1511\u001b[0m, in \u001b[0;36mModule._wrapped_call_impl\u001b[1;34m(self, *args, **kwargs)\u001b[0m\n\u001b[0;32m   1509\u001b[0m     \u001b[38;5;28;01mreturn\u001b[39;00m \u001b[38;5;28mself\u001b[39m\u001b[38;5;241m.\u001b[39m_compiled_call_impl(\u001b[38;5;241m*\u001b[39margs, \u001b[38;5;241m*\u001b[39m\u001b[38;5;241m*\u001b[39mkwargs)  \u001b[38;5;66;03m# type: ignore[misc]\u001b[39;00m\n\u001b[0;32m   1510\u001b[0m \u001b[38;5;28;01melse\u001b[39;00m:\n\u001b[1;32m-> 1511\u001b[0m     \u001b[38;5;28;01mreturn\u001b[39;00m \u001b[38;5;28mself\u001b[39m\u001b[38;5;241m.\u001b[39m_call_impl(\u001b[38;5;241m*\u001b[39margs, \u001b[38;5;241m*\u001b[39m\u001b[38;5;241m*\u001b[39mkwargs)\n",
      "File \u001b[1;32m~\\anaconda3\\envs\\pytrchkl\\Lib\\site-packages\\torch\\nn\\modules\\module.py:1520\u001b[0m, in \u001b[0;36mModule._call_impl\u001b[1;34m(self, *args, **kwargs)\u001b[0m\n\u001b[0;32m   1515\u001b[0m \u001b[38;5;66;03m# If we don't have any hooks, we want to skip the rest of the logic in\u001b[39;00m\n\u001b[0;32m   1516\u001b[0m \u001b[38;5;66;03m# this function, and just call forward.\u001b[39;00m\n\u001b[0;32m   1517\u001b[0m \u001b[38;5;28;01mif\u001b[39;00m \u001b[38;5;129;01mnot\u001b[39;00m (\u001b[38;5;28mself\u001b[39m\u001b[38;5;241m.\u001b[39m_backward_hooks \u001b[38;5;129;01mor\u001b[39;00m \u001b[38;5;28mself\u001b[39m\u001b[38;5;241m.\u001b[39m_backward_pre_hooks \u001b[38;5;129;01mor\u001b[39;00m \u001b[38;5;28mself\u001b[39m\u001b[38;5;241m.\u001b[39m_forward_hooks \u001b[38;5;129;01mor\u001b[39;00m \u001b[38;5;28mself\u001b[39m\u001b[38;5;241m.\u001b[39m_forward_pre_hooks\n\u001b[0;32m   1518\u001b[0m         \u001b[38;5;129;01mor\u001b[39;00m _global_backward_pre_hooks \u001b[38;5;129;01mor\u001b[39;00m _global_backward_hooks\n\u001b[0;32m   1519\u001b[0m         \u001b[38;5;129;01mor\u001b[39;00m _global_forward_hooks \u001b[38;5;129;01mor\u001b[39;00m _global_forward_pre_hooks):\n\u001b[1;32m-> 1520\u001b[0m     \u001b[38;5;28;01mreturn\u001b[39;00m forward_call(\u001b[38;5;241m*\u001b[39margs, \u001b[38;5;241m*\u001b[39m\u001b[38;5;241m*\u001b[39mkwargs)\n\u001b[0;32m   1522\u001b[0m \u001b[38;5;28;01mtry\u001b[39;00m:\n\u001b[0;32m   1523\u001b[0m     result \u001b[38;5;241m=\u001b[39m \u001b[38;5;28;01mNone\u001b[39;00m\n",
      "File \u001b[1;32m~\\anaconda3\\envs\\pytrchkl\\Lib\\site-packages\\torch\\nn\\modules\\batchnorm.py:142\u001b[0m, in \u001b[0;36m_BatchNorm.forward\u001b[1;34m(self, input)\u001b[0m\n\u001b[0;32m    141\u001b[0m \u001b[38;5;28;01mdef\u001b[39;00m \u001b[38;5;21mforward\u001b[39m(\u001b[38;5;28mself\u001b[39m, \u001b[38;5;28minput\u001b[39m: Tensor) \u001b[38;5;241m-\u001b[39m\u001b[38;5;241m>\u001b[39m Tensor:\n\u001b[1;32m--> 142\u001b[0m     \u001b[38;5;28mself\u001b[39m\u001b[38;5;241m.\u001b[39m_check_input_dim(\u001b[38;5;28minput\u001b[39m)\n\u001b[0;32m    144\u001b[0m     \u001b[38;5;66;03m# exponential_average_factor is set to self.momentum\u001b[39;00m\n\u001b[0;32m    145\u001b[0m     \u001b[38;5;66;03m# (when it is available) only so that it gets updated\u001b[39;00m\n\u001b[0;32m    146\u001b[0m     \u001b[38;5;66;03m# in ONNX graph when this node is exported to ONNX.\u001b[39;00m\n\u001b[0;32m    147\u001b[0m     \u001b[38;5;28;01mif\u001b[39;00m \u001b[38;5;28mself\u001b[39m\u001b[38;5;241m.\u001b[39mmomentum \u001b[38;5;129;01mis\u001b[39;00m \u001b[38;5;28;01mNone\u001b[39;00m:\n",
      "File \u001b[1;32m~\\anaconda3\\envs\\pytrchkl\\Lib\\site-packages\\torch\\nn\\modules\\batchnorm.py:420\u001b[0m, in \u001b[0;36mBatchNorm2d._check_input_dim\u001b[1;34m(self, input)\u001b[0m\n\u001b[0;32m    418\u001b[0m \u001b[38;5;28;01mdef\u001b[39;00m \u001b[38;5;21m_check_input_dim\u001b[39m(\u001b[38;5;28mself\u001b[39m, \u001b[38;5;28minput\u001b[39m):\n\u001b[0;32m    419\u001b[0m     \u001b[38;5;28;01mif\u001b[39;00m \u001b[38;5;28minput\u001b[39m\u001b[38;5;241m.\u001b[39mdim() \u001b[38;5;241m!=\u001b[39m \u001b[38;5;241m4\u001b[39m:\n\u001b[1;32m--> 420\u001b[0m         \u001b[38;5;28;01mraise\u001b[39;00m \u001b[38;5;167;01mValueError\u001b[39;00m(\u001b[38;5;124mf\u001b[39m\u001b[38;5;124m\"\u001b[39m\u001b[38;5;124mexpected 4D input (got \u001b[39m\u001b[38;5;132;01m{\u001b[39;00m\u001b[38;5;28minput\u001b[39m\u001b[38;5;241m.\u001b[39mdim()\u001b[38;5;132;01m}\u001b[39;00m\u001b[38;5;124mD input)\u001b[39m\u001b[38;5;124m\"\u001b[39m)\n",
      "\u001b[1;31mValueError\u001b[0m: expected 4D input (got 3D input)"
     ]
    }
   ],
   "source": [
    "cnn(image.unsqueeze(0))"
   ]
  },
  {
   "cell_type": "code",
   "execution_count": 36,
   "id": "4ea8d49e",
   "metadata": {},
   "outputs": [
    {
     "name": "stdout",
     "output_type": "stream",
     "text": [
      "Requirement already satisfied: augraphy in c:\\users\\varun gopal\\anaconda3\\envs\\pytrchkl\\lib\\site-packages (8.2.6)\n",
      "Requirement already satisfied: matplotlib>=3.4.3 in c:\\users\\varun gopal\\anaconda3\\envs\\pytrchkl\\lib\\site-packages (from augraphy) (3.7.2)\n",
      "Requirement already satisfied: numba>=0.57.0 in c:\\users\\varun gopal\\anaconda3\\envs\\pytrchkl\\lib\\site-packages (from augraphy) (0.57.1)\n",
      "Requirement already satisfied: numpy>=1.20.1 in c:\\users\\varun gopal\\anaconda3\\envs\\pytrchkl\\lib\\site-packages (from augraphy) (1.24.3)\n",
      "Requirement already satisfied: opencv-python>=4.5.1.48 in c:\\users\\varun gopal\\anaconda3\\envs\\pytrchkl\\lib\\site-packages (from augraphy) (4.10.0.84)\n",
      "Requirement already satisfied: Pillow>=8.0.0 in c:\\users\\varun gopal\\anaconda3\\envs\\pytrchkl\\lib\\site-packages (from augraphy) (9.4.0)\n",
      "Requirement already satisfied: requests>=2.25.1 in c:\\users\\varun gopal\\anaconda3\\envs\\pytrchkl\\lib\\site-packages (from augraphy) (2.31.0)\n",
      "Requirement already satisfied: scikit-image>=0.18.1 in c:\\users\\varun gopal\\anaconda3\\envs\\pytrchkl\\lib\\site-packages (from augraphy) (0.20.0)\n",
      "Requirement already satisfied: scikit-learn>=0.23.2 in c:\\users\\varun gopal\\anaconda3\\envs\\pytrchkl\\lib\\site-packages (from augraphy) (1.3.0)\n",
      "Requirement already satisfied: scipy>=1.6.3 in c:\\users\\varun gopal\\anaconda3\\envs\\pytrchkl\\lib\\site-packages (from augraphy) (1.11.1)\n",
      "Requirement already satisfied: contourpy>=1.0.1 in c:\\users\\varun gopal\\anaconda3\\envs\\pytrchkl\\lib\\site-packages (from matplotlib>=3.4.3->augraphy) (1.0.5)\n",
      "Requirement already satisfied: cycler>=0.10 in c:\\users\\varun gopal\\anaconda3\\envs\\pytrchkl\\lib\\site-packages (from matplotlib>=3.4.3->augraphy) (0.11.0)\n",
      "Requirement already satisfied: fonttools>=4.22.0 in c:\\users\\varun gopal\\anaconda3\\envs\\pytrchkl\\lib\\site-packages (from matplotlib>=3.4.3->augraphy) (4.25.0)\n",
      "Requirement already satisfied: kiwisolver>=1.0.1 in c:\\users\\varun gopal\\anaconda3\\envs\\pytrchkl\\lib\\site-packages (from matplotlib>=3.4.3->augraphy) (1.4.4)\n",
      "Requirement already satisfied: packaging>=20.0 in c:\\users\\varun gopal\\anaconda3\\envs\\pytrchkl\\lib\\site-packages (from matplotlib>=3.4.3->augraphy) (23.1)\n",
      "Requirement already satisfied: pyparsing<3.1,>=2.3.1 in c:\\users\\varun gopal\\anaconda3\\envs\\pytrchkl\\lib\\site-packages (from matplotlib>=3.4.3->augraphy) (3.0.9)\n",
      "Requirement already satisfied: python-dateutil>=2.7 in c:\\users\\varun gopal\\anaconda3\\envs\\pytrchkl\\lib\\site-packages (from matplotlib>=3.4.3->augraphy) (2.8.2)\n",
      "Requirement already satisfied: llvmlite<0.41,>=0.40.0dev0 in c:\\users\\varun gopal\\anaconda3\\envs\\pytrchkl\\lib\\site-packages (from numba>=0.57.0->augraphy) (0.40.0)\n",
      "Requirement already satisfied: charset-normalizer<4,>=2 in c:\\users\\varun gopal\\anaconda3\\envs\\pytrchkl\\lib\\site-packages (from requests>=2.25.1->augraphy) (2.0.4)\n",
      "Requirement already satisfied: idna<4,>=2.5 in c:\\users\\varun gopal\\anaconda3\\envs\\pytrchkl\\lib\\site-packages (from requests>=2.25.1->augraphy) (3.4)\n",
      "Requirement already satisfied: urllib3<3,>=1.21.1 in c:\\users\\varun gopal\\anaconda3\\envs\\pytrchkl\\lib\\site-packages (from requests>=2.25.1->augraphy) (1.26.16)\n",
      "Requirement already satisfied: certifi>=2017.4.17 in c:\\users\\varun gopal\\anaconda3\\envs\\pytrchkl\\lib\\site-packages (from requests>=2.25.1->augraphy) (2023.7.22)\n",
      "Requirement already satisfied: networkx>=2.8 in c:\\users\\varun gopal\\anaconda3\\envs\\pytrchkl\\lib\\site-packages (from scikit-image>=0.18.1->augraphy) (3.1)\n",
      "Requirement already satisfied: imageio>=2.4.1 in c:\\users\\varun gopal\\anaconda3\\envs\\pytrchkl\\lib\\site-packages (from scikit-image>=0.18.1->augraphy) (2.26.0)\n",
      "Requirement already satisfied: tifffile>=2019.7.26 in c:\\users\\varun gopal\\anaconda3\\envs\\pytrchkl\\lib\\site-packages (from scikit-image>=0.18.1->augraphy) (2023.4.12)\n",
      "Requirement already satisfied: PyWavelets>=1.1.1 in c:\\users\\varun gopal\\anaconda3\\envs\\pytrchkl\\lib\\site-packages (from scikit-image>=0.18.1->augraphy) (1.4.1)\n",
      "Requirement already satisfied: lazy_loader>=0.1 in c:\\users\\varun gopal\\anaconda3\\envs\\pytrchkl\\lib\\site-packages (from scikit-image>=0.18.1->augraphy) (0.2)\n",
      "Requirement already satisfied: joblib>=1.1.1 in c:\\users\\varun gopal\\anaconda3\\envs\\pytrchkl\\lib\\site-packages (from scikit-learn>=0.23.2->augraphy) (1.2.0)\n",
      "Requirement already satisfied: threadpoolctl>=2.0.0 in c:\\users\\varun gopal\\anaconda3\\envs\\pytrchkl\\lib\\site-packages (from scikit-learn>=0.23.2->augraphy) (2.2.0)\n",
      "Requirement already satisfied: six>=1.5 in c:\\users\\varun gopal\\anaconda3\\envs\\pytrchkl\\lib\\site-packages (from python-dateutil>=2.7->matplotlib>=3.4.3->augraphy) (1.16.0)\n",
      "Bases:  108\n",
      "Vms:  19\n",
      "Cms:  36\n",
      "189530 is the length of lines list...\n"
     ]
    }
   ],
   "source": [
    "from torchvision import datasets\n",
    "from torch.utils.data import Dataset,DataLoader\n",
    "from torchvision.utils import save_image\n",
    "from skimage.util import random_noise\n",
    "from PIL import Image\n",
    "!pip install augraphy\n",
    "from augraphy import *\n",
    "import numpy as np\n",
    "import torch\n",
    "import torchvision.transforms as transforms\n",
    "import os\n",
    "import random\n",
    "import cv2\n",
    "import matplotlib.pyplot as plt\n",
    "import matplotlib.image as mpimg\n",
    "\n",
    "\n",
    "dir = r'C:\\Users\\Varun Gopal\\Desktop\\TeluguOCR_MLProject\\KLA_Intern\\Dataset\\Images'\n",
    "NoiseImagePath = r'C:\\Users\\Varun Gopal\\Desktop\\TeluguOCR_MLProject\\KLA_Intern\\Dataset\\Cropped_Dataset\\Images'\n",
    "NoiseLabelPath = r'C:\\Users\\Varun Gopal\\Desktop\\TeluguOCR_MLProject\\KLA_Intern\\Dataset\\Cropped_Dataset\\Labels'\n",
    "\n",
    "# Define the transformation to convert the images to tensors and perform any other necessary preprocessing\n",
    "transform = transforms.Compose([\n",
    "    transforms.ToPILImage(),  # Ensure PIL\n",
    "    transforms.Grayscale(num_output_channels=1),  # Convert to single channel greyscale\n",
    "    transforms.ToTensor()  # Convert to a PyTorch tensor\n",
    "])\n",
    "\n",
    "\n",
    "acchulu = ['అ', 'ఆ', 'ఇ', 'ఈ', 'ఉ', 'ఊ', 'ఋ', 'ౠ', 'ఌ', 'ౡ', 'ఎ', 'ఏ', 'ఐ', 'ఒ', 'ఓ', 'ఔ', 'అం', 'అః']\n",
    "hallulu = ['క', 'ఖ', 'గ', 'ఘ', 'ఙ',\n",
    "           'చ', 'ఛ', 'జ', 'ఝ', 'ఞ',\n",
    "           'ట', 'ఠ', 'డ', 'ఢ', 'ణ',\n",
    "           'త', 'థ', 'ద', 'ధ', 'న',\n",
    "           'ప', 'ఫ', 'బ', 'భ', 'మ',\n",
    "           'య', 'ర', 'ల', 'వ', 'శ', 'ష', 'స', 'హ', 'ళ', 'క్ష', 'ఱ']\n",
    "vallulu = ['ా', 'ి', 'ీ', 'ు' , 'ూ', 'ృ', 'ౄ', 'ె', 'ే', 'ై', 'ొ', 'ో', 'ౌ', 'ం', 'ః', 'ఁ', 'ౕ', 'ౖ', 'ౢ']\n",
    "connector = ['్']\n",
    "numbers = ['౦', '౧', '౨', '౩', '౪', '౫', '౬', '౭', '౮', '౯']\n",
    "splcharacters= [' ', '!', '\"', '#', '$', '%', '&', \"'\", '(', ')',\n",
    "              '*', '+', ',', '-', '.', '/', ':', ';', '<', '=', '>', '?', '@', '[',\n",
    "              '\\\\', ']', '^', '_', '`', '{', '|', '}', '~', '1','2', '3', '4', '5', '6', '7', '8', '9', '0', 'ఽ']\n",
    "spl = splcharacters + numbers\n",
    "\n",
    "bases = acchulu + hallulu + spl\n",
    "vms = vallulu\n",
    "cms = hallulu\n",
    "\n",
    "print(\"Bases: \", len(bases))\n",
    "print(\"Vms: \", len(vms))\n",
    "print(\"Cms: \", len(cms))\n",
    "\n",
    "characters = bases+vms+cms+connector\n",
    "\n",
    "base_mapping = {}\n",
    "i = 2\n",
    "for x in bases:\n",
    "  base_mapping[x] = i\n",
    "  i+=1\n",
    "\n",
    "vm_mapping = {}\n",
    "i = 2\n",
    "for x in vms:\n",
    "  vm_mapping[x] = i\n",
    "  i+=1\n",
    "\n",
    "cm_mapping = {}\n",
    "i = 2\n",
    "for x in cms:\n",
    "  cm_mapping[x] = i\n",
    "  i+=1\n",
    "\n",
    "  \n",
    "# creates a list of dictionaries with each dictionary reporesenting a term\n",
    "def wordsDicts(s):\n",
    "  List = []\n",
    "  for i in range(len(s)):\n",
    "    x = s[i]\n",
    "    prev = ''\n",
    "    if i > 0: prev = s[i-1]\n",
    "    #----------------------------------is it a base term-----------------------\n",
    "    if((x in acchulu or x in hallulu)  and prev != connector[0]):\n",
    "      List.append({})\n",
    "      List[-1]['base'] = x\n",
    "    #----------------------------if it is a consonant modifier-----------------\n",
    "    elif x in hallulu and prev == connector[0]:\n",
    "      if(len(List) == 0):\n",
    "        print(x)\n",
    "      if('cm' not in List[-1]): List[-1]['cm'] = []\n",
    "      List[len(List)-1]['cm'].append(x)\n",
    "\n",
    "      #---------------------------if it is a vowel modifier--------------------\n",
    "    elif x in vallulu:\n",
    "      if(len(List) == 0):\n",
    "        print(x)\n",
    "\n",
    "      if('vm' not in List[-1]): List[-1]['vm'] = []\n",
    "      List[len(List)-1]['vm'].append(x)\n",
    "\n",
    "      #----------------------------it is a spl character-----------------------\n",
    "    elif x in spl:\n",
    "      List.append({})\n",
    "      List[len(List)-1]['base'] = x\n",
    "    else:\n",
    "      continue\n",
    "  return List\n",
    "\n",
    "\n",
    "def index_encoding(s):\n",
    "  List = wordsDicts(s)\n",
    "  onehot = []\n",
    "  for i in range(len(List)):\n",
    "    D = List[i]\n",
    "    onehotbase=  [1]\n",
    "    onehotvm1 =  [1]\n",
    "    onehotvm2 =  [1]\n",
    "    onehotvm3 =  [1]\n",
    "    onehotvm4 =  [1]\n",
    "    onehotcm1 =  [1]\n",
    "    onehotcm2 =  [1]\n",
    "    onehotcm3 =  [1]\n",
    "    onehotcm4 =  [1]\n",
    "\n",
    "\n",
    "    onehotbase[0] = base_mapping[D['base']]\n",
    "\n",
    "    it = 1\n",
    "    if('vm' in D):\n",
    "      for j in D['vm']:\n",
    "        if it == 1:\n",
    "          onehotvm1[0] = vm_mapping[j]\n",
    "        elif it == 2:\n",
    "          onehotvm2[0] = vm_mapping[j]\n",
    "        elif it == 3:\n",
    "          onehotvm3[0] = vm_mapping[j]\n",
    "        elif it == 4:\n",
    "          onehotvm4[0] = vm_mapping[j]\n",
    "        it += 1\n",
    "    \n",
    "    it = 1\n",
    "    if('cm' in D):\n",
    "      for j in D['cm']:\n",
    "        if it == 1:\n",
    "          onehotcm1[0] = cm_mapping[j]\n",
    "        elif it == 2:\n",
    "          onehotcm2[0] = cm_mapping[j]\n",
    "        elif it == 3:\n",
    "          onehotcm3[0] = cm_mapping[j]\n",
    "        elif it == 4:\n",
    "          onehotcm4[0] = cm_mapping[j]\n",
    "        it += 1\n",
    "    onehoti = onehotbase + onehotvm1 + onehotvm2 + onehotvm3 + onehotvm4 + onehotcm1 + onehotcm2 + onehotcm3 + onehotcm4 #size 110 + 2*21 + 2*38 = 228\n",
    "    onehot.append(onehoti)\n",
    "  return torch.tensor(onehot)\n",
    "\n",
    "def index_decoder(List):\n",
    "  x = \"\"\n",
    "  for onehoti in List:\n",
    "    if onehoti[0] > 1:\n",
    "      x += bases[onehoti[0]-2]\n",
    "\n",
    "    if onehoti[5] > 1:\n",
    "      x += connector[0]\n",
    "      x += cms[onehoti[5]-2]\n",
    "    if onehoti[6] > 1:\n",
    "      x += connector[0]\n",
    "      x += cms[onehoti[6]-2]\n",
    "    if onehoti[7] > 1:\n",
    "      x += connector[0]\n",
    "      x += cms[onehoti[7]-2]\n",
    "    if onehoti[8] > 1:\n",
    "      x += connector[0]\n",
    "      x += cms[onehoti[8]-2]\n",
    "\n",
    "    if onehoti[1] > 1:\n",
    "      x += vms[onehoti[1]-2]\n",
    "    if onehoti[2] > 1:\n",
    "      x += vms[onehoti[2]-2]\n",
    "    if onehoti[3] > 1:\n",
    "      x += vms[onehoti[3]-2]\n",
    "    if onehoti[4] > 1:\n",
    "      x += vms[onehoti[4]-2]\n",
    "  return x\n",
    "\n",
    "\n",
    "\n",
    "# Noise type 0\n",
    "def add_gaussian_noise(img):\n",
    "  img = transform(image)\n",
    "  gauss_img = torch.tensor(random_noise(img, mode='gaussian', mean=0, var=0.02, clip=True))\n",
    "  return gauss_img\n",
    "\n",
    "# Noise type 1\n",
    "inkbleed = InkBleed(intensity_range=(0.2, 1),\n",
    "                    kernel_size=(5, 5),\n",
    "                    severity=(0.2, 0.4)\n",
    "                    )\n",
    "\n",
    "# Noise type 2\n",
    "doubleexposure = DoubleExposure(gaussian_kernel_range=(2,3),\n",
    "                                offset_direction=1,\n",
    "                                offset_range=(2,4),\n",
    "                                )\n",
    "\n",
    "# Noise type 3\n",
    "hollow = Hollow(hollow_median_kernel_value_range = (51, 51),\n",
    "                hollow_min_width_range=(1, 1),\n",
    "                hollow_max_width_range=(15, 15),\n",
    "                hollow_min_height_range=(1, 1),\n",
    "                hollow_max_height_range=(15, 15),\n",
    "                hollow_min_area_range=(10, 10),\n",
    "                hollow_max_area_range=(50, 50),\n",
    "                hollow_dilation_kernel_size_range = (3, 3),\n",
    "                )\n",
    "\n",
    "# Noise type 4\n",
    "letterpress = Letterpress(n_samples=(20, 500),\n",
    "                          n_clusters=(30, 80),\n",
    "                          std_range=(150, 500),\n",
    "                          value_range=(10, 15),\n",
    "                          value_threshold_range=(128, 128),\n",
    "                          blur=1\n",
    "                          )\n",
    "\n",
    "# Noise type 5\n",
    "lighting_gradient_linear_static = LightingGradient(light_position=None,\n",
    "                                              direction=45,\n",
    "                                              max_brightness=150,\n",
    "                                              min_brightness=50,\n",
    "                                              mode=\"linear_static\",\n",
    "                                              linear_decay_rate = 0.5,\n",
    "                                              transparency=0.5\n",
    "                                              )\n",
    "\n",
    "# Noise type 6\n",
    "low_ink_periodic_line_consistent =  LowInkPeriodicLines(count_range=(1, 5),\n",
    "                                                        period_range=(1, 4),\n",
    "                                                        use_consistent_lines=False,\n",
    "                                                        noise_probability=0.02,\n",
    "                                                        )\n",
    "\n",
    "# Noise type 7\n",
    "shadowcast = ShadowCast(shadow_side = \"bottom\",\n",
    "                        shadow_vertices_range = (2, 3),\n",
    "                        shadow_width_range=(0.5, 0.8),\n",
    "                        shadow_height_range=(0.5, 0.8),\n",
    "                        shadow_color = (10, 10, 10),\n",
    "                        shadow_opacity_range=(0.5,0.6),\n",
    "                        shadow_iterations_range = (1,2),\n",
    "                        shadow_blur_kernel_range = (101, 301),\n",
    "                        )\n",
    "\n",
    "# Noise type 8\n",
    "folding = Folding(fold_count=3,\n",
    "                  fold_noise=0.0,\n",
    "                  fold_angle_range = (-360,360),\n",
    "                  gradient_width=(0.1, 0.5),\n",
    "                  gradient_height=(0.01, 0.05),\n",
    "                  backdrop_color = (255,255,255),\n",
    "                  )\n",
    "\n",
    "# Noise type 9\n",
    "book_binder_down = BookBinding(shadow_radius_range=(100, 100),\n",
    "                              curve_range_right=(1, 1),\n",
    "                              curve_range_left=(1, 1),\n",
    "                              curve_ratio_right = (1e-5, 1e-5),\n",
    "                              curve_ratio_left = (1e-5, 1e-5),\n",
    "                              mirror_range=(0, 0),\n",
    "                              binding_align = 2,\n",
    "                              binding_pages = (4,6),\n",
    "                              curling_direction=0,\n",
    "                              backdrop_color=(255, 255, 255),\n",
    "                              enable_shadow=1,\n",
    "                              use_cache_images = 0,\n",
    "                              )\n",
    "\n",
    "# Noise type 10\n",
    "inkshifter_obj = InkShifter(\n",
    "    text_shift_scale_range=(2, 7),\n",
    "    text_shift_factor_range=(1, 4),\n",
    "    text_fade_range=(0, 2),\n",
    "    noise_type = \"random\",\n",
    ")\n",
    "\n",
    "\n",
    "# load the txt file and read the file line by line.\n",
    "def read_file_lines(filename):\n",
    "    lines = []\n",
    "    try:\n",
    "        with open(filename, 'r', encoding='utf8') as file:\n",
    "            for line in file:\n",
    "                lines.append(line.strip())  # Remove trailing newline characters\n",
    "    except FileNotFoundError:\n",
    "        print(f\"File '{filename}' not found.\")\n",
    "    except Exception as e:\n",
    "        print(f\"An error occurred: {str(e)}\")\n",
    "    return lines\n",
    "\n",
    "\n",
    "lines = read_file_lines(r\"C:\\Users\\Varun Gopal\\Desktop\\TeluguOCR_MLProject\\KLA_Intern\\Dataset\\final_strings.txt\")\n",
    "\n",
    "num = 1\n",
    "a = b = 0\n",
    "\n",
    "types = []\n",
    "\n",
    "print(len(lines),\"is the length of lines list...\")\n",
    "\n",
    "\n",
    "\n"
   ]
  },
  {
   "cell_type": "code",
   "execution_count": 37,
   "id": "16bdbb8f",
   "metadata": {},
   "outputs": [
    {
     "name": "stdout",
     "output_type": "stream",
     "text": [
      "అగ్నిసూక్తం\n"
     ]
    }
   ],
   "source": [
    "print(lines[0])"
   ]
  },
  {
   "cell_type": "code",
   "execution_count": 38,
   "id": "d10c51a4",
   "metadata": {},
   "outputs": [
    {
     "data": {
      "text/plain": [
       "['అ', 'గ', '్', 'న', 'ి', 'స', 'ూ', 'క', '్', 'త', 'ం']"
      ]
     },
     "execution_count": 38,
     "metadata": {},
     "output_type": "execute_result"
    }
   ],
   "source": [
    "list(lines[0])"
   ]
  },
  {
   "cell_type": "code",
   "execution_count": 39,
   "id": "9e3f7a8c",
   "metadata": {},
   "outputs": [
    {
     "data": {
      "text/plain": [
       "[{'base': 'క', 'cm': ['త'], 'vm': ['ం']}]"
      ]
     },
     "execution_count": 39,
     "metadata": {},
     "output_type": "execute_result"
    }
   ],
   "source": [
    "wordsDicts('క్తం')"
   ]
  },
  {
   "cell_type": "code",
   "execution_count": 40,
   "id": "04619da3",
   "metadata": {},
   "outputs": [
    {
     "data": {
      "text/plain": [
       "torch.Size([19, 9])"
      ]
     },
     "execution_count": 40,
     "metadata": {},
     "output_type": "execute_result"
    }
   ],
   "source": [
    "index_encoding(lines[100]).shape"
   ]
  },
  {
   "cell_type": "code",
   "execution_count": 41,
   "id": "f3b1960b",
   "metadata": {},
   "outputs": [
    {
     "data": {
      "text/plain": [
       "'యదంగ దాశుషే త్వమగ్నే భద్రం కరిష్యసి'"
      ]
     },
     "execution_count": 41,
     "metadata": {},
     "output_type": "execute_result"
    }
   ],
   "source": [
    "lines[100]"
   ]
  },
  {
   "cell_type": "code",
   "execution_count": 42,
   "id": "30199c5a",
   "metadata": {},
   "outputs": [
    {
     "data": {
      "text/plain": [
       "'అ'"
      ]
     },
     "execution_count": 42,
     "metadata": {},
     "output_type": "execute_result"
    }
   ],
   "source": [
    "acchulu[0]"
   ]
  },
  {
   "cell_type": "code",
   "execution_count": 43,
   "id": "af0e10c5",
   "metadata": {},
   "outputs": [
    {
     "data": {
      "text/plain": [
       "'గ'"
      ]
     },
     "execution_count": 43,
     "metadata": {},
     "output_type": "execute_result"
    }
   ],
   "source": [
    "bases[20]"
   ]
  },
  {
   "cell_type": "code",
   "execution_count": 44,
   "id": "b7682f0b",
   "metadata": {},
   "outputs": [
    {
     "data": {
      "text/plain": [
       "'అగ్నిసూక్తం'"
      ]
     },
     "execution_count": 44,
     "metadata": {},
     "output_type": "execute_result"
    }
   ],
   "source": [
    "index_decoder(index_encoding(lines[0]))"
   ]
  },
  {
   "cell_type": "code",
   "execution_count": 45,
   "id": "9831ea6c",
   "metadata": {},
   "outputs": [
    {
     "data": {
      "text/plain": [
       "tensor([[45,  1,  1,  1,  1,  1,  1,  1,  1],\n",
       "        [37, 15,  1,  1,  1,  1,  1,  1,  1],\n",
       "        [22,  1,  1,  1,  1,  1,  1,  1,  1],\n",
       "        [56,  1,  1,  1,  1,  1,  1,  1,  1],\n",
       "        [37,  2,  1,  1,  1,  1,  1,  1,  1],\n",
       "        [49,  5,  1,  1,  1,  1,  1,  1,  1],\n",
       "        [50, 10,  1,  1,  1,  1,  1,  1,  1],\n",
       "        [56,  1,  1,  1,  1,  1,  1,  1,  1],\n",
       "        [35,  1,  1,  1,  1, 30,  1,  1,  1],\n",
       "        [44,  1,  1,  1,  1,  1,  1,  1,  1],\n",
       "        [22, 10,  1,  1,  1, 21,  1,  1,  1],\n",
       "        [56,  1,  1,  1,  1,  1,  1,  1,  1],\n",
       "        [43,  1,  1,  1,  1,  1,  1,  1,  1],\n",
       "        [37, 15,  1,  1,  1, 28,  1,  1,  1],\n",
       "        [56,  1,  1,  1,  1,  1,  1,  1,  1],\n",
       "        [20,  1,  1,  1,  1,  1,  1,  1,  1],\n",
       "        [46,  3,  1,  1,  1,  1,  1,  1,  1],\n",
       "        [50,  1,  1,  1,  1, 27,  1,  1,  1],\n",
       "        [51,  3,  1,  1,  1,  1,  1,  1,  1]])"
      ]
     },
     "execution_count": 45,
     "metadata": {},
     "output_type": "execute_result"
    }
   ],
   "source": [
    "index_encoding(lines[100])"
   ]
  },
  {
   "cell_type": "code",
   "execution_count": 52,
   "id": "3e5a64ca",
   "metadata": {},
   "outputs": [
    {
     "data": {
      "text/plain": [
       "torch.Size([1, 40, 800])"
      ]
     },
     "execution_count": 52,
     "metadata": {},
     "output_type": "execute_result"
    }
   ],
   "source": [
    "dataset[0][0].shape"
   ]
  },
  {
   "cell_type": "code",
   "execution_count": 46,
   "id": "e4181688",
   "metadata": {},
   "outputs": [
    {
     "data": {
      "text/plain": [
       "' '"
      ]
     },
     "execution_count": 46,
     "metadata": {},
     "output_type": "execute_result"
    }
   ],
   "source": [
    "bases[54]"
   ]
  },
  {
   "cell_type": "code",
   "execution_count": 47,
   "id": "7ed8d8d3",
   "metadata": {},
   "outputs": [
    {
     "ename": "TypeError",
     "evalue": "can't convert cuda:0 device type tensor to numpy. Use Tensor.cpu() to copy the tensor to host memory first.",
     "output_type": "error",
     "traceback": [
      "\u001b[1;31m---------------------------------------------------------------------------\u001b[0m",
      "\u001b[1;31mTypeError\u001b[0m                                 Traceback (most recent call last)",
      "Cell \u001b[1;32mIn[47], line 1\u001b[0m\n\u001b[1;32m----> 1\u001b[0m plt\u001b[38;5;241m.\u001b[39mimshow(image)\n",
      "File \u001b[1;32m~\\anaconda3\\envs\\pytrchkl\\Lib\\site-packages\\matplotlib\\pyplot.py:2695\u001b[0m, in \u001b[0;36mimshow\u001b[1;34m(X, cmap, norm, aspect, interpolation, alpha, vmin, vmax, origin, extent, interpolation_stage, filternorm, filterrad, resample, url, data, **kwargs)\u001b[0m\n\u001b[0;32m   2689\u001b[0m \u001b[38;5;129m@_copy_docstring_and_deprecators\u001b[39m(Axes\u001b[38;5;241m.\u001b[39mimshow)\n\u001b[0;32m   2690\u001b[0m \u001b[38;5;28;01mdef\u001b[39;00m \u001b[38;5;21mimshow\u001b[39m(\n\u001b[0;32m   2691\u001b[0m         X, cmap\u001b[38;5;241m=\u001b[39m\u001b[38;5;28;01mNone\u001b[39;00m, norm\u001b[38;5;241m=\u001b[39m\u001b[38;5;28;01mNone\u001b[39;00m, \u001b[38;5;241m*\u001b[39m, aspect\u001b[38;5;241m=\u001b[39m\u001b[38;5;28;01mNone\u001b[39;00m, interpolation\u001b[38;5;241m=\u001b[39m\u001b[38;5;28;01mNone\u001b[39;00m,\n\u001b[0;32m   2692\u001b[0m         alpha\u001b[38;5;241m=\u001b[39m\u001b[38;5;28;01mNone\u001b[39;00m, vmin\u001b[38;5;241m=\u001b[39m\u001b[38;5;28;01mNone\u001b[39;00m, vmax\u001b[38;5;241m=\u001b[39m\u001b[38;5;28;01mNone\u001b[39;00m, origin\u001b[38;5;241m=\u001b[39m\u001b[38;5;28;01mNone\u001b[39;00m, extent\u001b[38;5;241m=\u001b[39m\u001b[38;5;28;01mNone\u001b[39;00m,\n\u001b[0;32m   2693\u001b[0m         interpolation_stage\u001b[38;5;241m=\u001b[39m\u001b[38;5;28;01mNone\u001b[39;00m, filternorm\u001b[38;5;241m=\u001b[39m\u001b[38;5;28;01mTrue\u001b[39;00m, filterrad\u001b[38;5;241m=\u001b[39m\u001b[38;5;241m4.0\u001b[39m,\n\u001b[0;32m   2694\u001b[0m         resample\u001b[38;5;241m=\u001b[39m\u001b[38;5;28;01mNone\u001b[39;00m, url\u001b[38;5;241m=\u001b[39m\u001b[38;5;28;01mNone\u001b[39;00m, data\u001b[38;5;241m=\u001b[39m\u001b[38;5;28;01mNone\u001b[39;00m, \u001b[38;5;241m*\u001b[39m\u001b[38;5;241m*\u001b[39mkwargs):\n\u001b[1;32m-> 2695\u001b[0m     __ret \u001b[38;5;241m=\u001b[39m gca()\u001b[38;5;241m.\u001b[39mimshow(\n\u001b[0;32m   2696\u001b[0m         X, cmap\u001b[38;5;241m=\u001b[39mcmap, norm\u001b[38;5;241m=\u001b[39mnorm, aspect\u001b[38;5;241m=\u001b[39maspect,\n\u001b[0;32m   2697\u001b[0m         interpolation\u001b[38;5;241m=\u001b[39minterpolation, alpha\u001b[38;5;241m=\u001b[39malpha, vmin\u001b[38;5;241m=\u001b[39mvmin,\n\u001b[0;32m   2698\u001b[0m         vmax\u001b[38;5;241m=\u001b[39mvmax, origin\u001b[38;5;241m=\u001b[39morigin, extent\u001b[38;5;241m=\u001b[39mextent,\n\u001b[0;32m   2699\u001b[0m         interpolation_stage\u001b[38;5;241m=\u001b[39minterpolation_stage,\n\u001b[0;32m   2700\u001b[0m         filternorm\u001b[38;5;241m=\u001b[39mfilternorm, filterrad\u001b[38;5;241m=\u001b[39mfilterrad, resample\u001b[38;5;241m=\u001b[39mresample,\n\u001b[0;32m   2701\u001b[0m         url\u001b[38;5;241m=\u001b[39murl, \u001b[38;5;241m*\u001b[39m\u001b[38;5;241m*\u001b[39m({\u001b[38;5;124m\"\u001b[39m\u001b[38;5;124mdata\u001b[39m\u001b[38;5;124m\"\u001b[39m: data} \u001b[38;5;28;01mif\u001b[39;00m data \u001b[38;5;129;01mis\u001b[39;00m \u001b[38;5;129;01mnot\u001b[39;00m \u001b[38;5;28;01mNone\u001b[39;00m \u001b[38;5;28;01melse\u001b[39;00m {}),\n\u001b[0;32m   2702\u001b[0m         \u001b[38;5;241m*\u001b[39m\u001b[38;5;241m*\u001b[39mkwargs)\n\u001b[0;32m   2703\u001b[0m     sci(__ret)\n\u001b[0;32m   2704\u001b[0m     \u001b[38;5;28;01mreturn\u001b[39;00m __ret\n",
      "File \u001b[1;32m~\\anaconda3\\envs\\pytrchkl\\Lib\\site-packages\\matplotlib\\__init__.py:1446\u001b[0m, in \u001b[0;36m_preprocess_data.<locals>.inner\u001b[1;34m(ax, data, *args, **kwargs)\u001b[0m\n\u001b[0;32m   1443\u001b[0m \u001b[38;5;129m@functools\u001b[39m\u001b[38;5;241m.\u001b[39mwraps(func)\n\u001b[0;32m   1444\u001b[0m \u001b[38;5;28;01mdef\u001b[39;00m \u001b[38;5;21minner\u001b[39m(ax, \u001b[38;5;241m*\u001b[39margs, data\u001b[38;5;241m=\u001b[39m\u001b[38;5;28;01mNone\u001b[39;00m, \u001b[38;5;241m*\u001b[39m\u001b[38;5;241m*\u001b[39mkwargs):\n\u001b[0;32m   1445\u001b[0m     \u001b[38;5;28;01mif\u001b[39;00m data \u001b[38;5;129;01mis\u001b[39;00m \u001b[38;5;28;01mNone\u001b[39;00m:\n\u001b[1;32m-> 1446\u001b[0m         \u001b[38;5;28;01mreturn\u001b[39;00m func(ax, \u001b[38;5;241m*\u001b[39m\u001b[38;5;28mmap\u001b[39m(sanitize_sequence, args), \u001b[38;5;241m*\u001b[39m\u001b[38;5;241m*\u001b[39mkwargs)\n\u001b[0;32m   1448\u001b[0m     bound \u001b[38;5;241m=\u001b[39m new_sig\u001b[38;5;241m.\u001b[39mbind(ax, \u001b[38;5;241m*\u001b[39margs, \u001b[38;5;241m*\u001b[39m\u001b[38;5;241m*\u001b[39mkwargs)\n\u001b[0;32m   1449\u001b[0m     auto_label \u001b[38;5;241m=\u001b[39m (bound\u001b[38;5;241m.\u001b[39marguments\u001b[38;5;241m.\u001b[39mget(label_namer)\n\u001b[0;32m   1450\u001b[0m                   \u001b[38;5;129;01mor\u001b[39;00m bound\u001b[38;5;241m.\u001b[39mkwargs\u001b[38;5;241m.\u001b[39mget(label_namer))\n",
      "File \u001b[1;32m~\\anaconda3\\envs\\pytrchkl\\Lib\\site-packages\\matplotlib\\axes\\_axes.py:5663\u001b[0m, in \u001b[0;36mAxes.imshow\u001b[1;34m(self, X, cmap, norm, aspect, interpolation, alpha, vmin, vmax, origin, extent, interpolation_stage, filternorm, filterrad, resample, url, **kwargs)\u001b[0m\n\u001b[0;32m   5655\u001b[0m \u001b[38;5;28mself\u001b[39m\u001b[38;5;241m.\u001b[39mset_aspect(aspect)\n\u001b[0;32m   5656\u001b[0m im \u001b[38;5;241m=\u001b[39m mimage\u001b[38;5;241m.\u001b[39mAxesImage(\u001b[38;5;28mself\u001b[39m, cmap\u001b[38;5;241m=\u001b[39mcmap, norm\u001b[38;5;241m=\u001b[39mnorm,\n\u001b[0;32m   5657\u001b[0m                       interpolation\u001b[38;5;241m=\u001b[39minterpolation, origin\u001b[38;5;241m=\u001b[39morigin,\n\u001b[0;32m   5658\u001b[0m                       extent\u001b[38;5;241m=\u001b[39mextent, filternorm\u001b[38;5;241m=\u001b[39mfilternorm,\n\u001b[0;32m   5659\u001b[0m                       filterrad\u001b[38;5;241m=\u001b[39mfilterrad, resample\u001b[38;5;241m=\u001b[39mresample,\n\u001b[0;32m   5660\u001b[0m                       interpolation_stage\u001b[38;5;241m=\u001b[39minterpolation_stage,\n\u001b[0;32m   5661\u001b[0m                       \u001b[38;5;241m*\u001b[39m\u001b[38;5;241m*\u001b[39mkwargs)\n\u001b[1;32m-> 5663\u001b[0m im\u001b[38;5;241m.\u001b[39mset_data(X)\n\u001b[0;32m   5664\u001b[0m im\u001b[38;5;241m.\u001b[39mset_alpha(alpha)\n\u001b[0;32m   5665\u001b[0m \u001b[38;5;28;01mif\u001b[39;00m im\u001b[38;5;241m.\u001b[39mget_clip_path() \u001b[38;5;129;01mis\u001b[39;00m \u001b[38;5;28;01mNone\u001b[39;00m:\n\u001b[0;32m   5666\u001b[0m     \u001b[38;5;66;03m# image does not already have clipping set, clip to axes patch\u001b[39;00m\n",
      "File \u001b[1;32m~\\anaconda3\\envs\\pytrchkl\\Lib\\site-packages\\matplotlib\\image.py:697\u001b[0m, in \u001b[0;36m_ImageBase.set_data\u001b[1;34m(self, A)\u001b[0m\n\u001b[0;32m    695\u001b[0m \u001b[38;5;28;01mif\u001b[39;00m \u001b[38;5;28misinstance\u001b[39m(A, PIL\u001b[38;5;241m.\u001b[39mImage\u001b[38;5;241m.\u001b[39mImage):\n\u001b[0;32m    696\u001b[0m     A \u001b[38;5;241m=\u001b[39m pil_to_array(A)  \u001b[38;5;66;03m# Needed e.g. to apply png palette.\u001b[39;00m\n\u001b[1;32m--> 697\u001b[0m \u001b[38;5;28mself\u001b[39m\u001b[38;5;241m.\u001b[39m_A \u001b[38;5;241m=\u001b[39m cbook\u001b[38;5;241m.\u001b[39msafe_masked_invalid(A, copy\u001b[38;5;241m=\u001b[39m\u001b[38;5;28;01mTrue\u001b[39;00m)\n\u001b[0;32m    699\u001b[0m \u001b[38;5;28;01mif\u001b[39;00m (\u001b[38;5;28mself\u001b[39m\u001b[38;5;241m.\u001b[39m_A\u001b[38;5;241m.\u001b[39mdtype \u001b[38;5;241m!=\u001b[39m np\u001b[38;5;241m.\u001b[39muint8 \u001b[38;5;129;01mand\u001b[39;00m\n\u001b[0;32m    700\u001b[0m         \u001b[38;5;129;01mnot\u001b[39;00m np\u001b[38;5;241m.\u001b[39mcan_cast(\u001b[38;5;28mself\u001b[39m\u001b[38;5;241m.\u001b[39m_A\u001b[38;5;241m.\u001b[39mdtype, \u001b[38;5;28mfloat\u001b[39m, \u001b[38;5;124m\"\u001b[39m\u001b[38;5;124msame_kind\u001b[39m\u001b[38;5;124m\"\u001b[39m)):\n\u001b[0;32m    701\u001b[0m     \u001b[38;5;28;01mraise\u001b[39;00m \u001b[38;5;167;01mTypeError\u001b[39;00m(\u001b[38;5;124m\"\u001b[39m\u001b[38;5;124mImage data of dtype \u001b[39m\u001b[38;5;132;01m{}\u001b[39;00m\u001b[38;5;124m cannot be converted to \u001b[39m\u001b[38;5;124m\"\u001b[39m\n\u001b[0;32m    702\u001b[0m                     \u001b[38;5;124m\"\u001b[39m\u001b[38;5;124mfloat\u001b[39m\u001b[38;5;124m\"\u001b[39m\u001b[38;5;241m.\u001b[39mformat(\u001b[38;5;28mself\u001b[39m\u001b[38;5;241m.\u001b[39m_A\u001b[38;5;241m.\u001b[39mdtype))\n",
      "File \u001b[1;32m~\\anaconda3\\envs\\pytrchkl\\Lib\\site-packages\\matplotlib\\cbook\\__init__.py:714\u001b[0m, in \u001b[0;36msafe_masked_invalid\u001b[1;34m(x, copy)\u001b[0m\n\u001b[0;32m    713\u001b[0m \u001b[38;5;28;01mdef\u001b[39;00m \u001b[38;5;21msafe_masked_invalid\u001b[39m(x, copy\u001b[38;5;241m=\u001b[39m\u001b[38;5;28;01mFalse\u001b[39;00m):\n\u001b[1;32m--> 714\u001b[0m     x \u001b[38;5;241m=\u001b[39m np\u001b[38;5;241m.\u001b[39marray(x, subok\u001b[38;5;241m=\u001b[39m\u001b[38;5;28;01mTrue\u001b[39;00m, copy\u001b[38;5;241m=\u001b[39mcopy)\n\u001b[0;32m    715\u001b[0m     \u001b[38;5;28;01mif\u001b[39;00m \u001b[38;5;129;01mnot\u001b[39;00m x\u001b[38;5;241m.\u001b[39mdtype\u001b[38;5;241m.\u001b[39misnative:\n\u001b[0;32m    716\u001b[0m         \u001b[38;5;66;03m# If we have already made a copy, do the byteswap in place, else make a\u001b[39;00m\n\u001b[0;32m    717\u001b[0m         \u001b[38;5;66;03m# copy with the byte order swapped.\u001b[39;00m\n\u001b[0;32m    718\u001b[0m         x \u001b[38;5;241m=\u001b[39m x\u001b[38;5;241m.\u001b[39mbyteswap(inplace\u001b[38;5;241m=\u001b[39mcopy)\u001b[38;5;241m.\u001b[39mnewbyteorder(\u001b[38;5;124m'\u001b[39m\u001b[38;5;124mN\u001b[39m\u001b[38;5;124m'\u001b[39m)  \u001b[38;5;66;03m# Swap to native order.\u001b[39;00m\n",
      "File \u001b[1;32m~\\anaconda3\\envs\\pytrchkl\\Lib\\site-packages\\torch\\_tensor.py:1062\u001b[0m, in \u001b[0;36mTensor.__array__\u001b[1;34m(self, dtype)\u001b[0m\n\u001b[0;32m   1060\u001b[0m     \u001b[38;5;28;01mreturn\u001b[39;00m handle_torch_function(Tensor\u001b[38;5;241m.\u001b[39m__array__, (\u001b[38;5;28mself\u001b[39m,), \u001b[38;5;28mself\u001b[39m, dtype\u001b[38;5;241m=\u001b[39mdtype)\n\u001b[0;32m   1061\u001b[0m \u001b[38;5;28;01mif\u001b[39;00m dtype \u001b[38;5;129;01mis\u001b[39;00m \u001b[38;5;28;01mNone\u001b[39;00m:\n\u001b[1;32m-> 1062\u001b[0m     \u001b[38;5;28;01mreturn\u001b[39;00m \u001b[38;5;28mself\u001b[39m\u001b[38;5;241m.\u001b[39mnumpy()\n\u001b[0;32m   1063\u001b[0m \u001b[38;5;28;01melse\u001b[39;00m:\n\u001b[0;32m   1064\u001b[0m     \u001b[38;5;28;01mreturn\u001b[39;00m \u001b[38;5;28mself\u001b[39m\u001b[38;5;241m.\u001b[39mnumpy()\u001b[38;5;241m.\u001b[39mastype(dtype, copy\u001b[38;5;241m=\u001b[39m\u001b[38;5;28;01mFalse\u001b[39;00m)\n",
      "\u001b[1;31mTypeError\u001b[0m: can't convert cuda:0 device type tensor to numpy. Use Tensor.cpu() to copy the tensor to host memory first."
     ]
    },
    {
     "data": {
      "image/png": "[encoded data removed]",
      "text/plain": [
       "<Figure size 640x480 with 1 Axes>"
      ]
     },
     "metadata": {},
     "output_type": "display_data"
    }
   ],
   "source": [
    "plt.imshow(image)"
   ]
  },
  {
   "cell_type": "code",
   "execution_count": 61,
   "id": "be946e93",
   "metadata": {},
   "outputs": [
    {
     "data": {
      "text/plain": [
       "torch.Size([40, 581])"
      ]
     },
     "execution_count": 61,
     "metadata": {},
     "output_type": "execute_result"
    }
   ],
   "source": [
    "image.shape"
   ]
  },
  {
   "cell_type": "code",
   "execution_count": 67,
   "id": "8e67ca01",
   "metadata": {},
   "outputs": [],
   "source": [
    "model = nn.Sequential(\n",
    "    nn.Linear(200,100),\n",
    "    nn.Linear(100,200)\n",
    ")"
   ]
  },
  {
   "cell_type": "code",
   "execution_count": 74,
   "id": "471226ca",
   "metadata": {},
   "outputs": [
    {
     "ename": "AttributeError",
     "evalue": "'Sequential' object has no attribute 'weight'",
     "output_type": "error",
     "traceback": [
      "\u001b[1;31m---------------------------------------------------------------------------\u001b[0m",
      "\u001b[1;31mAttributeError\u001b[0m                            Traceback (most recent call last)",
      "Cell \u001b[1;32mIn[74], line 2\u001b[0m\n\u001b[0;32m      1\u001b[0m \u001b[38;5;28;01mfor\u001b[39;00m m \u001b[38;5;129;01min\u001b[39;00m model\u001b[38;5;241m.\u001b[39mmodules():\n\u001b[1;32m----> 2\u001b[0m     \u001b[38;5;28mprint\u001b[39m(m\u001b[38;5;241m.\u001b[39mweight\u001b[38;5;241m.\u001b[39mdata)\n",
      "File \u001b[1;32m~\\anaconda3\\envs\\pytrchkl\\Lib\\site-packages\\torch\\nn\\modules\\module.py:1688\u001b[0m, in \u001b[0;36mModule.__getattr__\u001b[1;34m(self, name)\u001b[0m\n\u001b[0;32m   1686\u001b[0m     \u001b[38;5;28;01mif\u001b[39;00m name \u001b[38;5;129;01min\u001b[39;00m modules:\n\u001b[0;32m   1687\u001b[0m         \u001b[38;5;28;01mreturn\u001b[39;00m modules[name]\n\u001b[1;32m-> 1688\u001b[0m \u001b[38;5;28;01mraise\u001b[39;00m \u001b[38;5;167;01mAttributeError\u001b[39;00m(\u001b[38;5;124mf\u001b[39m\u001b[38;5;124m\"\u001b[39m\u001b[38;5;124m'\u001b[39m\u001b[38;5;132;01m{\u001b[39;00m\u001b[38;5;28mtype\u001b[39m(\u001b[38;5;28mself\u001b[39m)\u001b[38;5;241m.\u001b[39m\u001b[38;5;18m__name__\u001b[39m\u001b[38;5;132;01m}\u001b[39;00m\u001b[38;5;124m'\u001b[39m\u001b[38;5;124m object has no attribute \u001b[39m\u001b[38;5;124m'\u001b[39m\u001b[38;5;132;01m{\u001b[39;00mname\u001b[38;5;132;01m}\u001b[39;00m\u001b[38;5;124m'\u001b[39m\u001b[38;5;124m\"\u001b[39m)\n",
      "\u001b[1;31mAttributeError\u001b[0m: 'Sequential' object has no attribute 'weight'"
     ]
    }
   ],
   "source": [
    "for m in model.modules():\n",
    "    print(m.weight.data)"
   ]
  },
  {
   "cell_type": "code",
   "execution_count": 77,
   "id": "b0a03658",
   "metadata": {},
   "outputs": [],
   "source": [
    "class myModel(nn.Module):\n",
    "    def __init__(self):\n",
    "        super()\n",
    "        self.nn1 = nn.Sequential(\n",
    "        nn.Linear(200,100),\n",
    "        nn.Linear(100,200)\n",
    "        )\n",
    "    "
   ]
  },
  {
   "cell_type": "code",
   "execution_count": 84,
   "id": "fb042d44",
   "metadata": {},
   "outputs": [],
   "source": [
    "a = np.array([[[1,2,3,4],[1,2,3,4],[1,2,3,4]],[[1,2,3,4],[1,2,3,4],[2,34,5,6]]])"
   ]
  },
  {
   "cell_type": "code",
   "execution_count": 85,
   "id": "d1a25ba7",
   "metadata": {},
   "outputs": [
    {
     "name": "stdout",
     "output_type": "stream",
     "text": [
      "[[[ 1  2  3  4]\n",
      "  [ 1  2  3  4]\n",
      "  [ 1  2  3  4]]\n",
      "\n",
      " [[ 1  2  3  4]\n",
      "  [ 1  2  3  4]\n",
      "  [ 2 34  5  6]]]\n"
     ]
    }
   ],
   "source": [
    "print(a)"
   ]
  },
  {
   "cell_type": "code",
   "execution_count": 86,
   "id": "c8cd0b45",
   "metadata": {},
   "outputs": [
    {
     "data": {
      "text/plain": [
       "(2, 3, 4)"
      ]
     },
     "execution_count": 86,
     "metadata": {},
     "output_type": "execute_result"
    }
   ],
   "source": [
    "a.shape"
   ]
  },
  {
   "cell_type": "code",
   "execution_count": 94,
   "id": "21ac72d3",
   "metadata": {},
   "outputs": [
    {
     "data": {
      "text/plain": [
       "array([[ 1,  2,  3,  4],\n",
       "       [ 1,  2,  3,  4],\n",
       "       [ 1,  2,  3,  4],\n",
       "       [ 1,  2,  3,  4],\n",
       "       [ 1,  2,  3,  4],\n",
       "       [ 2, 34,  5,  6]])"
      ]
     },
     "execution_count": 94,
     "metadata": {},
     "output_type": "execute_result"
    }
   ],
   "source": [
    "a.reshape(6,4)"
   ]
  },
  {
   "cell_type": "code",
   "execution_count": 98,
   "id": "461e46a6",
   "metadata": {},
   "outputs": [
    {
     "data": {
      "text/plain": [
       "array([[1, 2, 3, 4],\n",
       "       [1, 2, 3, 4],\n",
       "       [1, 2, 3, 4]])"
      ]
     },
     "execution_count": 98,
     "metadata": {},
     "output_type": "execute_result"
    }
   ],
   "source": [
    "a[0]"
   ]
  },
  {
   "cell_type": "code",
   "execution_count": 99,
   "id": "61a5c59e",
   "metadata": {},
   "outputs": [
    {
     "data": {
      "text/plain": [
       "array([[1, 2, 3],\n",
       "       [4, 1, 2],\n",
       "       [3, 4, 1],\n",
       "       [2, 3, 4]])"
      ]
     },
     "execution_count": 99,
     "metadata": {},
     "output_type": "execute_result"
    }
   ],
   "source": [
    "a[0].reshape(4,3)"
   ]
  },
  {
   "cell_type": "code",
   "execution_count": 102,
   "id": "a2d151df",
   "metadata": {},
   "outputs": [
    {
     "data": {
      "text/plain": [
       "(1, 2, 12)"
      ]
     },
     "execution_count": 102,
     "metadata": {},
     "output_type": "execute_result"
    }
   ],
   "source": [
    "a.reshape(1,2,-1).shape"
   ]
  },
  {
   "cell_type": "code",
   "execution_count": 140,
   "id": "50210bd2",
   "metadata": {},
   "outputs": [
    {
     "data": {
      "image/png": "[encoded data removed]",
      "text/plain": [
       "<Figure size 640x480 with 1 Axes>"
      ]
     },
     "metadata": {},
     "output_type": "display_data"
    },
    {
     "name": "stdout",
     "output_type": "stream",
     "text": [
      "ఏవం దృగ దృశ్యరూపేణ సంస్థితం భూతమండలం\n"
     ]
    }
   ],
   "source": [
    "file_num = 1\n",
    "num = 1\n",
    "\n",
    "image = torch.load(r\"C:/Users/Varun Gopal/Desktop/TeluguOCR_MLProject/KLA_Intern/Dataset/Cropped_Dataset/Images/Image100.pt\").to(torch.float32).to(device)\n",
    "label = torch.load(r\"C:/Users/Varun Gopal/Desktop/TeluguOCR_MLProject/KLA_Intern/Dataset/Cropped_Dataset/Labels/Label100.pt\").to(device)\n",
    "plt.imshow(image.cpu(), cmap='gray')\n",
    "plt.show()\n",
    "print(index_decoder(label))"
   ]
  },
  {
   "cell_type": "code",
   "execution_count": 155,
   "id": "f57ae7f6",
   "metadata": {},
   "outputs": [
    {
     "ename": "RuntimeError",
     "evalue": "shape '[1, 640, 100]' is invalid for input of size 59520",
     "output_type": "error",
     "traceback": [
      "\u001b[1;31m---------------------------------------------------------------------------\u001b[0m",
      "\u001b[1;31mRuntimeError\u001b[0m                              Traceback (most recent call last)",
      "Cell \u001b[1;32mIn[155], line 1\u001b[0m\n\u001b[1;32m----> 1\u001b[0m cnn_output \u001b[38;5;241m=\u001b[39m cnn(image\u001b[38;5;241m.\u001b[39munsqueeze(\u001b[38;5;241m0\u001b[39m)\u001b[38;5;241m.\u001b[39munsqueeze(\u001b[38;5;241m0\u001b[39m))\u001b[38;5;241m.\u001b[39munsqueeze(\u001b[38;5;241m1\u001b[39m)\u001b[38;5;241m.\u001b[39mto(device)\n\u001b[0;32m      2\u001b[0m \u001b[38;5;28mprint\u001b[39m(cnn_output\u001b[38;5;241m.\u001b[39mshape)\n",
      "File \u001b[1;32m~\\anaconda3\\envs\\pytrchkl\\Lib\\site-packages\\torch\\nn\\modules\\module.py:1511\u001b[0m, in \u001b[0;36mModule._wrapped_call_impl\u001b[1;34m(self, *args, **kwargs)\u001b[0m\n\u001b[0;32m   1509\u001b[0m     \u001b[38;5;28;01mreturn\u001b[39;00m \u001b[38;5;28mself\u001b[39m\u001b[38;5;241m.\u001b[39m_compiled_call_impl(\u001b[38;5;241m*\u001b[39margs, \u001b[38;5;241m*\u001b[39m\u001b[38;5;241m*\u001b[39mkwargs)  \u001b[38;5;66;03m# type: ignore[misc]\u001b[39;00m\n\u001b[0;32m   1510\u001b[0m \u001b[38;5;28;01melse\u001b[39;00m:\n\u001b[1;32m-> 1511\u001b[0m     \u001b[38;5;28;01mreturn\u001b[39;00m \u001b[38;5;28mself\u001b[39m\u001b[38;5;241m.\u001b[39m_call_impl(\u001b[38;5;241m*\u001b[39margs, \u001b[38;5;241m*\u001b[39m\u001b[38;5;241m*\u001b[39mkwargs)\n",
      "File \u001b[1;32m~\\anaconda3\\envs\\pytrchkl\\Lib\\site-packages\\torch\\nn\\modules\\module.py:1520\u001b[0m, in \u001b[0;36mModule._call_impl\u001b[1;34m(self, *args, **kwargs)\u001b[0m\n\u001b[0;32m   1515\u001b[0m \u001b[38;5;66;03m# If we don't have any hooks, we want to skip the rest of the logic in\u001b[39;00m\n\u001b[0;32m   1516\u001b[0m \u001b[38;5;66;03m# this function, and just call forward.\u001b[39;00m\n\u001b[0;32m   1517\u001b[0m \u001b[38;5;28;01mif\u001b[39;00m \u001b[38;5;129;01mnot\u001b[39;00m (\u001b[38;5;28mself\u001b[39m\u001b[38;5;241m.\u001b[39m_backward_hooks \u001b[38;5;129;01mor\u001b[39;00m \u001b[38;5;28mself\u001b[39m\u001b[38;5;241m.\u001b[39m_backward_pre_hooks \u001b[38;5;129;01mor\u001b[39;00m \u001b[38;5;28mself\u001b[39m\u001b[38;5;241m.\u001b[39m_forward_hooks \u001b[38;5;129;01mor\u001b[39;00m \u001b[38;5;28mself\u001b[39m\u001b[38;5;241m.\u001b[39m_forward_pre_hooks\n\u001b[0;32m   1518\u001b[0m         \u001b[38;5;129;01mor\u001b[39;00m _global_backward_pre_hooks \u001b[38;5;129;01mor\u001b[39;00m _global_backward_hooks\n\u001b[0;32m   1519\u001b[0m         \u001b[38;5;129;01mor\u001b[39;00m _global_forward_hooks \u001b[38;5;129;01mor\u001b[39;00m _global_forward_pre_hooks):\n\u001b[1;32m-> 1520\u001b[0m     \u001b[38;5;28;01mreturn\u001b[39;00m forward_call(\u001b[38;5;241m*\u001b[39margs, \u001b[38;5;241m*\u001b[39m\u001b[38;5;241m*\u001b[39mkwargs)\n\u001b[0;32m   1522\u001b[0m \u001b[38;5;28;01mtry\u001b[39;00m:\n\u001b[0;32m   1523\u001b[0m     result \u001b[38;5;241m=\u001b[39m \u001b[38;5;28;01mNone\u001b[39;00m\n",
      "Cell \u001b[1;32mIn[138], line 79\u001b[0m, in \u001b[0;36mEncoderCNN.forward\u001b[1;34m(self, x)\u001b[0m\n\u001b[0;32m     76\u001b[0m x \u001b[38;5;241m=\u001b[39m \u001b[38;5;28mself\u001b[39m\u001b[38;5;241m.\u001b[39mconv_seq21(x) \u001b[38;5;241m+\u001b[39m \u001b[38;5;28mself\u001b[39m\u001b[38;5;241m.\u001b[39mconv_seq22(x)\n\u001b[0;32m     77\u001b[0m x \u001b[38;5;241m=\u001b[39m \u001b[38;5;28mself\u001b[39m\u001b[38;5;241m.\u001b[39mconv_seq31(x) \u001b[38;5;241m+\u001b[39m \u001b[38;5;28mself\u001b[39m\u001b[38;5;241m.\u001b[39mconv_seq32(x)\n\u001b[1;32m---> 79\u001b[0m x \u001b[38;5;241m=\u001b[39m x\u001b[38;5;241m.\u001b[39mreshape(x\u001b[38;5;241m.\u001b[39mshape[\u001b[38;5;241m0\u001b[39m], \u001b[38;5;241m640\u001b[39m, \u001b[38;5;241m100\u001b[39m)\n\u001b[0;32m     80\u001b[0m xx \u001b[38;5;241m=\u001b[39m []\n\u001b[0;32m     81\u001b[0m \u001b[38;5;28;01mfor\u001b[39;00m i \u001b[38;5;129;01min\u001b[39;00m \u001b[38;5;28mrange\u001b[39m(x\u001b[38;5;241m.\u001b[39mshape[\u001b[38;5;241m0\u001b[39m]):\n",
      "\u001b[1;31mRuntimeError\u001b[0m: shape '[1, 640, 100]' is invalid for input of size 59520"
     ]
    }
   ],
   "source": [
    "cnn_output = cnn(image.unsqueeze(0).unsqueeze(0)).unsqueeze(1).to(device)\n",
    "print(cnn_output.shape)"
   ]
  },
  {
   "cell_type": "code",
   "execution_count": 151,
   "id": "09515d4e",
   "metadata": {},
   "outputs": [
    {
     "data": {
      "text/plain": [
       "torch.Size([40, 743])"
      ]
     },
     "execution_count": 151,
     "metadata": {},
     "output_type": "execute_result"
    }
   ],
   "source": [
    "image.shape"
   ]
  },
  {
   "cell_type": "code",
   "execution_count": 157,
   "id": "d88b4166",
   "metadata": {},
   "outputs": [
    {
     "data": {
      "text/plain": [
       "torch.Size([1, 1, 40, 743])"
      ]
     },
     "execution_count": 157,
     "metadata": {},
     "output_type": "execute_result"
    }
   ],
   "source": [
    "image.unsqueeze(0).unsqueeze(0).shape"
   ]
  },
  {
   "cell_type": "code",
   "execution_count": 128,
   "id": "d3dd3092",
   "metadata": {},
   "outputs": [],
   "source": [
    "def predictor(image):\n",
    "    layer1=cnn(image)\n",
    "    layer2=decoder(layer1)\n",
    "    D=layer2.clone()\n",
    "    D[:, :, 0:110] = F.softmax(D[:, :, 0:110], dim=2)\n",
    "    D[:, :, 110:131] = F.softmax(D[:, :, 110:131], dim=2)\n",
    "    D[:, :, 131:152] = F.softmax(D[:, :, 131:152], dim=2)\n",
    "    D[:, :, 152:190] = F.softmax(D[:, :, 152:190], dim=2)\n",
    "    D[:, :, 190:228] = F.softmax(D[:, :, 190:228], dim=2)\n",
    "    \n",
    "    print(D.shape)\n",
    "    s=\"\"\n",
    "    for i in range(100):\n",
    "        b=torch.argmax(D[i, 0, 0:110])\n",
    "        vm=torch.argmax(D[i,0,110:131])\n",
    "        print(bases[b+2])\n",
    "        s+=bases[b+2]\n",
    "#         print(b)\n",
    "    return s"
   ]
  },
  {
   "cell_type": "code",
   "execution_count": 129,
   "id": "4fa82932",
   "metadata": {},
   "outputs": [
    {
     "data": {
      "text/plain": [
       "tensor([[0., 0., 0.,  ..., 0., 0., 0.],\n",
       "        [0., 0., 0.,  ..., 0., 0., 0.],\n",
       "        [0., 0., 0.,  ..., 0., 0., 0.],\n",
       "        ...,\n",
       "        [0., 0., 0.,  ..., 0., 0., 0.],\n",
       "        [0., 0., 0.,  ..., 0., 0., 0.],\n",
       "        [0., 0., 0.,  ..., 0., 0., 0.]], device='cuda:0')"
      ]
     },
     "execution_count": 129,
     "metadata": {},
     "output_type": "execute_result"
    }
   ],
   "source": [
    "image"
   ]
  },
  {
   "cell_type": "code",
   "execution_count": 132,
   "id": "4829b154",
   "metadata": {},
   "outputs": [
    {
     "data": {
      "text/plain": [
       "<matplotlib.image.AxesImage at 0x2012c3b8b50>"
      ]
     },
     "execution_count": 132,
     "metadata": {},
     "output_type": "execute_result"
    },
    {
     "data": {
      "image/png": "[encoded data removed]",
      "text/plain": [
       "<Figure size 640x480 with 1 Axes>"
      ]
     },
     "metadata": {},
     "output_type": "display_data"
    }
   ],
   "source": [
    "plt.imshow(dataset[100][0].squeeze(0))"
   ]
  },
  {
   "cell_type": "code",
   "execution_count": 137,
   "id": "d0727d7d",
   "metadata": {},
   "outputs": [
    {
     "ename": "TypeError",
     "evalue": "only integer tensors of a single element can be converted to an index",
     "output_type": "error",
     "traceback": [
      "\u001b[1;31m---------------------------------------------------------------------------\u001b[0m",
      "\u001b[1;31mTypeError\u001b[0m                                 Traceback (most recent call last)",
      "Cell \u001b[1;32mIn[137], line 1\u001b[0m\n\u001b[1;32m----> 1\u001b[0m index_decoder(dataset[\u001b[38;5;241m100\u001b[39m][\u001b[38;5;241m1\u001b[39m])\n",
      "Cell \u001b[1;32mIn[36], line 160\u001b[0m, in \u001b[0;36mindex_decoder\u001b[1;34m(List)\u001b[0m\n\u001b[0;32m    158\u001b[0m \u001b[38;5;28;01mfor\u001b[39;00m onehoti \u001b[38;5;129;01min\u001b[39;00m List:\n\u001b[0;32m    159\u001b[0m   \u001b[38;5;28;01mif\u001b[39;00m onehoti[\u001b[38;5;241m0\u001b[39m] \u001b[38;5;241m>\u001b[39m \u001b[38;5;241m1\u001b[39m:\n\u001b[1;32m--> 160\u001b[0m     x \u001b[38;5;241m+\u001b[39m\u001b[38;5;241m=\u001b[39m bases[onehoti[\u001b[38;5;241m0\u001b[39m]\u001b[38;5;241m-\u001b[39m\u001b[38;5;241m2\u001b[39m]\n\u001b[0;32m    162\u001b[0m   \u001b[38;5;28;01mif\u001b[39;00m onehoti[\u001b[38;5;241m5\u001b[39m] \u001b[38;5;241m>\u001b[39m \u001b[38;5;241m1\u001b[39m:\n\u001b[0;32m    163\u001b[0m     x \u001b[38;5;241m+\u001b[39m\u001b[38;5;241m=\u001b[39m connector[\u001b[38;5;241m0\u001b[39m]\n",
      "\u001b[1;31mTypeError\u001b[0m: only integer tensors of a single element can be converted to an index"
     ]
    }
   ],
   "source": []
  },
  {
   "cell_type": "code",
   "execution_count": 20,
   "id": "0d0eb37b",
   "metadata": {},
   "outputs": [
    {
     "name": "stderr",
     "output_type": "stream",
     "text": [
      "C:\\Users\\Varun Gopal\\AppData\\Local\\Temp\\ipykernel_14020\\640092692.py:17: DeprecationWarning: textsize is deprecated and will be removed in Pillow 10 (2023-07-01). Use textbbox or textlength instead.\n",
      "  text_width, text_height = draw.textsize(telugu_text, font=font)\n"
     ]
    }
   ],
   "source": [
    "from PIL import Image, ImageDraw, ImageFont\n",
    "\n",
    "# Create a blank image with white background\n",
    "image = Image.new('RGB', (400, 100), color = 'white')\n",
    "\n",
    "# Load a Telugu font (make sure you have a Telugu font file in .ttf format)\n",
    "font_path = r\"C:\\Users\\Varun Gopal\\Desktop\\Noto Sans Telugu Regular\\Noto Sans Telugu Regular.ttf\"\n",
    "\n",
    "# Your Telugu text\n",
    "font_size = 20\n",
    "font = ImageFont.truetype(font_path, font_size)\n",
    "# Initialize ImageDraw object\n",
    "draw = ImageDraw.Draw(image)\n",
    "telugu_text = \"ఏవం దృగ దృశ్యరూపేణ సంస్థితం భూతమండలం\"\n",
    "\n",
    "# Calculate text size and position\n",
    "text_width, text_height = draw.textsize(telugu_text, font=font)\n",
    "x = (image.width - text_width) / 2\n",
    "y = (image.height - text_height) / 2\n",
    "\n",
    "# Draw text on image\n",
    "draw.text((x, y), telugu_text, font=font, fill='black')\n",
    "\n",
    "# Save or display the image\n",
    "# image.save('telugu_text_image.png')\n",
    "# image.show()"
   ]
  },
  {
   "cell_type": "code",
   "execution_count": 21,
   "id": "29fe883a",
   "metadata": {},
   "outputs": [
    {
     "data": {
      "text/plain": [
       "<matplotlib.image.AxesImage at 0x20ca5df8390>"
      ]
     },
     "execution_count": 21,
     "metadata": {},
     "output_type": "execute_result"
    },
    {
     "data": {
      "image/png": "[encoded data removed]",
      "text/plain": [
       "<Figure size 640x480 with 1 Axes>"
      ]
     },
     "metadata": {},
     "output_type": "display_data"
    }
   ],
   "source": [
    "import matplotlib.pyplot as plt\n",
    "plt.imshow(image)"
   ]
  },
  {
   "cell_type": "code",
   "execution_count": 11,
   "id": "31ea07f1",
   "metadata": {},
   "outputs": [
    {
     "data": {
      "text/plain": [
       "str"
      ]
     },
     "execution_count": 11,
     "metadata": {},
     "output_type": "execute_result"
    }
   ],
   "source": [
    "type(telugu_text)"
   ]
  },
  {
   "cell_type": "code",
   "execution_count": 25,
   "id": "b7531039",
   "metadata": {},
   "outputs": [
    {
     "name": "stderr",
     "output_type": "stream",
     "text": [
      "C:\\Users\\Varun Gopal\\AppData\\Local\\Temp\\ipykernel_14020\\617373764.py:20: UserWarning: Glyph 108 (l) missing from current font.\n",
      "  fig.savefig('telugu_text_image.png', dpi=300, bbox_inches='tight')\n",
      "C:\\Users\\Varun Gopal\\AppData\\Local\\Temp\\ipykernel_14020\\617373764.py:20: UserWarning: Glyph 112 (p) missing from current font.\n",
      "  fig.savefig('telugu_text_image.png', dpi=300, bbox_inches='tight')\n",
      "C:\\Users\\Varun Gopal\\anaconda3\\envs\\pytrchkl\\Lib\\site-packages\\IPython\\core\\pylabtools.py:152: UserWarning: Glyph 108 (l) missing from current font.\n",
      "  fig.canvas.print_figure(bytes_io, **kw)\n",
      "C:\\Users\\Varun Gopal\\anaconda3\\envs\\pytrchkl\\Lib\\site-packages\\IPython\\core\\pylabtools.py:152: UserWarning: Glyph 112 (p) missing from current font.\n",
      "  fig.canvas.print_figure(bytes_io, **kw)\n"
     ]
    },
    {
     "data": {
      "image/png": "[encoded data removed]",
      "text/plain": [
       "<Figure size 800x400 with 1 Axes>"
      ]
     },
     "metadata": {},
     "output_type": "display_data"
    }
   ],
   "source": [
    "import matplotlib.pyplot as plt\n",
    "from matplotlib.font_manager import FontProperties\n",
    "\n",
    "# Your Telugu text (Unicode string)\n",
    "telugu_text = \"మీ టెక్స్ట్ ఇక్కడ రాయండి\"\n",
    "\n",
    "# Font path to your Telugu font\n",
    "font_path = r\"C:\\Users\\Varun Gopal\\Desktop\\Noto Sans Telugu Regular\\Noto Sans Telugu Regular.ttf\"\n",
    "\n",
    "# Create a figure\n",
    "fig, ax = plt.subplots()\n",
    "\n",
    "# Display the Telugu text using the specified font file\n",
    "ax.text(0.5, 0.5, telugu_text, fontsize=24, ha='center', va='center', fontproperties=FontProperties(fname=font_path))\n",
    "\n",
    "# Adjust figure size (optional)\n",
    "fig.set_size_inches(8, 4)\n",
    "\n",
    "# Save the figure as PNG\n",
    "fig.savefig('telugu_text_image.png', dpi=300, bbox_inches='tight')\n",
    "\n",
    "# Display or close the figure\n",
    "plt.show()\n",
    "# plt.close(fig)  # Use this to close the figure automatically after saving\n"
   ]
  },
  {
   "cell_type": "code",
   "execution_count": null,
   "id": "d8d38264",
   "metadata": {},
   "outputs": [],
   "source": [
    "g"
   ]
  }
 ],
 "metadata": {
  "kernelspec": {
   "display_name": "Python 3 (ipykernel)",
   "language": "python",
   "name": "python3"
  },
  "language_info": {
   "codemirror_mode": {
    "name": "ipython",
    "version": 3
   },
   "file_extension": ".py",
   "mimetype": "text/x-python",
   "name": "python",
   "nbconvert_exporter": "python",
   "pygments_lexer": "ipython3",
   "version": "3.11.5"
  }
 },
 "nbformat": 4,
 "nbformat_minor": 5
}
